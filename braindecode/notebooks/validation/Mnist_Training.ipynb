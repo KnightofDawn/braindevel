{
 "cells": [
  {
   "cell_type": "code",
   "execution_count": 2,
   "metadata": {
    "collapsed": true
   },
   "outputs": [],
   "source": [
    "%%capture\n",
    "import os\n",
    "import site\n",
    "site.addsitedir('/home/schirrmr/.local/lib/python2.7/site-packages/')\n",
    "site.addsitedir('/usr/lib/pymodules/python2.7/')\n",
    "os.sys.path.insert(0, '/home/schirrmr/braindecode/code/')\n",
    "%cd /home/schirrmr/braindecode/code/braindecode/\n",
    "assert 'THEANO_FLAGS' in os.environ\n",
    "# switch to cpu\n",
    "#os.environ['THEANO_FLAGS'] = 'floatX=float32,device=cpu,nvcc.fastmath=True'\n",
    "%load_ext autoreload\n",
    "%autoreload 2"
   ]
  },
  {
   "cell_type": "code",
   "execution_count": 3,
   "metadata": {
    "collapsed": false
   },
   "outputs": [
    {
     "name": "stderr",
     "output_type": "stream",
     "text": [
      "Using gpu device 0: GeForce GTX 780 (CNMeM is disabled)\n"
     ]
    }
   ],
   "source": [
    "import numpy as np\n",
    "import theano\n",
    "import theano.tensor as T\n",
    "import lasagne\n",
    "\n",
    "import matplotlib.pyplot as plt\n",
    "%matplotlib inline\n",
    "\n",
    "import gzip\n",
    "import pickle"
   ]
  },
  {
   "cell_type": "code",
   "execution_count": null,
   "metadata": {
    "collapsed": true
   },
   "outputs": [],
   "source": [
    "# Seed for reproduciblity\n",
    "np.random.seed(42)"
   ]
  },
  {
   "cell_type": "code",
   "execution_count": 4,
   "metadata": {
    "collapsed": false
   },
   "outputs": [],
   "source": [
    "#!wget -N http://deeplearning.net/data/mnist/mnist.pkl.gz\n",
    "# have to do from commandline, otherwise blocked by firewall"
   ]
  },
  {
   "cell_type": "code",
   "execution_count": 5,
   "metadata": {
    "collapsed": false
   },
   "outputs": [],
   "source": [
    "train, val, test = pickle.load(gzip.open('data/mnist/mnist.pkl.gz'))\n",
    "\n",
    "X_train, y_train = train\n",
    "X_val, y_val = val"
   ]
  },
  {
   "cell_type": "code",
   "execution_count": 6,
   "metadata": {
    "collapsed": true
   },
   "outputs": [],
   "source": [
    "def batch_gen(X, y, N):\n",
    "    while True:\n",
    "        idx = np.random.choice(len(y), N)\n",
    "        yield X[idx].astype('float32'), y[idx].astype('int32')"
   ]
  },
  {
   "cell_type": "code",
   "execution_count": 10,
   "metadata": {
    "collapsed": true
   },
   "outputs": [],
   "source": [
    "# We need to reshape from a 1D feature vector to a 1 channel 2D image.\n",
    "# Then we apply 3 convolutional filters with 3x3 kernel size.\n",
    "l_in = lasagne.layers.InputLayer((None, 784))\n",
    "\n",
    "l_shape = lasagne.layers.ReshapeLayer(l_in, (-1, 1, 28, 28))\n",
    "\n",
    "l_conv = lasagne.layers.Conv2DLayer(l_shape, num_filters=3, filter_size=3)\n",
    "l_pool = lasagne.layers.Pool2DLayer(l_conv, pool_size=2, stride=2)\n",
    "l_conv2 = lasagne.layers.Conv2DLayer(l_pool, num_filters=3, filter_size=2)\n",
    "l_pool2 = lasagne.layers.Pool2DLayer(l_conv2, pool_size=2, stride=2)\n",
    "l_conv3 = lasagne.layers.Conv2DLayer(l_pool2, num_filters=10, filter_size=3)\n",
    "l_pool3 = lasagne.layers.Pool2DLayer(l_conv3, pool_size=2, stride=2)\n",
    "\n",
    "l_out = lasagne.layers.DenseLayer(l_pool3,\n",
    "                                  num_units=10,\n",
    "                                  nonlinearity=lasagne.nonlinearities.softmax)\n"
   ]
  },
  {
   "cell_type": "code",
   "execution_count": 8,
   "metadata": {
    "collapsed": true
   },
   "outputs": [],
   "source": [
    "from braindecode.veganlasagne.layers import print_layers"
   ]
  },
  {
   "cell_type": "code",
   "execution_count": 12,
   "metadata": {
    "collapsed": false
   },
   "outputs": [
    {
     "name": "stdout",
     "output_type": "stream",
     "text": [
      " 0 InputLayer                (None, 784)\n",
      " 1 ReshapeLayer              (None, 1, 28, 28)\n",
      " 2 Conv2DLayer               (None, 3, 26, 26)\n",
      " 3 Pool2DLayer               (None, 3, 13, 13)\n",
      " 4 Conv2DLayer               (None, 3, 12, 12)\n",
      " 5 Pool2DLayer               (None, 3, 6, 6)\n",
      " 6 Conv2DLayer               (None, 10, 4, 4)\n",
      " 7 Pool2DLayer               (None, 10, 2, 2)\n",
      " 8 DenseLayer                (None, 10)\n"
     ]
    }
   ],
   "source": [
    "print_layers(l_out)"
   ]
  },
  {
   "cell_type": "code",
   "execution_count": 15,
   "metadata": {
    "collapsed": false
   },
   "outputs": [
    {
     "name": "stdout",
     "output_type": "stream",
     "text": [
      "Epoch -1, Train (val) loss 0.105 (0.099) ratio 0.943\n",
      "Train (val) accuracy 0.967 (0.969)\n",
      "Epoch 0, Train (val) loss 0.093 (0.095) ratio 1.026\n",
      "Train (val) accuracy 0.971 (0.970)\n",
      "Epoch 1, Train (val) loss 0.100 (0.102) ratio 1.020\n",
      "Train (val) accuracy 0.969 (0.968)\n",
      "Epoch 2, Train (val) loss 0.095 (0.116) ratio 1.217\n",
      "Train (val) accuracy 0.971 (0.966)\n",
      "Epoch 3, Train (val) loss 0.095 (0.112) ratio 1.172\n",
      "Train (val) accuracy 0.970 (0.966)\n",
      "Epoch 4, Train (val) loss 0.098 (0.094) ratio 0.957\n",
      "Train (val) accuracy 0.968 (0.973)\n",
      "Epoch 5, Train (val) loss 0.097 (0.118) ratio 1.218\n",
      "Train (val) accuracy 0.970 (0.967)\n",
      "Epoch 6, Train (val) loss 0.097 (0.107) ratio 1.100\n",
      "Train (val) accuracy 0.970 (0.970)\n",
      "Epoch 7, Train (val) loss 0.089 (0.094) ratio 1.058\n",
      "Train (val) accuracy 0.971 (0.971)\n",
      "Epoch 8, Train (val) loss 0.095 (0.090) ratio 0.944\n",
      "Train (val) accuracy 0.970 (0.976)\n",
      "Epoch 9, Train (val) loss 0.095 (0.098) ratio 1.036\n",
      "Train (val) accuracy 0.971 (0.972)\n"
     ]
    }
   ],
   "source": [
    "# Compile and train the network.\n",
    "# Accuracy is much better than the single layer network, despite the small number of filters.\n",
    "X_sym = T.matrix()\n",
    "y_sym = T.ivector()\n",
    "\n",
    "output = lasagne.layers.get_output(l_out, X_sym)\n",
    "pred = output.argmax(-1)\n",
    "\n",
    "loss = T.mean(lasagne.objectives.categorical_crossentropy(output, y_sym))\n",
    "\n",
    "acc = T.mean(T.eq(pred, y_sym))\n",
    "\n",
    "params = lasagne.layers.get_all_params(l_out)\n",
    "grad = T.grad(loss, params)\n",
    "updates = lasagne.updates.adam(grad, params, learning_rate=0.005)\n",
    "\n",
    "f_train = theano.function([X_sym, y_sym], [loss, acc], updates=updates)\n",
    "f_val = theano.function([X_sym, y_sym], [loss, acc])\n",
    "f_predict = theano.function([X_sym], pred)\n",
    "\n",
    "BATCH_SIZE = 64\n",
    "N_BATCHES = len(X_train) // BATCH_SIZE\n",
    "N_VAL_BATCHES = len(X_val) // BATCH_SIZE\n",
    "\n",
    "train_batches = batch_gen(X_train, y_train, BATCH_SIZE)\n",
    "val_batches = batch_gen(X_val, y_val, BATCH_SIZE)\n",
    "\n",
    "#### Addition from me :see values before train (robintibor@gmail.com) ####\n",
    "train_loss = 0\n",
    "train_acc = 0\n",
    "for _ in range(N_BATCHES):\n",
    "    X, y = next(train_batches)\n",
    "    loss, acc = f_val(X, y)\n",
    "    train_loss += loss\n",
    "    train_acc += acc\n",
    "train_loss /= N_BATCHES\n",
    "train_acc /= N_BATCHES\n",
    "\n",
    "val_loss = 0\n",
    "val_acc = 0\n",
    "for _ in range(N_VAL_BATCHES):\n",
    "    X, y = next(val_batches)\n",
    "    loss, acc = f_val(X, y)\n",
    "    val_loss += loss\n",
    "    val_acc += acc\n",
    "val_loss /= N_VAL_BATCHES\n",
    "val_acc /= N_VAL_BATCHES\n",
    "print('Epoch {}, Train (val) loss {:.03f} ({:.03f}) ratio {:.03f}'.format(\n",
    "        -1, train_loss, val_loss, val_loss/train_loss))\n",
    "print('Train (val) accuracy {:.03f} ({:.03f})'.format(train_acc, val_acc))\n",
    "### End Addition from me (robintibor@gmail.com) ####\n",
    "\n",
    "for epoch in range(10):\n",
    "    train_loss = 0\n",
    "    train_acc = 0\n",
    "    for _ in range(N_BATCHES):\n",
    "        X, y = next(train_batches)\n",
    "        loss, acc = f_train(X, y)\n",
    "        train_loss += loss\n",
    "        train_acc += acc\n",
    "    train_loss /= N_BATCHES\n",
    "    train_acc /= N_BATCHES\n",
    "\n",
    "    val_loss = 0\n",
    "    val_acc = 0\n",
    "    for _ in range(N_VAL_BATCHES):\n",
    "        X, y = next(val_batches)\n",
    "        loss, acc = f_val(X, y)\n",
    "        val_loss += loss\n",
    "        val_acc += acc\n",
    "    val_loss /= N_VAL_BATCHES\n",
    "    val_acc /= N_VAL_BATCHES\n",
    "    \n",
    "    print('Epoch {}, Train (val) loss {:.03f} ({:.03f}) ratio {:.03f}'.format(\n",
    "            epoch, train_loss, val_loss, val_loss/train_loss))\n",
    "    print('Train (val) accuracy {:.03f} ({:.03f})'.format(train_acc, val_acc))"
   ]
  },
  {
   "cell_type": "code",
   "execution_count": 16,
   "metadata": {
    "collapsed": true
   },
   "outputs": [],
   "source": [
    "import pickle\n",
    "pickle.dump(l_out, open('data/mnist/three-conv-pool-10-filters.pkl', 'w'))"
   ]
  },
  {
   "cell_type": "code",
   "execution_count": 17,
   "metadata": {
    "collapsed": true
   },
   "outputs": [],
   "source": [
    "# We can look at the output after the convolutional layer \n",
    "filtered = lasagne.layers.get_output(l_conv, X_sym)\n",
    "f_filter = theano.function([X_sym], filtered)"
   ]
  },
  {
   "cell_type": "code",
   "execution_count": 18,
   "metadata": {
    "collapsed": false
   },
   "outputs": [
    {
     "name": "stdout",
     "output_type": "stream",
     "text": [
      "(10, 3, 26, 26)\n"
     ]
    }
   ],
   "source": [
    "# Filter the first few training examples\n",
    "im = f_filter(X_train[:10])\n",
    "print(im.shape)"
   ]
  },
  {
   "cell_type": "code",
   "execution_count": 19,
   "metadata": {
    "collapsed": true
   },
   "outputs": [],
   "source": [
    "# Rearrange dimension so we can plot the result as RGB images\n",
    "im = np.rollaxis(np.rollaxis(im, 3, 1), 3, 1)"
   ]
  },
  {
   "cell_type": "code",
   "execution_count": 20,
   "metadata": {
    "collapsed": false
   },
   "outputs": [
    {
     "data": {
      "image/png": "[encoded data removed]",
      "text/plain": [
       "<matplotlib.figure.Figure at 0x2b57c41843d0>"
      ]
     },
     "metadata": {},
     "output_type": "display_data"
    }
   ],
   "source": [
    "# We can see that each filter seems different features in the images\n",
    "# ie horizontal / diagonal / vertical segments\n",
    "plt.figure(figsize=(16,8))\n",
    "for i in range(10):\n",
    "    plt.subplot(1, 10, i+1)\n",
    "    plt.imshow(im[i], interpolation='nearest')\n",
    "    plt.axis('off')"
   ]
  },
  {
   "cell_type": "markdown",
   "metadata": {},
   "source": [
    "### Try Clustering"
   ]
  },
  {
   "cell_type": "code",
   "execution_count": 67,
   "metadata": {
    "collapsed": true
   },
   "outputs": [],
   "source": [
    "X_first_4 = X_val[y_val < 4][:1000]\n",
    "y_first_4 = y_val[y_val < 4][:1000]"
   ]
  },
  {
   "cell_type": "code",
   "execution_count": 70,
   "metadata": {
    "collapsed": true
   },
   "outputs": [],
   "source": [
    "input_var = T.fmatrix()\n",
    "\n",
    "out_layer = l_conv\n",
    "out_var = lasagne.layers.get_output(out_layer, deterministic=True, inputs=input_var)\n",
    "out_fn = theano.function([input_var], out_var)"
   ]
  },
  {
   "cell_type": "code",
   "execution_count": 71,
   "metadata": {
    "collapsed": false
   },
   "outputs": [],
   "source": [
    "all_out = out_fn(X_first_4)"
   ]
  },
  {
   "cell_type": "code",
   "execution_count": 72,
   "metadata": {
    "collapsed": true
   },
   "outputs": [],
   "source": [
    "flattened_out = all_out.reshape(all_out.shape[0],-1)"
   ]
  },
  {
   "cell_type": "code",
   "execution_count": 23,
   "metadata": {
    "collapsed": false
   },
   "outputs": [],
   "source": [
    "import sklearn.metrics"
   ]
  },
  {
   "cell_type": "code",
   "execution_count": 73,
   "metadata": {
    "collapsed": false
   },
   "outputs": [
    {
     "data": {
      "text/plain": [
       "(1000, 2352)"
      ]
     },
     "execution_count": 73,
     "metadata": {},
     "output_type": "execute_result"
    }
   ],
   "source": [
    "flattened_out.shape"
   ]
  },
  {
   "cell_type": "code",
   "execution_count": 74,
   "metadata": {
    "collapsed": false
   },
   "outputs": [],
   "source": [
    "pairwise_distances = sklearn.metrics.pairwise.pairwise_distances(flattened_out)"
   ]
  },
  {
   "cell_type": "code",
   "execution_count": 75,
   "metadata": {
    "collapsed": false
   },
   "outputs": [],
   "source": [
    "sorted_dist = np.sort(pairwise_distances, axis=1)"
   ]
  },
  {
   "cell_type": "code",
   "execution_count": 76,
   "metadata": {
    "collapsed": true
   },
   "outputs": [],
   "source": [
    "k_neighbours = 5\n",
    "dist_to_k_th_neighbour = sorted_dist[:,k_neighbours+1] #1 to ignore distance to self"
   ]
  },
  {
   "cell_type": "code",
   "execution_count": 77,
   "metadata": {
    "collapsed": false
   },
   "outputs": [],
   "source": [
    "dist_to_k_th_neighbour_sorted = np.sort(dist_to_k_th_neighbour)"
   ]
  },
  {
   "cell_type": "code",
   "execution_count": 78,
   "metadata": {
    "collapsed": false
   },
   "outputs": [
    {
     "data": {
      "text/plain": [
       "[<matplotlib.lines.Line2D at 0x2b2ad31ae410>]"
      ]
     },
     "execution_count": 78,
     "metadata": {},
     "output_type": "execute_result"
    },
    {
     "data": {
      "image/png": "[encoded data removed]",
      "text/plain": [
       "<matplotlib.figure.Figure at 0x2b2ad2fd9690>"
      ]
     },
     "metadata": {},
     "output_type": "display_data"
    }
   ],
   "source": [
    "plt.plot(range(len(dist_to_k_th_neighbour_sorted)), dist_to_k_th_neighbour_sorted)"
   ]
  },
  {
   "cell_type": "code",
   "execution_count": 114,
   "metadata": {
    "collapsed": false
   },
   "outputs": [
    {
     "name": "stdout",
     "output_type": "stream",
     "text": [
      "CPU times: user 6.69 s, sys: 4 ms, total: 6.7 s\n",
      "Wall time: 6.69 s\n"
     ]
    }
   ],
   "source": [
    "%%time\n",
    "from sklearn.cluster import DBSCAN\n",
    "clusterer = DBSCAN(eps=9, min_samples=5)\n",
    "fitted_labels = clusterer.fit_predict(flattened_out)"
   ]
  },
  {
   "cell_type": "code",
   "execution_count": 115,
   "metadata": {
    "collapsed": false
   },
   "outputs": [
    {
     "data": {
      "image/png": "[encoded data removed]",
      "text/plain": [
       "<matplotlib.figure.Figure at 0x2b2ad38aeb50>"
      ]
     },
     "metadata": {},
     "output_type": "display_data"
    }
   ],
   "source": [
    "plt.hist(fitted_labels)\n",
    "None"
   ]
  },
  {
   "cell_type": "code",
   "execution_count": 105,
   "metadata": {
    "collapsed": false
   },
   "outputs": [
    {
     "data": {
      "text/plain": [
       "array([-1.,  0.,  1.,  2.])"
      ]
     },
     "execution_count": 105,
     "metadata": {},
     "output_type": "execute_result"
    }
   ],
   "source": [
    "np.unique(fitted_labels)"
   ]
  },
  {
   "cell_type": "code",
   "execution_count": 131,
   "metadata": {
    "collapsed": true
   },
   "outputs": [],
   "source": []
  },
  {
   "cell_type": "code",
   "execution_count": 122,
   "metadata": {
    "collapsed": true
   },
   "outputs": [],
   "source": [
    "from braindecode.veganlasagne.layers import get_input_shape\n",
    "from numpy.random import RandomState\n",
    "from braindecode.analysis.cluster import optimize_to_move_to_cluster"
   ]
  },
  {
   "cell_type": "code",
   "execution_count": 138,
   "metadata": {
    "collapsed": false
   },
   "outputs": [],
   "source": [
    "rand_in_var, update_fn = optimize_to_move_to_cluster(out_layer,n_cluster_samples=k_neighbours)"
   ]
  },
  {
   "cell_type": "code",
   "execution_count": 139,
   "metadata": {
    "collapsed": false
   },
   "outputs": [
    {
     "data": {
      "text/plain": [
       "<matplotlib.image.AxesImage at 0x2b2af521ee10>"
      ]
     },
     "execution_count": 139,
     "metadata": {},
     "output_type": "execute_result"
    },
    {
     "data": {
      "image/png": "[encoded data removed]",
      "text/plain": [
       "<matplotlib.figure.Figure at 0x2b2ad958dfd0>"
      ]
     },
     "metadata": {},
     "output_type": "display_data"
    }
   ],
   "source": [
    "from copy import deepcopy\n",
    "orig_val = deepcopy(rand_in_var.get_value())\n",
    "plt.imshow(orig_val.reshape(28,28), interpolation='nearest', cmap=cm.Greys)"
   ]
  },
  {
   "cell_type": "code",
   "execution_count": 166,
   "metadata": {
    "collapsed": false
   },
   "outputs": [
    {
     "name": "stdout",
     "output_type": "stream",
     "text": [
      "3.52229619026\n",
      "0.0055050435476\n",
      "0.00422381609678\n",
      "0.00379522377625\n",
      "0.00368546950631\n",
      "0.00362440384924\n",
      "0.00358467781916\n",
      "0.0035457983613\n",
      "0.00350264040753\n",
      "0.00346016185358\n"
     ]
    },
    {
     "data": {
      "text/plain": [
       "<matplotlib.image.AxesImage at 0x2b2af5c1c250>"
      ]
     },
     "execution_count": 166,
     "metadata": {},
     "output_type": "execute_result"
    },
    {
     "data": {
      "image/png": "[encoded data removed]",
      "text/plain": [
       "<matplotlib.figure.Figure at 0x2b2af56e7c90>"
      ]
     },
     "metadata": {},
     "output_type": "display_data"
    }
   ],
   "source": [
    "rand_in_var, update_fn = optimize_to_move_to_cluster(out_layer,n_cluster_samples=k_neighbours)\n",
    "cluster_activations = all_out[fitted_labels == 0]\n",
    "for i_epoch in range(1000):\n",
    "    cost = update_fn(cluster_activations)\n",
    "    if i_epoch % 100 == 0:\n",
    "        print cost\n",
    "plt.imshow(rand_in_var.get_value().reshape(28,28), interpolation='nearest', cmap=cm.Greys)"
   ]
  },
  {
   "cell_type": "code",
   "execution_count": 172,
   "metadata": {
    "collapsed": false
   },
   "outputs": [
    {
     "name": "stdout",
     "output_type": "stream",
     "text": [
      "3.5007584095\n",
      "0.00889925006777\n",
      "0.00830311607569\n",
      "0.00786565896124\n",
      "0.00777446199208\n",
      "0.00769696151838\n",
      "0.0075340308249\n",
      "0.00752338999882\n",
      "0.00767458975315\n",
      "0.00758221605793\n"
     ]
    },
    {
     "data": {
      "image/png": "[encoded data removed]",
      "text/plain": [
       "<matplotlib.figure.Figure at 0x2b2ad99e1e90>"
      ]
     },
     "metadata": {},
     "output_type": "display_data"
    }
   ],
   "source": [
    "rand_in_var, update_fn = optimize_to_move_to_cluster(out_layer,n_cluster_samples=k_neighbours,\n",
    "                                                    learning_rate=0.3)\n",
    "cluster_activations = all_out[y_first_4 == 0]\n",
    "for i_epoch in range(1000):\n",
    "    cost = update_fn(cluster_activations)\n",
    "    if i_epoch % 100 == 0:\n",
    "        print cost\n",
    "plt.imshow(rand_in_var.get_value().reshape(28,28), interpolation='nearest', cmap=cm.Greys)\n",
    "None"
   ]
  },
  {
   "cell_type": "code",
   "execution_count": 173,
   "metadata": {
    "collapsed": false
   },
   "outputs": [
    {
     "name": "stdout",
     "output_type": "stream",
     "text": [
      "3.56233143806\n",
      "0.00393679738045\n",
      "0.00374796940014\n",
      "0.0036729821004\n",
      "0.00362389092334\n",
      "0.00356906233355\n",
      "0.00348122604191\n",
      "0.00346776540391\n",
      "0.00351077015512\n",
      "0.00338252866641\n"
     ]
    },
    {
     "data": {
      "image/png": "[encoded data removed]",
      "text/plain": [
       "<matplotlib.figure.Figure at 0x2b2ad97e1bd0>"
      ]
     },
     "metadata": {},
     "output_type": "display_data"
    }
   ],
   "source": [
    "rand_in_var, update_fn = optimize_to_move_to_cluster(out_layer,n_cluster_samples=k_neighbours,\n",
    "                                                    learning_rate=0.3)\n",
    "cluster_activations = all_out[y_first_4 == 1]\n",
    "for i_epoch in range(1000):\n",
    "    cost = update_fn(cluster_activations)\n",
    "    if i_epoch % 100 == 0:\n",
    "        print cost\n",
    "plt.imshow(rand_in_var.get_value().reshape(28,28), interpolation='nearest', cmap=cm.Greys)\n",
    "None"
   ]
  },
  {
   "cell_type": "code",
   "execution_count": 175,
   "metadata": {
    "collapsed": false
   },
   "outputs": [
    {
     "name": "stdout",
     "output_type": "stream",
     "text": [
      "3.50185537338\n",
      "0.00895832292736\n",
      "0.00842970144004\n",
      "0.00806428864598\n",
      "0.00795775093138\n",
      "0.00788822304457\n",
      "0.00756447855383\n",
      "0.00747500965372\n",
      "0.00756855681539\n",
      "0.0076447497122\n"
     ]
    },
    {
     "data": {
      "image/png": "[encoded data removed]",
      "text/plain": [
       "<matplotlib.figure.Figure at 0x2b2ad98c3210>"
      ]
     },
     "metadata": {},
     "output_type": "display_data"
    }
   ],
   "source": [
    "mean_squared = lambda x: T.mean(T.square(x)) * 0.001\n",
    "rand_in_var, update_fn = optimize_to_move_to_cluster(out_layer,n_cluster_samples=k_neighbours,\n",
    "                                                    learning_rate=0.3,\n",
    "                                                    input_cost=mean_squared)\n",
    "cluster_activations = all_out[y_first_4 == 0]\n",
    "for i_epoch in range(1000):\n",
    "    cost = update_fn(cluster_activations)\n",
    "    if i_epoch % 100 == 0:\n",
    "        print cost\n",
    "plt.imshow(rand_in_var.get_value().reshape(28,28), interpolation='nearest', cmap=cm.Greys)\n",
    "None"
   ]
  },
  {
   "cell_type": "code",
   "execution_count": 177,
   "metadata": {
    "collapsed": false
   },
   "outputs": [
    {
     "name": "stdout",
     "output_type": "stream",
     "text": [
      "3.50185537338\n",
      "0.00895832292736\n",
      "0.00842970144004\n",
      "0.00806428864598\n",
      "0.00795774720609\n",
      "0.00790626369417\n",
      "0.00757942628115\n",
      "0.0074642682448\n",
      "0.00756353000179\n",
      "0.00761948339641\n"
     ]
    },
    {
     "data": {
      "image/png": "[encoded data removed]",
      "text/plain": [
       "<matplotlib.figure.Figure at 0x2b2af728e050>"
      ]
     },
     "metadata": {},
     "output_type": "display_data"
    }
   ],
   "source": [
    "mean_squared = lambda x: T.mean(T.square(x)) * 0.001\n",
    "rand_in_var, update_fn = optimize_to_move_to_cluster(out_layer,n_cluster_samples=k_neighbours,\n",
    "                                                    learning_rate=0.3,\n",
    "                                                    input_cost=mean_squared)\n",
    "cluster_activations = all_out[y_first_4 == 0]\n",
    "for i_epoch in range(1000):\n",
    "    cost = update_fn(cluster_activations)\n",
    "    if i_epoch % 100 == 0:\n",
    "        print cost\n",
    "plt.imshow(rand_in_var.get_value().reshape(28,28), interpolation='nearest', cmap=cm.Greys)\n",
    "None"
   ]
  },
  {
   "cell_type": "code",
   "execution_count": 178,
   "metadata": {
    "collapsed": false
   },
   "outputs": [
    {
     "name": "stdout",
     "output_type": "stream",
     "text": [
      "3.49882888794\n",
      "0.0153798600659\n",
      "0.014633637853\n",
      "0.0141381276771\n",
      "0.0137028936297\n",
      "0.0136744119227\n",
      "0.0136534254998\n",
      "0.0135344266891\n",
      "0.0135008459911\n",
      "0.0135594392195\n"
     ]
    },
    {
     "data": {
      "image/png": "[encoded data removed]",
      "text/plain": [
       "<matplotlib.figure.Figure at 0x2b2af6d68690>"
      ]
     },
     "metadata": {},
     "output_type": "display_data"
    }
   ],
   "source": [
    "mean_squared = lambda x: T.mean(T.square(x)) * 0.001\n",
    "rand_in_var, update_fn = optimize_to_move_to_cluster(out_layer,n_cluster_samples=k_neighbours,\n",
    "                                                    learning_rate=0.3,\n",
    "                                                    input_cost=mean_squared)\n",
    "cluster_activations = all_out[y_first_4 == 2]\n",
    "for i_epoch in range(1000):\n",
    "    cost = update_fn(cluster_activations)\n",
    "    if i_epoch % 100 == 0:\n",
    "        print cost\n",
    "plt.imshow(rand_in_var.get_value().reshape(28,28), interpolation='nearest', cmap=cm.Greys)\n",
    "None"
   ]
  },
  {
   "cell_type": "code",
   "execution_count": 179,
   "metadata": {
    "collapsed": false
   },
   "outputs": [
    {
     "name": "stdout",
     "output_type": "stream",
     "text": [
      "3.50485134125\n",
      "0.0166840925813\n",
      "0.0160824749619\n",
      "0.0157204214483\n",
      "0.0156630966812\n",
      "0.0155411558226\n",
      "0.0155343608931\n",
      "0.0155158909038\n",
      "0.0156468432397\n",
      "0.0156899187714\n"
     ]
    },
    {
     "data": {
      "image/png": "[encoded data removed]",
      "text/plain": [
       "<matplotlib.figure.Figure at 0x2b2ad9a3bdd0>"
      ]
     },
     "metadata": {},
     "output_type": "display_data"
    }
   ],
   "source": [
    "mean_squared = lambda x: T.mean(T.square(x)) * 0.001\n",
    "rand_in_var, update_fn = optimize_to_move_to_cluster(out_layer,n_cluster_samples=k_neighbours,\n",
    "                                                    learning_rate=0.3,\n",
    "                                                    input_cost=mean_squared)\n",
    "cluster_activations = all_out[y_first_4 == 3]\n",
    "for i_epoch in range(1000):\n",
    "    cost = update_fn(cluster_activations)\n",
    "    if i_epoch % 100 == 0:\n",
    "        print cost\n",
    "plt.imshow(rand_in_var.get_value().reshape(28,28), interpolation='nearest', cmap=cm.Greys)\n",
    "None"
   ]
  },
  {
   "cell_type": "markdown",
   "metadata": {},
   "source": [
    "## Verification of reshape correctness"
   ]
  },
  {
   "cell_type": "code",
   "execution_count": 130,
   "metadata": {
    "collapsed": false
   },
   "outputs": [
    {
     "data": {
      "text/plain": [
       "<matplotlib.image.AxesImage at 0x2b2ad34ac910>"
      ]
     },
     "execution_count": 130,
     "metadata": {},
     "output_type": "execute_result"
    },
    {
     "data": {
      "image/png": "[encoded data removed]",
      "text/plain": [
       "<matplotlib.figure.Figure at 0x2b2ad3a30fd0>"
      ]
     },
     "metadata": {},
     "output_type": "display_data"
    }
   ],
   "source": [
    "from matplotlib import cm\n",
    "im = X_train[2].reshape(28,28)\n",
    "plt.imshow(im, interpolation='nearest',cmap=cm.Greys)"
   ]
  }
 ],
 "metadata": {
  "kernelspec": {
   "display_name": "Python 2",
   "language": "python",
   "name": "python2"
  },
  "language_info": {
   "codemirror_mode": {
    "name": "ipython",
    "version": 2
   },
   "file_extension": ".py",
   "mimetype": "text/x-python",
   "name": "python",
   "nbconvert_exporter": "python",
   "pygments_lexer": "ipython2",
   "version": "2.7.6"
  }
 },
 "nbformat": 4,
 "nbformat_minor": 0
}
