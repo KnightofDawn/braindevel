{
 "cells": [
  {
   "cell_type": "code",
   "execution_count": 1,
   "metadata": {
    "collapsed": true
   },
   "outputs": [],
   "source": [
    "%%capture\n",
    "import os\n",
    "import site\n",
    "site.addsitedir('/home/schirrmr/.local/lib/python2.7/site-packages/')\n",
    "site.addsitedir('/usr/lib/pymodules/python2.7/')\n",
    "os.sys.path.insert(0, '/home/schirrmr/braindecode/code/')\n",
    "%cd /home/schirrmr/braindecode/code/braindecode/\n",
    "assert 'THEANO_FLAGS' in os.environ\n",
    "# switch to cpu\n",
    "#os.environ['THEANO_FLAGS'] = 'floatX=float32,device=cpu,nvcc.fastmath=True'\n",
    "%load_ext autoreload\n",
    "%autoreload 2"
   ]
  },
  {
   "cell_type": "code",
   "execution_count": 2,
   "metadata": {
    "collapsed": false
   },
   "outputs": [
    {
     "name": "stderr",
     "output_type": "stream",
     "text": [
      "Using gpu device 0: GeForce GTX TITAN Black (CNMeM is disabled, CuDNN 3007)\n"
     ]
    }
   ],
   "source": [
    "import numpy as np\n",
    "import theano\n",
    "import theano.tensor as T\n",
    "import lasagne\n",
    "\n",
    "import matplotlib.pyplot as plt\n",
    "%matplotlib inline\n",
    "\n",
    "import gzip\n",
    "import pickle"
   ]
  },
  {
   "cell_type": "code",
   "execution_count": 3,
   "metadata": {
    "collapsed": true
   },
   "outputs": [],
   "source": [
    "# Seed for reproduciblity\n",
    "np.random.seed(42)"
   ]
  },
  {
   "cell_type": "code",
   "execution_count": 4,
   "metadata": {
    "collapsed": false
   },
   "outputs": [],
   "source": [
    "#!wget -N http://deeplearning.net/data/mnist/mnist.pkl.gz\n",
    "# have to do from commandline, otherwise blocked by firewall"
   ]
  },
  {
   "cell_type": "code",
   "execution_count": 5,
   "metadata": {
    "collapsed": false
   },
   "outputs": [],
   "source": [
    "train, val, test = pickle.load(gzip.open('data/mnist/mnist.pkl.gz'))\n",
    "\n",
    "X_train, y_train = train\n",
    "X_val, y_val = val"
   ]
  },
  {
   "cell_type": "code",
   "execution_count": 6,
   "metadata": {
    "collapsed": true
   },
   "outputs": [],
   "source": [
    "def batch_gen(X, y, N):\n",
    "    while True:\n",
    "        idx = np.random.choice(len(y), N)\n",
    "        yield X[idx].astype('float32'), y[idx].astype('int32')"
   ]
  },
  {
   "cell_type": "markdown",
   "metadata": {},
   "source": [
    "## 3-conv-pool model"
   ]
  },
  {
   "cell_type": "code",
   "execution_count": 7,
   "metadata": {
    "collapsed": true
   },
   "outputs": [],
   "source": [
    "# We need to reshape from a 1D feature vector to a 1 channel 2D image.\n",
    "# Then we apply 3 convolutional filters with 3x3 kernel size.\n",
    "l_in = lasagne.layers.InputLayer((None, 28*56))\n",
    "\n",
    "l_shape = lasagne.layers.ReshapeLayer(l_in, (-1, 1, 28, 56))\n",
    "\n",
    "l_conv = lasagne.layers.Conv2DLayer(l_shape, num_filters=3, filter_size=3)\n",
    "l_pool = lasagne.layers.Pool2DLayer(l_conv, pool_size=2, stride=2)\n",
    "l_conv2 = lasagne.layers.Conv2DLayer(l_pool, num_filters=3, filter_size=2)\n",
    "l_pool2 = lasagne.layers.Pool2DLayer(l_conv2, pool_size=2, stride=2)\n",
    "l_conv3 = lasagne.layers.Conv2DLayer(l_pool2, num_filters=3, filter_size=(3,2))\n",
    "l_pool3 = lasagne.layers.Pool2DLayer(l_conv3, pool_size=2, stride=2)\n",
    "\n",
    "l_out = lasagne.layers.DenseLayer(l_pool3,\n",
    "                                  num_units=2,\n",
    "                                  nonlinearity=lasagne.nonlinearities.softmax)\n"
   ]
  },
  {
   "cell_type": "markdown",
   "metadata": {},
   "source": [
    "### Dense model"
   ]
  },
  {
   "cell_type": "code",
   "execution_count": 8,
   "metadata": {
    "collapsed": true
   },
   "outputs": [],
   "source": [
    "nonlin = lasagne.nonlinearities.rectify\n",
    "l_in = lasagne.layers.InputLayer((None, 28*56))\n",
    "# reshape just for convenience of heatmap function later\n",
    "l_shape = lasagne.layers.ReshapeLayer(l_in, (-1, 1, 28, 56))\n",
    "l_out = lasagne.layers.DenseLayer(l_shape,\n",
    "                                  num_units=5,\n",
    "                                  nonlinearity=nonlin)\n",
    "l_out = lasagne.layers.DenseLayer(l_out,\n",
    "                                  num_units=5,\n",
    "                                  nonlinearity=nonlin)\n",
    "l_out = lasagne.layers.DenseLayer(l_out,\n",
    "                                  num_units=2,\n",
    "                                  nonlinearity=lasagne.nonlinearities.softmax)"
   ]
  },
  {
   "cell_type": "code",
   "execution_count": 9,
   "metadata": {
    "collapsed": false
   },
   "outputs": [],
   "source": [
    "from braindecode.veganlasagne.layer_util import print_layers"
   ]
  },
  {
   "cell_type": "code",
   "execution_count": 10,
   "metadata": {
    "collapsed": false
   },
   "outputs": [
    {
     "name": "stdout",
     "output_type": "stream",
     "text": [
      " 0 InputLayer                                                         (None, 1568)\n",
      " 1 ReshapeLayer                                                       (None, 1, 28, 56)\n",
      " 2 DenseLayer                                         rectify         (None, 5)\n",
      " 3 DenseLayer                                         rectify        \n",
      " 4 DenseLayer                                         softmax         (None, 2)\n",
      "\n"
     ]
    }
   ],
   "source": [
    "print_layers(l_out)"
   ]
  },
  {
   "cell_type": "code",
   "execution_count": 11,
   "metadata": {
    "collapsed": false
   },
   "outputs": [],
   "source": [
    "X_train_topo = X_train.reshape(X_train.shape[0], 28,28)\n",
    "X_val_topo = X_val.reshape(X_val.shape[0], 28,28)\n"
   ]
  },
  {
   "cell_type": "code",
   "execution_count": 12,
   "metadata": {
    "collapsed": false
   },
   "outputs": [],
   "source": [
    "from numpy.random import RandomState\n",
    "\n",
    "rng = RandomState(98787)\n",
    "random_inds = range(len(X_train))\n",
    "rng.shuffle(random_inds)\n",
    "\n",
    "X_train_topo_both = np.concatenate([X_train_topo, X_train_topo[random_inds]], axis=2)\n",
    "X_train_flat_both = X_train_topo_both.reshape(X_train_topo_both.shape[0],-1)\n",
    "y_train_both = np.logical_or(y_train < 3, y_train[random_inds] < 3).astype(np.int32)\n",
    "\n",
    "rng = RandomState(987837)\n",
    "random_val_inds = range(len(X_val))\n",
    "rng.shuffle(random_val_inds)\n",
    "X_val_topo_both = np.concatenate([X_val_topo, X_val_topo[random_val_inds]], axis=2)\n",
    "X_val_flat_both = X_val_topo_both.reshape(X_val_topo_both.shape[0],-1)\n",
    "y_val_both = np.logical_or(y_val < 3, y_val[random_val_inds] < 3).astype(np.int32)\n"
   ]
  },
  {
   "cell_type": "code",
   "execution_count": 13,
   "metadata": {
    "collapsed": false
   },
   "outputs": [
    {
     "data": {
      "text/plain": [
       "<matplotlib.image.AxesImage at 0x2ae00e31a810>"
      ]
     },
     "execution_count": 13,
     "metadata": {},
     "output_type": "execute_result"
    },
    {
     "data": {
      "image/png": "[encoded data removed]",
      "text/plain": [
       "<matplotlib.figure.Figure at 0x2ae00e1abc10>"
      ]
     },
     "metadata": {},
     "output_type": "display_data"
    }
   ],
   "source": [
    "plt.imshow(X_train_topo_both[0], interpolation='nearest')"
   ]
  },
  {
   "cell_type": "code",
   "execution_count": 15,
   "metadata": {
    "collapsed": false
   },
   "outputs": [
    {
     "name": "stdout",
     "output_type": "stream",
     "text": [
      "Epoch -1, Train (val) loss 0.168 (0.177) ratio 1.055\n",
      "Train (val) accuracy 0.941 (0.939)\n",
      "Epoch 0, Train (val) loss 0.171 (0.192) ratio 1.119\n",
      "Train (val) accuracy 0.942 (0.929)\n",
      "Epoch 1, Train (val) loss 0.168 (0.182) ratio 1.082\n",
      "Train (val) accuracy 0.941 (0.937)\n",
      "Epoch 2, Train (val) loss 0.162 (0.184) ratio 1.131\n",
      "Train (val) accuracy 0.944 (0.936)\n",
      "Epoch 3, Train (val) loss 0.164 (0.189) ratio 1.150\n",
      "Train (val) accuracy 0.943 (0.934)\n",
      "Epoch 4, Train (val) loss 0.158 (0.181) ratio 1.144\n",
      "Train (val) accuracy 0.945 (0.933)\n",
      "Epoch 5, Train (val) loss 0.156 (0.175) ratio 1.121\n",
      "Train (val) accuracy 0.947 (0.942)\n",
      "Epoch 6, Train (val) loss 0.153 (0.174) ratio 1.135\n",
      "Train (val) accuracy 0.948 (0.942)\n",
      "Epoch 7, Train (val) loss 0.151 (0.175) ratio 1.158\n",
      "Train (val) accuracy 0.948 (0.939)\n",
      "Epoch 8, Train (val) loss 0.148 (0.208) ratio 1.408\n",
      "Train (val) accuracy 0.949 (0.924)\n",
      "Epoch 9, Train (val) loss 0.148 (0.179) ratio 1.210\n",
      "Train (val) accuracy 0.949 (0.940)\n"
     ]
    }
   ],
   "source": [
    "# Compile and train the network.\n",
    "# Accuracy is much better than the single layer network, despite the small number of filters.\n",
    "X_sym = T.matrix()\n",
    "y_sym = T.ivector()\n",
    "\n",
    "output = lasagne.layers.get_output(l_out, X_sym)\n",
    "pred = output.argmax(-1)\n",
    "\n",
    "loss = T.mean(lasagne.objectives.categorical_crossentropy(output, y_sym))\n",
    "\n",
    "acc = T.mean(T.eq(pred, y_sym))\n",
    "\n",
    "params = lasagne.layers.get_all_params(l_out)\n",
    "\n",
    "# add bias loss\n",
    "for bias in params[1::2]:\n",
    "    loss += T.sum(T.sqr(bias * (bias >0)))\n",
    "    loss -= T.sum(T.sqr(bias * (bias <0) * (bias > -0.05)))\n",
    "\n",
    "grad = T.grad(loss, params)\n",
    "updates = lasagne.updates.adam(grad, params, learning_rate=0.005)\n",
    "\n",
    "f_train = theano.function([X_sym, y_sym], [loss, acc], updates=updates)\n",
    "f_val = theano.function([X_sym, y_sym], [loss, acc])\n",
    "f_predict = theano.function([X_sym], pred)\n",
    "\n",
    "BATCH_SIZE = 64\n",
    "N_BATCHES = len(X_train) // BATCH_SIZE\n",
    "N_VAL_BATCHES = len(X_val) // BATCH_SIZE\n",
    "\n",
    "train_batches = batch_gen(X_train_flat_both, y_train_both, BATCH_SIZE)\n",
    "val_batches = batch_gen(X_val_flat_both, y_val_both, BATCH_SIZE)\n",
    "\n",
    "#### Addition from me :see values before train (robintibor@gmail.com) ####\n",
    "train_loss = 0\n",
    "train_acc = 0\n",
    "for _ in range(N_BATCHES):\n",
    "    X, y = next(train_batches)\n",
    "    loss, acc = f_val(X, y)\n",
    "    train_loss += loss\n",
    "    train_acc += acc\n",
    "train_loss /= N_BATCHES\n",
    "train_acc /= N_BATCHES\n",
    "\n",
    "val_loss = 0\n",
    "val_acc = 0\n",
    "for _ in range(N_VAL_BATCHES):\n",
    "    X, y = next(val_batches)\n",
    "    loss, acc = f_val(X, y)\n",
    "    val_loss += loss\n",
    "    val_acc += acc\n",
    "val_loss /= N_VAL_BATCHES\n",
    "val_acc /= N_VAL_BATCHES\n",
    "print('Epoch {}, Train (val) loss {:.03f} ({:.03f}) ratio {:.03f}'.format(\n",
    "        -1, train_loss, val_loss, val_loss/train_loss))\n",
    "print('Train (val) accuracy {:.03f} ({:.03f})'.format(train_acc, val_acc))\n",
    "### End Addition from me (robintibor@gmail.com) ####\n",
    "\n",
    "for epoch in range(10):\n",
    "    train_loss = 0\n",
    "    train_acc = 0\n",
    "    for _ in range(N_BATCHES):\n",
    "        X, y = next(train_batches)\n",
    "        loss, acc = f_train(X, y)\n",
    "        train_loss += loss\n",
    "        train_acc += acc\n",
    "    train_loss /= N_BATCHES\n",
    "    train_acc /= N_BATCHES\n",
    "\n",
    "    val_loss = 0\n",
    "    val_acc = 0\n",
    "    for _ in range(N_VAL_BATCHES):\n",
    "        X, y = next(val_batches)\n",
    "        loss, acc = f_val(X, y)\n",
    "        val_loss += loss\n",
    "        val_acc += acc\n",
    "    val_loss /= N_VAL_BATCHES\n",
    "    val_acc /= N_VAL_BATCHES\n",
    "    \n",
    "    print('Epoch {}, Train (val) loss {:.03f} ({:.03f}) ratio {:.03f}'.format(\n",
    "            epoch, train_loss, val_loss, val_loss/train_loss))\n",
    "    print('Train (val) accuracy {:.03f} ({:.03f})'.format(train_acc, val_acc))"
   ]
  },
  {
   "cell_type": "code",
   "execution_count": 16,
   "metadata": {
    "collapsed": false
   },
   "outputs": [
    {
     "data": {
      "text/plain": [
       "[array([-1.05837369, -0.28118742, -0.05079203, -0.72035843, -0.10019903], dtype=float32),\n",
       " array([-0.0606023 , -0.11233313, -2.69224501, -0.16423835, -0.48130903], dtype=float32),\n",
       " array([-3.70844579, -0.08581568], dtype=float32)]"
      ]
     },
     "execution_count": 16,
     "metadata": {},
     "output_type": "execute_result"
    }
   ],
   "source": [
    "lasagne.layers.get_all_param_values(lasagne.layers.get_all_layers(l_out))[1::2]"
   ]
  },
  {
   "cell_type": "code",
   "execution_count": 17,
   "metadata": {
    "collapsed": true
   },
   "outputs": [],
   "source": [
    "import pickle\n",
    "pickle.dump(l_out, open('data/mnist/two-digit/dense-relu-negative-bias.pkl', 'w'))"
   ]
  },
  {
   "cell_type": "code",
   "execution_count": 17,
   "metadata": {
    "collapsed": true
   },
   "outputs": [],
   "source": [
    "# We can look at the output after the convolutional layer \n",
    "filtered = lasagne.layers.get_output(l_conv, X_sym)\n",
    "f_filter = theano.function([X_sym], filtered)"
   ]
  },
  {
   "cell_type": "code",
   "execution_count": 18,
   "metadata": {
    "collapsed": false
   },
   "outputs": [
    {
     "name": "stdout",
     "output_type": "stream",
     "text": [
      "(10, 3, 26, 26)\n"
     ]
    }
   ],
   "source": [
    "# Filter the first few training examples\n",
    "im = f_filter(X_train[:10])\n",
    "print(im.shape)"
   ]
  },
  {
   "cell_type": "code",
   "execution_count": 19,
   "metadata": {
    "collapsed": true
   },
   "outputs": [],
   "source": [
    "# Rearrange dimension so we can plot the result as RGB images\n",
    "im = np.rollaxis(np.rollaxis(im, 3, 1), 3, 1)"
   ]
  },
  {
   "cell_type": "code",
   "execution_count": 20,
   "metadata": {
    "collapsed": false
   },
   "outputs": [
    {
     "data": {
      "image/png": "[encoded data removed]",
      "text/plain": [
       "<matplotlib.figure.Figure at 0x2b57c41843d0>"
      ]
     },
     "metadata": {},
     "output_type": "display_data"
    }
   ],
   "source": [
    "# We can see that each filter seems different features in the images\n",
    "# ie horizontal / diagonal / vertical segments\n",
    "plt.figure(figsize=(16,8))\n",
    "for i in range(10):\n",
    "    plt.subplot(1, 10, i+1)\n",
    "    plt.imshow(im[i], interpolation='nearest')\n",
    "    plt.axis('off')"
   ]
  }
 ],
 "metadata": {
  "kernelspec": {
   "display_name": "Python 2",
   "language": "python",
   "name": "python2"
  },
  "language_info": {
   "codemirror_mode": {
    "name": "ipython",
    "version": 2
   },
   "file_extension": ".py",
   "mimetype": "text/x-python",
   "name": "python",
   "nbconvert_exporter": "python",
   "pygments_lexer": "ipython2",
   "version": "2.7.6"
  }
 },
 "nbformat": 4,
 "nbformat_minor": 0
}
