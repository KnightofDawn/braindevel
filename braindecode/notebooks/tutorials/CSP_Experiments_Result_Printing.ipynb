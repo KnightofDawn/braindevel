{
 "cells": [
  {
   "cell_type": "markdown",
   "metadata": {},
   "source": [
    "# CSP Tutorial"
   ]
  },
  {
   "cell_type": "markdown",
   "metadata": {},
   "source": [
    "This tutorial show how to run an experiment with several parameter options and view the results."
   ]
  },
  {
   "cell_type": "markdown",
   "metadata": {},
   "source": [
    "## Stuff just for notebook"
   ]
  },
  {
   "cell_type": "code",
   "execution_count": 10,
   "metadata": {
    "collapsed": false
   },
   "outputs": [],
   "source": [
    "import matplotlib\n",
    "%matplotlib inline\n",
    "%config InlineBackend.figure_format = 'svg' \n",
    "matplotlib.rcParams['figure.figsize'] = (12.0, 1.0)\n",
    "matplotlib.rcParams['font.size'] = 7\n",
    "\n",
    "import logging\n",
    "log = logging.getLogger()\n",
    "log.setLevel('DEBUG')"
   ]
  },
  {
   "cell_type": "markdown",
   "metadata": {},
   "source": [
    "## Create training string"
   ]
  },
  {
   "cell_type": "markdown",
   "metadata": {},
   "source": [
    "This is yaml syntax. Note that every parameter you give several options, by pputting a list. Here we use 1 or 2 top_bottom csp filters, so it will run all variants. Also we run over two different files, so we have four experiments in total.\n",
    "Teamplates are referenced by dollars in the variants variables i.e. $no_cleaner refers to templaet no cleaner above.\n",
    "Variables are arguments of the CSPExperiment class (plus the save_path)"
   ]
  },
  {
   "cell_type": "code",
   "execution_count": 11,
   "metadata": {
    "collapsed": false
   },
   "outputs": [],
   "source": [
    "train_str = \"\"\"\n",
    "{\n",
    "    templates: {\n",
    "        no_cleaner: !obj:braindecode.mywyrm.clean.NoCleaner { \n",
    "            marker_def: {'1-Right': [1],'3-Rest':[3]},\n",
    "        },\n",
    "        corr_coeff_optimizer: !obj:braindecode.csp.ival_optimizers.CorrCoeffIntervalOptimizer { },\n",
    "    \n",
    "    },\n",
    "    variants: [[{ \n",
    "        min_freq: [8],\n",
    "        max_freq: [21],\n",
    "        low_width: [6],\n",
    "        high_width: [8],\n",
    "        last_low_freq: [14],\n",
    "        filt_order: [3],\n",
    "        n_selected_features: [\"null\"],\n",
    "        n_folds: [5],\n",
    "        n_top_bottom_csp_filters: [1, 2],\n",
    "        n_selected_filterbands: [\"null\"],\n",
    "        resample_fs: [150],\n",
    "        segment_ival: [[0,4000]],\n",
    "        forward_steps: [4],\n",
    "        backward_steps: [2],\n",
    "        dataset_filename: [\n",
    "         'data/BBCI-without-last-runs/AnWeMoSc1S001R01_ds10_1-12.BBCI.mat',\n",
    "         'data/BBCI-without-last-runs/BhNoMoSc1S001R01_ds10_1-12.BBCI.mat',\n",
    "         ],\n",
    "        loader_type: [BBCIDataset],\n",
    "        cleaner: [$no_cleaner],\n",
    "        load_sensor_names: [['C3','C4','Cz','CPz']],\n",
    "        sensor_names: [\"null\"],\n",
    "        standardize: [false],\n",
    "        stop_when_no_improvement: [false],\n",
    "        restricted_n_trials: [\"null\"],\n",
    "        common_average_reference: [false],\n",
    "        ival_optimizer: [$corr_coeff_optimizer],\n",
    "        shuffle: [false],\n",
    "        marker_def: [{'1-Right': [1],'3-Rest':[3]}],  #'2 -Left': [2], , '4-Feet': [4]}],\n",
    "        save_path: ['notebooks/tutorials/csp_result_folder/'],\n",
    "    }]]\n",
    "}\n",
    "\"\"\"\n"
   ]
  },
  {
   "cell_type": "markdown",
   "metadata": {},
   "source": [
    "## Run the experiments"
   ]
  },
  {
   "cell_type": "markdown",
   "metadata": {},
   "source": [
    "Results will be saved into the save_path variable folder"
   ]
  },
  {
   "cell_type": "code",
   "execution_count": 12,
   "metadata": {
    "collapsed": false
   },
   "outputs": [],
   "source": [
    "from braindecode.csp.train_experiments import CSPExperimentsRunner\n",
    "from braindecode.experiments.parse import create_experiment_yaml_strings\n",
    "main_template_str = open('configs/csp_template.yaml', 'r').read()\n",
    "all_train_strs = create_experiment_yaml_strings([train_str], main_template_str)"
   ]
  },
  {
   "cell_type": "code",
   "execution_count": 13,
   "metadata": {
    "collapsed": false,
    "scrolled": true
   },
   "outputs": [
    {
     "name": "stderr",
     "output_type": "stream",
     "text": [
      "INFO:braindecode.experiments.experiment_runner:Running 4 experiments\n",
      "INFO:braindecode.experiments.experiment_runner:Now running 1 of 4\n",
      "INFO:braindecode.csp.experiment:Loading set...\n",
      "INFO:braindecode.csp.experiment:Cleaning set...\n",
      "INFO:braindecode.csp.experiment:Preprocessing set...\n",
      "INFO:braindecode.csp.experiment:Running Training...\n",
      "INFO:braindecode.csp.pipeline:Filter 1/3, 5.00 to 11.00 Hz\n",
      "INFO:braindecode.csp.pipeline:Fold Nr: 1\n",
      "INFO:braindecode.csp.pipeline:Class 1 vs 2\n",
      "INFO:braindecode.csp.pipeline:Ival 100ms - 3200ms\n",
      "INFO:braindecode.csp.pipeline:Train: 58.82%\n",
      "INFO:braindecode.csp.pipeline:Test:  64.52%\n",
      "INFO:braindecode.csp.pipeline:Filter 2/3, 11.00 to 17.00 Hz\n",
      "INFO:braindecode.csp.pipeline:Fold Nr: 1\n",
      "INFO:braindecode.csp.pipeline:Class 1 vs 2\n",
      "INFO:braindecode.csp.pipeline:Ival 500ms - 3000ms\n",
      "INFO:braindecode.csp.pipeline:Train: 59.36%\n",
      "INFO:braindecode.csp.pipeline:Test:  65.59%\n",
      "INFO:braindecode.csp.pipeline:Filter 3/3, 17.00 to 25.00 Hz\n",
      "INFO:braindecode.csp.pipeline:Fold Nr: 1\n",
      "INFO:braindecode.csp.pipeline:Class 1 vs 2\n",
      "INFO:braindecode.csp.pipeline:Ival 1100ms - 3800ms\n",
      "INFO:braindecode.csp.pipeline:Train: 57.22%\n",
      "INFO:braindecode.csp.pipeline:Test:  44.09%\n",
      "INFO:braindecode.csp.pipeline:Fold Nr: 1\n",
      "INFO:braindecode.csp.pipeline:Class 1 vs 2\n",
      "INFO:braindecode.csp.pipeline:Train: 66.84%\n",
      "INFO:braindecode.csp.pipeline:Test:  67.74%\n",
      "INFO:braindecode.csp.pipeline:Fold Nr: 1\n",
      "INFO:braindecode.csp.pipeline:Train: 66.84%\n",
      "INFO:braindecode.csp.pipeline:Test:  67.74%\n",
      "INFO:braindecode.experiments.experiment_runner:Now running 2 of 4\n",
      "INFO:braindecode.csp.experiment:Loading set...\n",
      "INFO:braindecode.csp.experiment:Cleaning set...\n",
      "INFO:braindecode.csp.experiment:Preprocessing set...\n",
      "INFO:braindecode.csp.experiment:Running Training...\n",
      "INFO:braindecode.csp.pipeline:Filter 1/3, 5.00 to 11.00 Hz\n",
      "INFO:braindecode.csp.pipeline:Fold Nr: 1\n",
      "INFO:braindecode.csp.pipeline:Class 1 vs 2\n",
      "INFO:braindecode.csp.pipeline:Ival 100ms - 3200ms\n",
      "INFO:braindecode.csp.pipeline:Train: 60.16%\n",
      "INFO:braindecode.csp.pipeline:Test:  60.22%\n",
      "INFO:braindecode.csp.pipeline:Filter 2/3, 11.00 to 17.00 Hz\n",
      "INFO:braindecode.csp.pipeline:Fold Nr: 1\n",
      "INFO:braindecode.csp.pipeline:Class 1 vs 2\n",
      "INFO:braindecode.csp.pipeline:Ival 500ms - 3000ms\n",
      "INFO:braindecode.csp.pipeline:Train: 58.82%\n",
      "INFO:braindecode.csp.pipeline:Test:  69.89%\n",
      "INFO:braindecode.csp.pipeline:Filter 3/3, 17.00 to 25.00 Hz\n",
      "INFO:braindecode.csp.pipeline:Fold Nr: 1\n",
      "INFO:braindecode.csp.pipeline:Class 1 vs 2\n",
      "INFO:braindecode.csp.pipeline:Ival 1100ms - 3800ms\n",
      "INFO:braindecode.csp.pipeline:Train: 58.82%\n",
      "INFO:braindecode.csp.pipeline:Test:  53.76%\n",
      "INFO:braindecode.csp.pipeline:Fold Nr: 1\n",
      "INFO:braindecode.csp.pipeline:Class 1 vs 2\n",
      "INFO:braindecode.csp.pipeline:Train: 66.84%\n",
      "INFO:braindecode.csp.pipeline:Test:  70.97%\n",
      "INFO:braindecode.csp.pipeline:Fold Nr: 1\n",
      "INFO:braindecode.csp.pipeline:Train: 66.84%\n",
      "INFO:braindecode.csp.pipeline:Test:  70.97%\n",
      "INFO:braindecode.experiments.experiment_runner:Now running 3 of 4\n",
      "INFO:braindecode.csp.experiment:Loading set...\n",
      "INFO:braindecode.csp.experiment:Cleaning set...\n",
      "INFO:braindecode.csp.experiment:Preprocessing set...\n",
      "INFO:braindecode.csp.experiment:Running Training...\n",
      "INFO:braindecode.csp.pipeline:Filter 1/3, 5.00 to 11.00 Hz\n",
      "INFO:braindecode.csp.pipeline:Fold Nr: 1\n",
      "INFO:braindecode.csp.pipeline:Class 1 vs 2\n",
      "INFO:braindecode.csp.pipeline:Ival 1100ms - 3700ms\n",
      "INFO:braindecode.csp.pipeline:Train: 93.59%\n",
      "INFO:braindecode.csp.pipeline:Test:  94.38%\n",
      "INFO:braindecode.csp.pipeline:Filter 2/3, 11.00 to 17.00 Hz\n",
      "INFO:braindecode.csp.pipeline:Fold Nr: 1\n",
      "INFO:braindecode.csp.pipeline:Class 1 vs 2\n",
      "INFO:braindecode.csp.pipeline:Ival 1000ms - 3700ms\n",
      "INFO:braindecode.csp.pipeline:Train: 94.71%\n",
      "INFO:braindecode.csp.pipeline:Test:  97.75%\n",
      "INFO:braindecode.csp.pipeline:Filter 3/3, 17.00 to 25.00 Hz\n",
      "INFO:braindecode.csp.pipeline:Fold Nr: 1\n",
      "INFO:braindecode.csp.pipeline:Class 1 vs 2\n",
      "INFO:braindecode.csp.pipeline:Ival 1100ms - 3700ms\n",
      "INFO:braindecode.csp.pipeline:Train: 93.04%\n",
      "INFO:braindecode.csp.pipeline:Test:  93.26%\n",
      "INFO:braindecode.csp.pipeline:Fold Nr: 1\n",
      "INFO:braindecode.csp.pipeline:Class 1 vs 2\n",
      "INFO:braindecode.csp.pipeline:Train: 96.10%\n",
      "INFO:braindecode.csp.pipeline:Test:  97.75%\n",
      "INFO:braindecode.csp.pipeline:Fold Nr: 1\n",
      "INFO:braindecode.csp.pipeline:Train: 96.10%\n",
      "INFO:braindecode.csp.pipeline:Test:  97.75%\n",
      "INFO:braindecode.experiments.experiment_runner:Now running 4 of 4\n",
      "INFO:braindecode.csp.experiment:Loading set...\n",
      "INFO:braindecode.csp.experiment:Cleaning set...\n",
      "INFO:braindecode.csp.experiment:Preprocessing set...\n",
      "INFO:braindecode.csp.experiment:Running Training...\n",
      "INFO:braindecode.csp.pipeline:Filter 1/3, 5.00 to 11.00 Hz\n",
      "INFO:braindecode.csp.pipeline:Fold Nr: 1\n",
      "INFO:braindecode.csp.pipeline:Class 1 vs 2\n",
      "INFO:braindecode.csp.pipeline:Ival 1100ms - 3700ms\n",
      "INFO:braindecode.csp.pipeline:Train: 94.71%\n",
      "INFO:braindecode.csp.pipeline:Test:  96.63%\n",
      "INFO:braindecode.csp.pipeline:Filter 2/3, 11.00 to 17.00 Hz\n",
      "INFO:braindecode.csp.pipeline:Fold Nr: 1\n",
      "INFO:braindecode.csp.pipeline:Class 1 vs 2\n",
      "INFO:braindecode.csp.pipeline:Ival 1000ms - 3700ms\n",
      "INFO:braindecode.csp.pipeline:Train: 95.82%\n",
      "INFO:braindecode.csp.pipeline:Test:  98.88%\n",
      "INFO:braindecode.csp.pipeline:Filter 3/3, 17.00 to 25.00 Hz\n",
      "INFO:braindecode.csp.pipeline:Fold Nr: 1\n",
      "INFO:braindecode.csp.pipeline:Class 1 vs 2\n",
      "INFO:braindecode.csp.pipeline:Ival 1100ms - 3700ms\n",
      "INFO:braindecode.csp.pipeline:Train: 94.99%\n",
      "INFO:braindecode.csp.pipeline:Test:  95.51%\n",
      "INFO:braindecode.csp.pipeline:Fold Nr: 1\n",
      "INFO:braindecode.csp.pipeline:Class 1 vs 2\n",
      "INFO:braindecode.csp.pipeline:Train: 96.66%\n",
      "INFO:braindecode.csp.pipeline:Test:  98.88%\n",
      "INFO:braindecode.csp.pipeline:Fold Nr: 1\n",
      "INFO:braindecode.csp.pipeline:Train: 96.66%\n",
      "INFO:braindecode.csp.pipeline:Test:  98.88%\n"
     ]
    },
    {
     "name": "stdout",
     "output_type": "stream",
     "text": [
      "Printing results in notebooks/tutorials/csp_result_folder/:\n",
      "\n",
      "Markdown Table\n",
      "\n",
      "|id|filename|n_top_bottom_csp_filters|time|test|train|\n",
      "|-|-|-|-|-|-|\n",
      "|1|AnWe1-12|1|0:00:07|67.74%|66.84%|\n",
      "|2|AnWe1-12|2|0:00:07|70.97%|66.84%|\n",
      "|3|BhNo1-12|1|0:00:05|97.75%|96.10%|\n",
      "|4|BhNo1-12|2|0:00:07|98.88%|96.66%|\n",
      "\n",
      "Terminal Table\n",
      "\n",
      "id  filename  n_top_bottom_csp_filters  time     test    train   \n",
      "1   AnWe1-12  1                         0:00:07  67.74%  66.84%  \n",
      "2   AnWe1-12  2                         0:00:07  70.97%  66.84%  \n",
      "3   BhNo1-12  1                         0:00:05  97.75%  96.10%  \n",
      "4   BhNo1-12  2                         0:00:07  98.88%  96.66%  \n",
      "\n",
      "\n",
      "Dataset-Averaged Results:\n",
      "\n",
      "Terminal Table\n",
      "\n",
      "id  files  n_top_bottom_csp_filters  time     std      test    std     train   std     \n",
      "0   2      1                         0:00:06  0:00:01  82.75%  15.01%  81.47%  14.63%  \n",
      "1   2      2                         0:00:07  0:00:00  84.92%  13.95%  81.75%  14.91%  \n",
      "\n",
      "Markdown Table\n",
      "\n",
      "|id|files|n_top_bottom_csp_filters|time|std|test|std|train|std|\n",
      "|-|-|-|-|-|-|-|-|-|\n",
      "|0|2|1|0:00:06|0:00:01|82.75%|15.01%|81.47%|14.63%|\n",
      "|1|2|2|0:00:07|0:00:00|84.92%|13.95%|81.75%|14.91%|\n"
     ]
    }
   ],
   "source": [
    "    \n",
    "exp_runner = CSPExperimentsRunner(quiet=False, start_id=None,\n",
    "    stop_id=None, cross_validation=False, shuffle=False)\n",
    "exp_runner.run(all_train_strs)"
   ]
  },
  {
   "cell_type": "markdown",
   "metadata": {},
   "source": [
    "## Reprinting results"
   ]
  },
  {
   "cell_type": "markdown",
   "metadata": {},
   "source": [
    "We can also reprint the results at any time later:"
   ]
  },
  {
   "cell_type": "code",
   "execution_count": 14,
   "metadata": {
    "collapsed": true
   },
   "outputs": [],
   "source": [
    "from braindecode.csp.print_results import CSPResultPrinter"
   ]
  },
  {
   "cell_type": "code",
   "execution_count": 15,
   "metadata": {
    "collapsed": false
   },
   "outputs": [
    {
     "name": "stdout",
     "output_type": "stream",
     "text": [
      "Printing results in ./notebooks/tutorials/csp_result_folder/:\n",
      "\n",
      "Markdown Table\n",
      "\n",
      "|id|filename|n_top_bottom_csp_filters|time|test|train|\n",
      "|-|-|-|-|-|-|\n",
      "|1|AnWe1-12|1|0:00:07|67.74%|66.84%|\n",
      "|2|AnWe1-12|2|0:00:07|70.97%|66.84%|\n",
      "|3|BhNo1-12|1|0:00:05|97.75%|96.10%|\n",
      "|4|BhNo1-12|2|0:00:07|98.88%|96.66%|\n",
      "\n",
      "Terminal Table\n",
      "\n",
      "id  filename  n_top_bottom_csp_filters  time     test    train   \n",
      "1   AnWe1-12  1                         0:00:07  67.74%  66.84%  \n",
      "2   AnWe1-12  2                         0:00:07  70.97%  66.84%  \n",
      "3   BhNo1-12  1                         0:00:05  97.75%  96.10%  \n",
      "4   BhNo1-12  2                         0:00:07  98.88%  96.66%  \n",
      "\n",
      "\n",
      "Dataset-Averaged Results:\n",
      "\n",
      "Terminal Table\n",
      "\n",
      "id  files  n_top_bottom_csp_filters  time     std      test    std     train   std     \n",
      "0   2      1                         0:00:06  0:00:01  82.75%  15.01%  81.47%  14.63%  \n",
      "1   2      2                         0:00:07  0:00:00  84.92%  13.95%  81.75%  14.91%  \n",
      "\n",
      "Markdown Table\n",
      "\n",
      "|id|files|n_top_bottom_csp_filters|time|std|test|std|train|std|\n",
      "|-|-|-|-|-|-|-|-|-|\n",
      "|0|2|1|0:00:06|0:00:01|82.75%|15.01%|81.47%|14.63%|\n",
      "|1|2|2|0:00:07|0:00:00|84.92%|13.95%|81.75%|14.91%|\n"
     ]
    }
   ],
   "source": [
    "CSPResultPrinter('./notebooks/tutorials/csp_result_folder/').print_results()"
   ]
  },
  {
   "cell_type": "markdown",
   "metadata": {},
   "source": [
    "### Running the experiment"
   ]
  },
  {
   "cell_type": "code",
   "execution_count": 8,
   "metadata": {
    "collapsed": true
   },
   "outputs": [],
   "source": [
    "%%capture\n",
    "import scikits.samplerate\n",
    "import os\n",
    "import site\n",
    "site.addsitedir('/home/schirrmr/.local/lib/python2.7/site-packages/')\n",
    "site.addsitedir('/usr/lib/pymodules/python2.7/')\n",
    "os.sys.path.insert(0, '/home/schirrmr/braindecode/code/')\n",
    "%cd /home/schirrmr/braindecode/code/braindecode/\n",
    "assert 'THEANO_FLAGS' in os.environ\n",
    "# switch to cpu\n",
    "os.environ['THEANO_FLAGS'] = 'floatX=float32,device=cpu,nvcc.fastmath=True'\n",
    "%load_ext autoreload\n",
    "%autoreload 2"
   ]
  }
 ],
 "metadata": {
  "kernelspec": {
   "display_name": "Python 2",
   "language": "python",
   "name": "python2"
  },
  "language_info": {
   "codemirror_mode": {
    "name": "ipython",
    "version": 2
   },
   "file_extension": ".py",
   "mimetype": "text/x-python",
   "name": "python",
   "nbconvert_exporter": "python",
   "pygments_lexer": "ipython2",
   "version": "2.7.6"
  }
 },
 "nbformat": 4,
 "nbformat_minor": 0
}
