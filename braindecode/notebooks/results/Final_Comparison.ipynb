{
 "cells": [
  {
   "cell_type": "code",
   "execution_count": 1,
   "metadata": {
    "collapsed": false
   },
   "outputs": [],
   "source": [
    "%%capture\n",
    "import os\n",
    "import site\n",
    "site.addsitedir('/home/schirrmr/.local/lib/python2.7/site-packages/')\n",
    "site.addsitedir('/usr/lib/pymodules/python2.7/')\n",
    "os.sys.path.insert(0, '/home/schirrmr/braindecode/code/')\n",
    "%cd /home/schirrmr/braindecode/code/braindecode/\n",
    "assert 'THEANO_FLAGS' in os.environ\n",
    "# switch to cpu\n",
    "os.environ['THEANO_FLAGS'] = 'floatX=float32,device=cpu,nvcc.fastmath=True'\n",
    "%load_ext autoreload\n",
    "%autoreload 2\n",
    "import numpy as np\n",
    "\n",
    "import matplotlib\n",
    "from matplotlib import pyplot as plt\n",
    "from matplotlib import cm\n",
    "%matplotlib inline\n",
    "%config InlineBackend.figure_format = 'svg' \n",
    "\n",
    "import matplotlib.lines as mlines\n",
    "import seaborn\n",
    "matplotlib.rcParams['figure.figsize'] = (12.0, 3.0)\n",
    "matplotlib.rcParams['font.size'] = 7\n",
    "seaborn.set_style('darkgrid')\n",
    "\n",
    "from braindecode.scripts.print_results import ResultPrinter\n",
    "from braindecode.csp.print_results import CSPResultPrinter\n",
    "import logging\n",
    "log = logging.getLogger()\n",
    "log.setLevel(\"DEBUG\")\n"
   ]
  },
  {
   "cell_type": "markdown",
   "metadata": {},
   "source": [
    "## New with Pandas"
   ]
  },
  {
   "cell_type": "code",
   "execution_count": 2,
   "metadata": {
    "collapsed": true
   },
   "outputs": [],
   "source": [
    "from braindecode.analysis.stats import perm_mean_diff_test\n",
    "import pandas as pd\n",
    "from braindecode.analysis.pandas_util import round_numeric_columns\n",
    "from braindecode.analysis.stats import wilcoxon_signed_rank, sign_test\n",
    "\n",
    "def compare_csp_net(df_net, df_csp, name,freq, dataset, with_csp_acc=False, with_std=False, with_std_error=False):\n",
    "    assert len(df_net) == len(df_csp), (\n",
    "        \"Net ({:d}) and csp ({:d}) should have same length\".format(\n",
    "            len(df_net), len(df_csp)))\n",
    "    df_merged = df_net.merge(df_csp, on='dataset_filename', suffixes=('_net','_csp'))\n",
    "    # not really necessary to sort, just to make sure \n",
    "    df_merged = df_merged.sort_values(by='dataset_filename')\n",
    "\n",
    "    test_acc_net = np.array(df_merged['test_net'])\n",
    "    test_acc_csp = np.array(df_merged['test_csp'])\n",
    "    if len(test_acc_net) > 20:\n",
    "        p_val = perm_mean_diff_test(test_acc_net,test_acc_csp, n_diffs=2**20)\n",
    "    else:\n",
    "        p_val = perm_mean_diff_test(test_acc_net,test_acc_csp, n_diffs=None)\n",
    "    p_val_wilc = wilcoxon_signed_rank(test_acc_net, test_acc_csp)\n",
    "    p_val_sign = sign_test(test_acc_net, test_acc_csp)\n",
    "    diff_std = np.std(test_acc_net - test_acc_csp)\n",
    "\n",
    "    df_out = pd.DataFrame()\n",
    "\n",
    "    df_out['name'] = [name]\n",
    "    df_out['freq'] = [freq]\n",
    "    df_out['dataset'] = [dataset]\n",
    "    if with_csp_acc:\n",
    "        df_out['test_csp'] = [np.mean(test_acc_csp)]\n",
    "        \n",
    "    df_out['test_net'] = [np.mean(test_acc_net)]\n",
    "    df_out['diff'] = [np.mean(test_acc_net) - np.mean(test_acc_csp)]\n",
    "    if with_std:\n",
    "        df_out['std'] = [diff_std]\n",
    "    if with_std_error:\n",
    "        df_out['stderr'] = [diff_std / np.sqrt(len(test_acc_net))]\n",
    "    df_out = round_numeric_columns(df_out,1)\n",
    "        \n",
    "    \n",
    "        \n",
    "    df_out['rand'] = [p_val]\n",
    "    df_out['wilc'] = [p_val_wilc]\n",
    "    df_out['sign'] = [p_val_sign]\n",
    "    df_out['time_net'] = [pd.Timedelta.round(np.mean(df_net.time), 's')]\n",
    "\n",
    "    assert len(df_merged) == len(df_csp), (\n",
    "        \"Merged ({:d}) and csp ({:d}) should have same length\".format(\n",
    "            len(df_merged), len(df_csp)))\n",
    "    return df_out"
   ]
  },
  {
   "cell_type": "code",
   "execution_count": 3,
   "metadata": {
    "collapsed": true
   },
   "outputs": [],
   "source": [
    "from braindecode.analysis.pandas_util import restrict, restrict_or_unset, restrict_or_missing_col\n",
    "from braindecode.paper.results import * "
   ]
  },
  {
   "cell_type": "code",
   "execution_count": 4,
   "metadata": {
    "collapsed": false
   },
   "outputs": [
    {
     "name": "stdout",
     "output_type": "stream",
     "text": [
      "Waiting 0.5 seconds and trying again\n"
     ]
    }
   ],
   "source": [
    "from braindecode.analysis.pandas_util import (load_data_frame,\n",
    "                                              dataset_averaged_frame,\n",
    "                                              remove_columns_with_same_value,\n",
    "                                              remove_indices_with_same_value)\n",
    "\n",
    "df_csp_ours = load_data_frame('data/models/paper/ours/csp/', shorten_headers=False)\n",
    "df_csp_bcic = load_data_frame('data/models/paper/bci-competition/csp/', shorten_headers=False)\n",
    "# named deep5 now...well whatever :)\n",
    "df_deep_cnt_ours = load_data_frame('data/models/paper/ours/cnt/deep5/', shorten_headers=False)\n",
    "df_deep_cnt_bcic = load_data_frame('data/models/paper/bci-competition/cnt/deep4/', shorten_headers=False)\n",
    "df_shallow_cnt_ours = load_data_frame('data/models/paper/ours/cnt/shallow//', shorten_headers=False)\n",
    "df_shallow_cnt_bcic = load_data_frame('data/models/paper/bci-competition/cnt/shallow//', shorten_headers=False)\n",
    "\n",
    "df_deep_epo_ours = load_data_frame('data/models/paper/ours/epo/deep4/', shorten_headers=False)\n",
    "df_deep_epo_bcic = load_data_frame('data/models/paper/bci-competition/epo/deep4/', shorten_headers=False)\n",
    "df_shallow_epo_ours = load_data_frame('data/models/paper/ours/epo/shallow//', shorten_headers=False)\n",
    "df_shallow_epo_bcic = load_data_frame('data/models/paper/bci-competition/epo/shallow//', shorten_headers=False)"
   ]
  },
  {
   "cell_type": "code",
   "execution_count": 5,
   "metadata": {
    "collapsed": false
   },
   "outputs": [],
   "source": [
    "from braindecode.paper.results import clean_datasets\n",
    "def add_p_vals_to_df_row(df, test_a, test_b, n_diffs_for_large=2**20):\n",
    "    assert len(test_a) == len(test_b)\n",
    "    if len(test_a) > 20:\n",
    "        assert len(test_a) == 29 or len(test_a) == 23\n",
    "        p_val = perm_mean_diff_test(test_a,test_b, n_diffs=n_diffs_for_large)\n",
    "    else:\n",
    "        assert len(test_a) == 9 or len(test_a) == 20 or len(test_a) == 14 \n",
    "        p_val = perm_mean_diff_test(test_a,test_b)\n",
    "    p_val_wilc = wilcoxon_signed_rank(test_a, test_b)\n",
    "    p_val_sign = sign_test(test_a, test_b)\n",
    "    df['rand'] = p_val\n",
    "    df['wilc'] = p_val_wilc\n",
    "    df['sign'] = p_val_sign    "
   ]
  },
  {
   "cell_type": "markdown",
   "metadata": {},
   "source": [
    "## Validation CSP"
   ]
  },
  {
   "cell_type": "code",
   "execution_count": 6,
   "metadata": {
    "collapsed": true
   },
   "outputs": [],
   "source": [
    "def csp_no_standardize(df):\n",
    "    df = df[((df.standardize_filt_cnt == False) | (df.standardize_filt_cnt == '-')) &\n",
    "           ((df.standardize_epo == False) | (df.standardize_epo == '-')) &\n",
    "           ((df.standardize_cnt == False) | (df.standardize_cnt == '-')) &\n",
    "           ((df.standardize == False) | (df.standardize == '-'))]\n",
    "    return df\n",
    "\n",
    "def csp_no_standardize_new(df):\n",
    "    df = csp_no_standardize(df)\n",
    "    df = df[df.standardize == '-']\n",
    "    return df"
   ]
  },
  {
   "cell_type": "code",
   "execution_count": 7,
   "metadata": {
    "collapsed": false
   },
   "outputs": [
    {
     "data": {
      "text/html": [
       "<div>\n",
       "<table border=\"1\" class=\"dataframe\">\n",
       "  <thead>\n",
       "    <tr>\n",
       "      <th></th>\n",
       "      <th colspan=\"3\" halign=\"left\">time</th>\n",
       "      <th colspan=\"2\" halign=\"left\">test</th>\n",
       "      <th colspan=\"2\" halign=\"left\">train</th>\n",
       "    </tr>\n",
       "    <tr>\n",
       "      <th></th>\n",
       "      <th>len</th>\n",
       "      <th>tmean</th>\n",
       "      <th>tstd</th>\n",
       "      <th>mean</th>\n",
       "      <th>std</th>\n",
       "      <th>mean</th>\n",
       "      <th>std</th>\n",
       "    </tr>\n",
       "    <tr>\n",
       "      <th>trial_stop</th>\n",
       "      <th></th>\n",
       "      <th></th>\n",
       "      <th></th>\n",
       "      <th></th>\n",
       "      <th></th>\n",
       "      <th></th>\n",
       "      <th></th>\n",
       "    </tr>\n",
       "  </thead>\n",
       "  <tbody>\n",
       "    <tr>\n",
       "      <th>2500</th>\n",
       "      <td>9</td>\n",
       "      <td>00:00:35</td>\n",
       "      <td>00:00:10</td>\n",
       "      <td>67.6</td>\n",
       "      <td>15.1</td>\n",
       "      <td>93.6</td>\n",
       "      <td>4.1</td>\n",
       "    </tr>\n",
       "    <tr>\n",
       "      <th>4000</th>\n",
       "      <td>9</td>\n",
       "      <td>00:00:37</td>\n",
       "      <td>00:00:11</td>\n",
       "      <td>67.8</td>\n",
       "      <td>15.9</td>\n",
       "      <td>92.6</td>\n",
       "      <td>5.2</td>\n",
       "    </tr>\n",
       "  </tbody>\n",
       "</table>\n",
       "</div>"
      ],
      "text/plain": [
       "           time                    test       train     \n",
       "            len    tmean     tstd  mean   std  mean  std\n",
       "trial_stop                                              \n",
       "2500          9 00:00:35 00:00:10  67.6  15.1  93.6  4.1\n",
       "4000          9 00:00:37 00:00:11  67.8  15.9  92.6  5.2"
      ]
     },
     "execution_count": 7,
     "metadata": {},
     "output_type": "execute_result"
    }
   ],
   "source": [
    "df_valid = csp_no_standardize_new(df_csp_bcic.copy())\n",
    "df_valid = df_valid[(df_valid.resample_fs == 250) & (df_valid.max_freq == 34) & (df_valid.min_freq == 7)]\n",
    "df_valid = df_valid.sort_values(by='dataset_filename')\n",
    "\n",
    "dataset_averaged_frame(remove_columns_with_same_value(df_valid))"
   ]
  },
  {
   "cell_type": "code",
   "execution_count": 8,
   "metadata": {
    "collapsed": false
   },
   "outputs": [
    {
     "data": {
      "text/html": [
       "<div>\n",
       "<table border=\"1\" class=\"dataframe\">\n",
       "  <thead>\n",
       "    <tr style=\"text-align: right;\">\n",
       "      <th></th>\n",
       "      <th>test_theirs</th>\n",
       "      <th>test_ours</th>\n",
       "      <th>diff</th>\n",
       "      <th>rand</th>\n",
       "      <th>wilc</th>\n",
       "      <th>sign</th>\n",
       "    </tr>\n",
       "  </thead>\n",
       "  <tbody>\n",
       "    <tr>\n",
       "      <th>0</th>\n",
       "      <td>67.01</td>\n",
       "      <td>67.59</td>\n",
       "      <td>0.58</td>\n",
       "      <td>0.78125</td>\n",
       "      <td>0.734375</td>\n",
       "      <td>1</td>\n",
       "    </tr>\n",
       "  </tbody>\n",
       "</table>\n",
       "</div>"
      ],
      "text/plain": [
       "   test_theirs  test_ours  diff     rand      wilc  sign\n",
       "0        67.01      67.59  0.58  0.78125  0.734375     1"
      ]
     },
     "execution_count": 8,
     "metadata": {},
     "output_type": "execute_result"
    }
   ],
   "source": [
    "test_val_theirs = [79.16,52.08,83.33,62.15,54.51,39.24,83.33,82.64,66.67]\n",
    "\n",
    "test_val_ours_2500 = df_valid[df_valid.trial_stop == 2500].test\n",
    "\n",
    "df = pd.DataFrame()\n",
    "df['test_theirs'] = [np.mean(test_val_theirs)]\n",
    "df['test_ours'] = [np.mean(test_val_ours_2500)]\n",
    "df['diff'] = [np.mean(test_val_ours_2500) - np.mean(test_val_theirs)]\n",
    "df = round_numeric_columns(df, 2)\n",
    "add_p_vals_to_df_row(df, test_val_theirs, test_val_ours_2500)\n",
    "df"
   ]
  },
  {
   "cell_type": "code",
   "execution_count": 9,
   "metadata": {
    "collapsed": false
   },
   "outputs": [
    {
     "data": {
      "text/html": [
       "<div>\n",
       "<table border=\"1\" class=\"dataframe\">\n",
       "  <thead>\n",
       "    <tr style=\"text-align: right;\">\n",
       "      <th></th>\n",
       "      <th>test_theirs</th>\n",
       "      <th>test_ours</th>\n",
       "      <th>diff</th>\n",
       "      <th>rand</th>\n",
       "      <th>wilc</th>\n",
       "      <th>sign</th>\n",
       "    </tr>\n",
       "  </thead>\n",
       "  <tbody>\n",
       "    <tr>\n",
       "      <th>0</th>\n",
       "      <td>67.01</td>\n",
       "      <td>67.82</td>\n",
       "      <td>0.81</td>\n",
       "      <td>0.757812</td>\n",
       "      <td>0.734375</td>\n",
       "      <td>1</td>\n",
       "    </tr>\n",
       "  </tbody>\n",
       "</table>\n",
       "</div>"
      ],
      "text/plain": [
       "   test_theirs  test_ours  diff      rand      wilc  sign\n",
       "0        67.01      67.82  0.81  0.757812  0.734375     1"
      ]
     },
     "execution_count": 9,
     "metadata": {},
     "output_type": "execute_result"
    }
   ],
   "source": [
    "test_val_ours_4000 = df_valid[df_valid.trial_stop == 4000].test\n",
    "\n",
    "df = pd.DataFrame()\n",
    "df['test_theirs'] = [np.mean(test_val_theirs)]\n",
    "df['test_ours'] = [np.mean(test_val_ours_4000)]\n",
    "df['diff'] = [np.mean(test_val_ours_4000) - np.mean(test_val_theirs)]\n",
    "df = round_numeric_columns(df, 2)\n",
    "add_p_vals_to_df_row(df, test_val_theirs, test_val_ours_4000)\n",
    "df"
   ]
  },
  {
   "cell_type": "markdown",
   "metadata": {},
   "source": [
    "## Main comparison"
   ]
  },
  {
   "cell_type": "code",
   "execution_count": 10,
   "metadata": {
    "collapsed": false
   },
   "outputs": [],
   "source": [
    "all_df = pd.DataFrame()\n",
    "for dataset in ('bcic', 'ours'):\n",
    "    for net in 'shallow', 'deep5':\n",
    "        for training in 'epo', 'cnt':\n",
    "            for band in ['>0', '>4', '0-4']:\n",
    "                for clean in (True, False):\n",
    "                    if dataset == 'bcic':\n",
    "                        dfc = df_csp_bcic\n",
    "                    else:\n",
    "                        assert dataset == 'ours'\n",
    "                        dfc = df_csp_ours\n",
    "                    if dataset == 'bcic' and net == 'shallow' and training == 'cnt':\n",
    "                        dfn = df_shallow_cnt_bcic\n",
    "                    elif dataset == 'bcic' and net == 'shallow' and training == 'epo':\n",
    "                        dfn = df_shallow_epo_bcic\n",
    "                    elif dataset == 'bcic' and net == 'deep5' and training == 'cnt':\n",
    "                        dfn = df_deep_cnt_bcic\n",
    "                    elif dataset == 'bcic' and net == 'deep5' and training == 'epo':\n",
    "                        dfn = df_deep_epo_bcic\n",
    "                    elif dataset == 'ours' and net == 'shallow' and training == 'cnt':\n",
    "                        dfn = df_shallow_cnt_ours\n",
    "                    elif dataset == 'ours' and net == 'shallow' and training == 'epo':\n",
    "                        dfn = df_shallow_epo_ours\n",
    "                    elif dataset == 'ours' and net == 'deep5' and training == 'cnt':\n",
    "                        dfn = df_deep_cnt_ours\n",
    "                    elif dataset == 'ours' and net == 'deep5' and training == 'epo':\n",
    "                        dfn = df_deep_epo_ours\n",
    "                    else:\n",
    "                        raise ValueError(\"Unknown combination\")\n",
    "                    if clean:\n",
    "                        dfn = clean_datasets(dfn)\n",
    "                        dfc = clean_datasets(dfc)\n",
    "                        \n",
    "                    if band == '>0':\n",
    "                        this_dfn = above_0(dfn)\n",
    "                        this_dfc = csp_above_0(dfc)\n",
    "                    elif band == '>4':\n",
    "                        this_dfn = above_4(dfn)\n",
    "                        this_dfc = csp_above_4(dfc)\n",
    "                    elif band == '0-4':\n",
    "                        this_dfn = from_0_to_4(dfn)\n",
    "                        this_dfc = csp_0_to_4(dfc)\n",
    "                        \n",
    "                        \n",
    "                    if net == 'deep5' and training == 'epo':\n",
    "                        this_dfn = deep5_main_comp(this_dfn)\n",
    "                    elif net == 'deep5' and training == 'cnt':\n",
    "                        this_dfn = deep5_cnt_main_comp(this_dfn)\n",
    "                    elif net =='shallow' and training == 'epo':\n",
    "                        this_dfn = shallow_main_comp(this_dfn)\n",
    "                    elif net =='shallow' and training == 'cnt':\n",
    "                        this_dfn = shallow_cnt_main_comp(this_dfn)\n",
    "                    else:\n",
    "                        raise ValueError(\"Unknown combination\")\n",
    "                        \n",
    "                    this_dfc = main_comp_csp(this_dfc)\n",
    "                    if training == 'epo':\n",
    "                        this_dfn = this_dfn[this_dfn.max_increasing_epochs == 150]\n",
    "                    else:\n",
    "                        assert training == 'cnt'\n",
    "                        this_dfn = this_dfn[this_dfn.max_increasing_epochs == 80]\n",
    "                        this_dfn = this_dfn[this_dfn.trial_start == 1500]\n",
    "                    \n",
    "                    if dataset == 'bcic' and net == 'deep5' and (\n",
    "                        training == 'epo' or (band == '>0' or band == '>4')):\n",
    "                        this_dfn = this_dfn[this_dfn.layers == 'deep_5']\n",
    "                    \n",
    "\n",
    "                    if dataset == 'bcic':\n",
    "                        assert len(this_dfc) == 9, \"wrong length: {:d} ({:s})\".format(\n",
    "                            len(this_dfc), str((dataset, net, training, band, clean)))\n",
    "                        assert len(this_dfn) == 9, \"wrong length: {:d} ({:s})\".format(\n",
    "                            len(this_dfn), str((dataset, net, training, band, clean)))\n",
    "                    elif dataset == 'ours' and clean:\n",
    "                        assert len(this_dfc) == 14, \"wrong length: {:d} ({:s})\".format(\n",
    "                            len(this_dfc), str((dataset, net, training, band, clean)))\n",
    "                        assert len(this_dfn) == 14, \"wrong length: {:d} ({:s})\".format(\n",
    "                            len(this_dfn), str((dataset, net, training, band, clean)))\n",
    "                    elif dataset == 'ours' and (not clean):\n",
    "                        assert len(this_dfc) == 20, \"wrong length: {:d} ({:s})\".format(\n",
    "                            len(this_dfc), str((dataset, net, training, band, clean)))\n",
    "                        assert len(this_dfn) == 20, \"wrong length: {:d} ({:s})\".format(\n",
    "                            len(this_dfn), str((dataset, net, training, band, clean)))\n",
    "                    else:\n",
    "                        raise ValueError(\"Unknown combination\")\n",
    "                        \n",
    "                \n",
    "                    this_dfn = remove_columns_with_same_value(this_dfn)\n",
    "                    this_dfn['clean'] = clean\n",
    "                    this_dfn['net'] = net\n",
    "                    this_dfn['train_type'] = training\n",
    "                    this_dfn['freq'] = band\n",
    "                    this_dfn['dataset'] = dataset\n",
    "\n",
    "                    all_df = all_df.append(this_dfn)\n",
    "                    if net == 'shallow' and training == 'epo': # only add csp once, not several times => for both nets :))\n",
    "                        this_dfc = remove_columns_with_same_value(this_dfc)\n",
    "                        this_dfc['clean'] = clean\n",
    "                        this_dfc['net'] = 'csp'\n",
    "                        this_dfc['freq'] = band\n",
    "                        this_dfc['train_type'] = training\n",
    "                        this_dfc['dataset'] = dataset\n",
    "                        all_df = all_df.append(this_dfc)"
   ]
  },
  {
   "cell_type": "code",
   "execution_count": 11,
   "metadata": {
    "collapsed": false
   },
   "outputs": [],
   "source": [
    "assert len(all_df) == 15 * 29 + 15 * 23"
   ]
  },
  {
   "cell_type": "markdown",
   "metadata": {},
   "source": [
    "### Plot overall stuff"
   ]
  },
  {
   "cell_type": "markdown",
   "metadata": {
    "collapsed": true
   },
   "source": [
    "##### Make comparisons"
   ]
  },
  {
   "cell_type": "code",
   "execution_count": 12,
   "metadata": {
    "collapsed": false
   },
   "outputs": [],
   "source": [
    "\n",
    "all_compared = pd.DataFrame()\n",
    "param_keys = ['dataset', 'freq', 'net',  'train_type', 'clean']\n",
    "all_groups = all_df.groupby(param_keys)\n",
    "\n",
    "for name, group in all_groups:\n",
    "    assert len(group['freq'].unique()) == 1\n",
    "    freq = group['freq'].iloc[0]\n",
    "    assert len(group['dataset'].unique()) == 1\n",
    "    dataset = group['dataset'].iloc[0]\n",
    "    assert len(group['net'].unique()) == 1\n",
    "    net = group['net'].iloc[0]\n",
    "    assert len(group['clean'].unique()) == 1\n",
    "    clean = group['clean'].iloc[0]\n",
    "    assert len(group['train_type'].unique()) == 1\n",
    "    train_type = group['train_type'].iloc[0]\n",
    "    if net == 'csp': continue\n",
    "    csp = all_df[(all_df.net == 'csp') & (all_df.freq == freq) &\n",
    "                (all_df.dataset == dataset) &\n",
    "                (all_df.clean == clean)]\n",
    "    df_compare = compare_csp_net(group, csp, net, freq, dataset, with_csp_acc=True, with_std=True,\n",
    "                                with_std_error=True)   \n",
    "    df_compare['clean'] = clean\n",
    "    df_compare['train_type'] = train_type\n",
    "    all_compared = all_compared.append(df_compare)"
   ]
  },
  {
   "cell_type": "markdown",
   "metadata": {},
   "source": [
    "##### Add combined set comparisons"
   ]
  },
  {
   "cell_type": "code",
   "execution_count": 13,
   "metadata": {
    "collapsed": false
   },
   "outputs": [
    {
     "name": "stderr",
     "output_type": "stream",
     "text": [
      "INFO:root:0-4 deep5 cnt (clean: False)\n",
      "INFO:root:0-4 deep5 cnt (clean: True)\n",
      "INFO:root:0-4 deep5 epo (clean: False)\n",
      "INFO:root:0-4 deep5 epo (clean: True)\n",
      "INFO:root:0-4 shallow cnt (clean: False)\n",
      "INFO:root:0-4 shallow cnt (clean: True)\n",
      "INFO:root:0-4 shallow epo (clean: False)\n",
      "INFO:root:0-4 shallow epo (clean: True)\n",
      "INFO:root:>0 deep5 cnt (clean: False)\n",
      "INFO:root:>0 deep5 cnt (clean: True)\n",
      "INFO:root:>0 deep5 epo (clean: False)\n",
      "INFO:root:>0 deep5 epo (clean: True)\n",
      "INFO:root:>0 shallow cnt (clean: False)\n",
      "INFO:root:>0 shallow cnt (clean: True)\n",
      "INFO:root:>0 shallow epo (clean: False)\n",
      "INFO:root:>0 shallow epo (clean: True)\n",
      "INFO:root:>4 deep5 cnt (clean: False)\n",
      "INFO:root:>4 deep5 cnt (clean: True)\n",
      "INFO:root:>4 deep5 epo (clean: False)\n",
      "INFO:root:>4 deep5 epo (clean: True)\n",
      "INFO:root:>4 shallow cnt (clean: False)\n",
      "INFO:root:>4 shallow cnt (clean: True)\n",
      "INFO:root:>4 shallow epo (clean: False)\n",
      "INFO:root:>4 shallow epo (clean: True)\n"
     ]
    }
   ],
   "source": [
    "\n",
    "param_keys = ['freq', 'net',  'train_type', 'clean']\n",
    "all_groups = all_df.groupby(param_keys)\n",
    "\n",
    "for name, group in all_groups:\n",
    "    assert len(group['freq'].unique()) == 1\n",
    "    freq = group['freq'].iloc[0]\n",
    "    assert len(group['net'].unique()) == 1\n",
    "    net = group['net'].iloc[0]\n",
    "    assert len(group['clean'].unique()) == 1\n",
    "    clean = group['clean'].iloc[0]\n",
    "    assert len(group['train_type'].unique()) == 1\n",
    "    train_type = group['train_type'].iloc[0]\n",
    "    if net == 'csp': continue\n",
    "    log.info(\"{:s} {:s} {:s} (clean: {:s})\".format(freq,net, train_type, str(clean)))\n",
    "    csp = all_df[(all_df.net == 'csp') & (all_df.freq == freq) &\n",
    "                (all_df.clean == clean)]\n",
    "    assert (len(csp) == 29 and not clean) or (len(csp) == 23 and clean)\n",
    "    df_compare = compare_csp_net(group, csp, net, freq, 'combined', with_csp_acc=True, with_std=True,\n",
    "                                with_std_error=True)\n",
    "    df_compare['clean'] = clean\n",
    "    df_compare['train_type'] = train_type\n",
    "    all_compared = all_compared.append(df_compare)"
   ]
  },
  {
   "cell_type": "code",
   "execution_count": 14,
   "metadata": {
    "collapsed": false
   },
   "outputs": [
    {
     "data": {
      "text/html": [
       "<div>\n",
       "<table border=\"1\" class=\"dataframe\">\n",
       "  <thead>\n",
       "    <tr style=\"text-align: right;\">\n",
       "      <th></th>\n",
       "      <th>name</th>\n",
       "      <th>freq</th>\n",
       "      <th>dataset</th>\n",
       "      <th>test_csp</th>\n",
       "      <th>test_net</th>\n",
       "      <th>diff</th>\n",
       "      <th>std</th>\n",
       "      <th>stderr</th>\n",
       "      <th>rand</th>\n",
       "      <th>wilc</th>\n",
       "      <th>sign</th>\n",
       "      <th>time_net</th>\n",
       "      <th>clean</th>\n",
       "      <th>train_type</th>\n",
       "    </tr>\n",
       "  </thead>\n",
       "  <tbody>\n",
       "    <tr>\n",
       "      <th>0</th>\n",
       "      <td>shallow</td>\n",
       "      <td>&gt;0</td>\n",
       "      <td>ours</td>\n",
       "      <td>92.5</td>\n",
       "      <td>87.5</td>\n",
       "      <td>-5.0</td>\n",
       "      <td>5.1</td>\n",
       "      <td>1.1</td>\n",
       "      <td>0.000031</td>\n",
       "      <td>0.000027</td>\n",
       "      <td>0.002577</td>\n",
       "      <td>00:34:25</td>\n",
       "      <td>False</td>\n",
       "      <td>cnt</td>\n",
       "    </tr>\n",
       "    <tr>\n",
       "      <th>0</th>\n",
       "      <td>shallow</td>\n",
       "      <td>0-4</td>\n",
       "      <td>combined</td>\n",
       "      <td>64.1</td>\n",
       "      <td>71.8</td>\n",
       "      <td>7.7</td>\n",
       "      <td>11.5</td>\n",
       "      <td>2.1</td>\n",
       "      <td>0.001218</td>\n",
       "      <td>0.001816</td>\n",
       "      <td>0.002316</td>\n",
       "      <td>00:37:06</td>\n",
       "      <td>False</td>\n",
       "      <td>cnt</td>\n",
       "    </tr>\n",
       "    <tr>\n",
       "      <th>0</th>\n",
       "      <td>deep5</td>\n",
       "      <td>0-4</td>\n",
       "      <td>combined</td>\n",
       "      <td>64.1</td>\n",
       "      <td>71.0</td>\n",
       "      <td>7.0</td>\n",
       "      <td>15.1</td>\n",
       "      <td>2.8</td>\n",
       "      <td>0.021575</td>\n",
       "      <td>0.015745</td>\n",
       "      <td>0.008130</td>\n",
       "      <td>00:48:20</td>\n",
       "      <td>False</td>\n",
       "      <td>cnt</td>\n",
       "    </tr>\n",
       "    <tr>\n",
       "      <th>0</th>\n",
       "      <td>shallow</td>\n",
       "      <td>0-4</td>\n",
       "      <td>bcic</td>\n",
       "      <td>48.8</td>\n",
       "      <td>61.4</td>\n",
       "      <td>12.6</td>\n",
       "      <td>12.2</td>\n",
       "      <td>4.1</td>\n",
       "      <td>0.023438</td>\n",
       "      <td>0.027344</td>\n",
       "      <td>0.179688</td>\n",
       "      <td>00:12:44</td>\n",
       "      <td>False</td>\n",
       "      <td>cnt</td>\n",
       "    </tr>\n",
       "    <tr>\n",
       "      <th>0</th>\n",
       "      <td>deep5</td>\n",
       "      <td>&gt;0</td>\n",
       "      <td>ours</td>\n",
       "      <td>92.5</td>\n",
       "      <td>90.1</td>\n",
       "      <td>-2.4</td>\n",
       "      <td>4.4</td>\n",
       "      <td>1.0</td>\n",
       "      <td>0.027756</td>\n",
       "      <td>0.048441</td>\n",
       "      <td>0.503445</td>\n",
       "      <td>01:00:40</td>\n",
       "      <td>False</td>\n",
       "      <td>cnt</td>\n",
       "    </tr>\n",
       "    <tr>\n",
       "      <th>0</th>\n",
       "      <td>shallow</td>\n",
       "      <td>0-4</td>\n",
       "      <td>ours</td>\n",
       "      <td>71.0</td>\n",
       "      <td>76.5</td>\n",
       "      <td>5.5</td>\n",
       "      <td>10.4</td>\n",
       "      <td>2.3</td>\n",
       "      <td>0.032841</td>\n",
       "      <td>0.023951</td>\n",
       "      <td>0.011818</td>\n",
       "      <td>00:48:03</td>\n",
       "      <td>False</td>\n",
       "      <td>cnt</td>\n",
       "    </tr>\n",
       "    <tr>\n",
       "      <th>0</th>\n",
       "      <td>shallow</td>\n",
       "      <td>&gt;0</td>\n",
       "      <td>bcic</td>\n",
       "      <td>67.2</td>\n",
       "      <td>74.4</td>\n",
       "      <td>7.2</td>\n",
       "      <td>8.8</td>\n",
       "      <td>2.9</td>\n",
       "      <td>0.054688</td>\n",
       "      <td>0.054688</td>\n",
       "      <td>0.179688</td>\n",
       "      <td>00:12:03</td>\n",
       "      <td>False</td>\n",
       "      <td>cnt</td>\n",
       "    </tr>\n",
       "    <tr>\n",
       "      <th>0</th>\n",
       "      <td>deep5</td>\n",
       "      <td>0-4</td>\n",
       "      <td>bcic</td>\n",
       "      <td>48.8</td>\n",
       "      <td>58.7</td>\n",
       "      <td>9.9</td>\n",
       "      <td>13.9</td>\n",
       "      <td>4.6</td>\n",
       "      <td>0.105469</td>\n",
       "      <td>0.164062</td>\n",
       "      <td>0.179688</td>\n",
       "      <td>00:20:55</td>\n",
       "      <td>False</td>\n",
       "      <td>cnt</td>\n",
       "    </tr>\n",
       "    <tr>\n",
       "      <th>0</th>\n",
       "      <td>deep5</td>\n",
       "      <td>0-4</td>\n",
       "      <td>ours</td>\n",
       "      <td>71.0</td>\n",
       "      <td>76.6</td>\n",
       "      <td>5.6</td>\n",
       "      <td>15.4</td>\n",
       "      <td>3.4</td>\n",
       "      <td>0.127943</td>\n",
       "      <td>0.075851</td>\n",
       "      <td>0.041389</td>\n",
       "      <td>01:00:40</td>\n",
       "      <td>False</td>\n",
       "      <td>cnt</td>\n",
       "    </tr>\n",
       "    <tr>\n",
       "      <th>0</th>\n",
       "      <td>shallow</td>\n",
       "      <td>&gt;4</td>\n",
       "      <td>ours</td>\n",
       "      <td>90.9</td>\n",
       "      <td>92.5</td>\n",
       "      <td>1.6</td>\n",
       "      <td>4.8</td>\n",
       "      <td>1.1</td>\n",
       "      <td>0.162720</td>\n",
       "      <td>0.216167</td>\n",
       "      <td>0.041389</td>\n",
       "      <td>00:42:14</td>\n",
       "      <td>False</td>\n",
       "      <td>cnt</td>\n",
       "    </tr>\n",
       "    <tr>\n",
       "      <th>0</th>\n",
       "      <td>deep5</td>\n",
       "      <td>&gt;4</td>\n",
       "      <td>ours</td>\n",
       "      <td>90.9</td>\n",
       "      <td>89.2</td>\n",
       "      <td>-1.6</td>\n",
       "      <td>6.2</td>\n",
       "      <td>1.4</td>\n",
       "      <td>0.263363</td>\n",
       "      <td>0.189348</td>\n",
       "      <td>0.263176</td>\n",
       "      <td>00:56:35</td>\n",
       "      <td>False</td>\n",
       "      <td>cnt</td>\n",
       "    </tr>\n",
       "    <tr>\n",
       "      <th>0</th>\n",
       "      <td>deep5</td>\n",
       "      <td>&gt;4</td>\n",
       "      <td>combined</td>\n",
       "      <td>83.7</td>\n",
       "      <td>81.9</td>\n",
       "      <td>-1.8</td>\n",
       "      <td>8.6</td>\n",
       "      <td>1.6</td>\n",
       "      <td>0.296124</td>\n",
       "      <td>0.325001</td>\n",
       "      <td>0.264931</td>\n",
       "      <td>00:46:05</td>\n",
       "      <td>False</td>\n",
       "      <td>cnt</td>\n",
       "    </tr>\n",
       "    <tr>\n",
       "      <th>0</th>\n",
       "      <td>deep5</td>\n",
       "      <td>&gt;0</td>\n",
       "      <td>bcic</td>\n",
       "      <td>67.2</td>\n",
       "      <td>70.3</td>\n",
       "      <td>3.1</td>\n",
       "      <td>8.9</td>\n",
       "      <td>3.0</td>\n",
       "      <td>0.347656</td>\n",
       "      <td>0.496094</td>\n",
       "      <td>1.000000</td>\n",
       "      <td>00:20:59</td>\n",
       "      <td>False</td>\n",
       "      <td>cnt</td>\n",
       "    </tr>\n",
       "    <tr>\n",
       "      <th>0</th>\n",
       "      <td>shallow</td>\n",
       "      <td>&gt;4</td>\n",
       "      <td>combined</td>\n",
       "      <td>83.7</td>\n",
       "      <td>84.8</td>\n",
       "      <td>1.1</td>\n",
       "      <td>7.3</td>\n",
       "      <td>1.4</td>\n",
       "      <td>0.461627</td>\n",
       "      <td>0.110421</td>\n",
       "      <td>0.024120</td>\n",
       "      <td>00:32:27</td>\n",
       "      <td>False</td>\n",
       "      <td>cnt</td>\n",
       "    </tr>\n",
       "    <tr>\n",
       "      <th>0</th>\n",
       "      <td>shallow</td>\n",
       "      <td>&gt;0</td>\n",
       "      <td>combined</td>\n",
       "      <td>84.6</td>\n",
       "      <td>83.4</td>\n",
       "      <td>-1.2</td>\n",
       "      <td>8.6</td>\n",
       "      <td>1.6</td>\n",
       "      <td>0.469778</td>\n",
       "      <td>0.137330</td>\n",
       "      <td>0.136046</td>\n",
       "      <td>00:27:29</td>\n",
       "      <td>False</td>\n",
       "      <td>cnt</td>\n",
       "    </tr>\n",
       "    <tr>\n",
       "      <th>0</th>\n",
       "      <td>deep5</td>\n",
       "      <td>&gt;0</td>\n",
       "      <td>combined</td>\n",
       "      <td>84.6</td>\n",
       "      <td>84.0</td>\n",
       "      <td>-0.7</td>\n",
       "      <td>6.7</td>\n",
       "      <td>1.2</td>\n",
       "      <td>0.603301</td>\n",
       "      <td>0.335734</td>\n",
       "      <td>0.711071</td>\n",
       "      <td>00:48:21</td>\n",
       "      <td>False</td>\n",
       "      <td>cnt</td>\n",
       "    </tr>\n",
       "    <tr>\n",
       "      <th>0</th>\n",
       "      <td>deep5</td>\n",
       "      <td>&gt;4</td>\n",
       "      <td>bcic</td>\n",
       "      <td>67.8</td>\n",
       "      <td>65.7</td>\n",
       "      <td>-2.1</td>\n",
       "      <td>12.3</td>\n",
       "      <td>4.1</td>\n",
       "      <td>0.734375</td>\n",
       "      <td>1.089844</td>\n",
       "      <td>1.000000</td>\n",
       "      <td>00:22:44</td>\n",
       "      <td>False</td>\n",
       "      <td>cnt</td>\n",
       "    </tr>\n",
       "    <tr>\n",
       "      <th>0</th>\n",
       "      <td>shallow</td>\n",
       "      <td>&gt;4</td>\n",
       "      <td>bcic</td>\n",
       "      <td>67.8</td>\n",
       "      <td>67.8</td>\n",
       "      <td>0.0</td>\n",
       "      <td>11.0</td>\n",
       "      <td>3.7</td>\n",
       "      <td>1.000000</td>\n",
       "      <td>0.425781</td>\n",
       "      <td>0.507812</td>\n",
       "      <td>00:10:41</td>\n",
       "      <td>False</td>\n",
       "      <td>cnt</td>\n",
       "    </tr>\n",
       "  </tbody>\n",
       "</table>\n",
       "</div>"
      ],
      "text/plain": [
       "      name freq   dataset  test_csp  test_net  diff   std  stderr      rand  \\\n",
       "0  shallow   >0      ours      92.5      87.5  -5.0   5.1     1.1  0.000031   \n",
       "0  shallow  0-4  combined      64.1      71.8   7.7  11.5     2.1  0.001218   \n",
       "0    deep5  0-4  combined      64.1      71.0   7.0  15.1     2.8  0.021575   \n",
       "0  shallow  0-4      bcic      48.8      61.4  12.6  12.2     4.1  0.023438   \n",
       "0    deep5   >0      ours      92.5      90.1  -2.4   4.4     1.0  0.027756   \n",
       "0  shallow  0-4      ours      71.0      76.5   5.5  10.4     2.3  0.032841   \n",
       "0  shallow   >0      bcic      67.2      74.4   7.2   8.8     2.9  0.054688   \n",
       "0    deep5  0-4      bcic      48.8      58.7   9.9  13.9     4.6  0.105469   \n",
       "0    deep5  0-4      ours      71.0      76.6   5.6  15.4     3.4  0.127943   \n",
       "0  shallow   >4      ours      90.9      92.5   1.6   4.8     1.1  0.162720   \n",
       "0    deep5   >4      ours      90.9      89.2  -1.6   6.2     1.4  0.263363   \n",
       "0    deep5   >4  combined      83.7      81.9  -1.8   8.6     1.6  0.296124   \n",
       "0    deep5   >0      bcic      67.2      70.3   3.1   8.9     3.0  0.347656   \n",
       "0  shallow   >4  combined      83.7      84.8   1.1   7.3     1.4  0.461627   \n",
       "0  shallow   >0  combined      84.6      83.4  -1.2   8.6     1.6  0.469778   \n",
       "0    deep5   >0  combined      84.6      84.0  -0.7   6.7     1.2  0.603301   \n",
       "0    deep5   >4      bcic      67.8      65.7  -2.1  12.3     4.1  0.734375   \n",
       "0  shallow   >4      bcic      67.8      67.8   0.0  11.0     3.7  1.000000   \n",
       "\n",
       "       wilc      sign  time_net  clean train_type  \n",
       "0  0.000027  0.002577  00:34:25  False        cnt  \n",
       "0  0.001816  0.002316  00:37:06  False        cnt  \n",
       "0  0.015745  0.008130  00:48:20  False        cnt  \n",
       "0  0.027344  0.179688  00:12:44  False        cnt  \n",
       "0  0.048441  0.503445  01:00:40  False        cnt  \n",
       "0  0.023951  0.011818  00:48:03  False        cnt  \n",
       "0  0.054688  0.179688  00:12:03  False        cnt  \n",
       "0  0.164062  0.179688  00:20:55  False        cnt  \n",
       "0  0.075851  0.041389  01:00:40  False        cnt  \n",
       "0  0.216167  0.041389  00:42:14  False        cnt  \n",
       "0  0.189348  0.263176  00:56:35  False        cnt  \n",
       "0  0.325001  0.264931  00:46:05  False        cnt  \n",
       "0  0.496094  1.000000  00:20:59  False        cnt  \n",
       "0  0.110421  0.024120  00:32:27  False        cnt  \n",
       "0  0.137330  0.136046  00:27:29  False        cnt  \n",
       "0  0.335734  0.711071  00:48:21  False        cnt  \n",
       "0  1.089844  1.000000  00:22:44  False        cnt  \n",
       "0  0.425781  0.507812  00:10:41  False        cnt  "
      ]
     },
     "execution_count": 14,
     "metadata": {},
     "output_type": "execute_result"
    }
   ],
   "source": [
    "all_compared[(all_compared.train_type == 'cnt') &\n",
    "            (all_compared.clean == False)].sort_values(by='rand')"
   ]
  },
  {
   "cell_type": "code",
   "execution_count": 71,
   "metadata": {
    "collapsed": false
   },
   "outputs": [
    {
     "data": {
      "image/png": "[encoded data removed]",
      "text/plain": [
       "<matplotlib.figure.Figure at 0x2afe3c29d990>"
      ]
     },
     "metadata": {},
     "output_type": "display_data"
    },
    {
     "data": {
      "image/png": "[encoded data removed]",
      "text/plain": [
       "<matplotlib.figure.Figure at 0x2afe48e3c790>"
      ]
     },
     "metadata": {},
     "output_type": "display_data"
    }
   ],
   "source": [
    "%config InlineBackend.figure_format = 'png' \n",
    "\n",
    "for clean in (False, True):\n",
    "    fig = plt.figure(figsize=(7,7))\n",
    "\n",
    "    plt.plot([40,100], [40,100], color='black', label='', linestyle='--', lw=1)\n",
    "\n",
    "    all_labels = []\n",
    "    sig_count_strong = []\n",
    "    sig_count_weak = []\n",
    "    for dataset in ('bcic', 'ours', 'combined'):\n",
    "        for freq in ('0-4', '>0', '>4'):\n",
    "            for net in ('shallow', 'deep5'):\n",
    "                for train_type in ('epo','cnt'):\n",
    "                    this_row = all_compared[(all_compared.dataset == dataset) &\n",
    "                                           (all_compared.freq == freq) &\n",
    "                                           (all_compared.train_type == train_type) &\n",
    "                                           (all_compared.name == net) &\n",
    "                                            (all_compared.clean == clean)]\n",
    "                    assert len(this_row) == 1\n",
    "                    this_row = this_row.iloc[0]\n",
    "                    alpha=1\n",
    "                    if net == 'deep5':\n",
    "                        if train_type == 'cnt':\n",
    "                            marker = 'D'\n",
    "                        else:\n",
    "                            assert train_type == 'epo'\n",
    "                            marker = 'd'\n",
    "                    else:\n",
    "                        assert net == 'shallow'\n",
    "                        if train_type == 'cnt':\n",
    "                            marker = 's'\n",
    "                        else:\n",
    "                            assert train_type == 'epo'\n",
    "                            marker = ur'$\\u25AF$'\n",
    "                    if '>0' == freq:\n",
    "                        color = seaborn.color_palette()[0]\n",
    "                    elif '>4' == freq:\n",
    "                        color = seaborn.color_palette()[1]\n",
    "                    else:\n",
    "                        assert freq == '0-4'\n",
    "                        color = seaborn.color_palette()[3]\n",
    "                    markerfacecolor = 'None'\n",
    "                    if 'bcic' == dataset:\n",
    "                        markersize=7\n",
    "                    elif 'ours' == dataset:\n",
    "                        markersize=9\n",
    "                    elif 'combined' == dataset:\n",
    "                        markersize=12 \n",
    "\n",
    "                    markerfacecolor = 'None'\n",
    "                    if 'cnt' == train_type and freq != '0-4':\n",
    "                        markerfacecolor = color\n",
    "                    test_csp = this_row['test_csp']\n",
    "                    test_net = this_row['test_net']\n",
    "\n",
    "                    plt.plot(test_csp, test_net, color=color, \n",
    "                             marker=marker, linestyle='None', markersize=markersize, label='dummy',\n",
    "                            markerfacecolor=markerfacecolor, markeredgecolor=color,\n",
    "                            markeredgewidth=1, alpha=alpha)\n",
    "\n",
    "                    # add significance star\n",
    "                    if this_row['rand'] < 0.05:\n",
    "                        if this_row['rand'] < 0.01:\n",
    "                            signicance_str = '**'\n",
    "                            sig_count_strong.append(int(np.sign(test_net - test_csp)))\n",
    "                        else:\n",
    "                            signicance_str = '*'\n",
    "                            sig_count_weak.append(int(np.sign(test_net - test_csp)))\n",
    "                        plt.annotate(\n",
    "                            signicance_str, xy = (test_csp, test_net), xytext = (10, -4), fontsize=16,\n",
    "                            textcoords = 'offset points', ha = 'left', va = 'center',)\n",
    "\n",
    "\n",
    "\n",
    "    plt.xlabel('FBCSP Accuracy [%]', fontsize=18)\n",
    "\n",
    "    plt.ylabel('Convnet Accuracy [%]', fontsize=18)\n",
    "\n",
    "    circle = plt.Circle((83,83), 5, facecolor='None', linestyle='dotted', linewidth=1)\n",
    "    plt.gca().add_artist(circle)\n",
    "\n",
    "\n",
    "    ax = plt.gca()\n",
    "    handles, labels = ax.get_legend_handles_labels()\n",
    "    ax.legend(handles[12:30], (\n",
    "                               'SD-convnet <4 Hz (cropped)', \n",
    "                               'SD-convnet <4 Hz (trial)',\n",
    "                               'DG-convnet <4 Hz (cropped)',\n",
    "                               'DG-convnet <4 Hz (trial)',\n",
    "                               'SD-convnet >0 Hz (cropped)', \n",
    "                               'SD-convnet >0 Hz (trial)',\n",
    "                               'DG-convnet >0 Hz (cropped)',\n",
    "                               'DG-convnet >0 Hz (trial)',\n",
    "                               'SD-convnet >4 Hz (cropped)', \n",
    "                               'SD-convnet >4 Hz (trial)',\n",
    "                               'DG-convnet >4 Hz (cropped)',\n",
    "                               'DG-convnet >4 Hz (trial)',),\n",
    "              bbox_to_anchor=(1.55,1),fontsize=14)\n",
    "\n",
    "    plt.tight_layout()\n",
    "    plt.annotate(u\"$N_{{convnet>FBCSP}}$ = {:d}\".format(np.sum(np.array(sig_count_strong) == 1)\n",
    "                                                + np.sum(np.array(sig_count_weak) == 1)),xy=(42,96),\n",
    "                fontsize=22)\n",
    "    plt.annotate(u\"$N_{{convnet<FBCSP}}$ = {:d}\".format(np.sum(np.array(sig_count_strong) == -1)\n",
    "                                                + np.sum(np.array(sig_count_weak) == -1)),xy=(98,44),\n",
    "                fontsize=22, ha='right')\n",
    "\n",
    "\n",
    "    # We change the fontsize of minor ticks label \n",
    "    plt.gca().tick_params(axis='both', which='major', labelsize=18)\n",
    "    clean_str = 'Restricted subjects' if clean else 'All subjects'\n",
    "    plt.title('{:s}'.format(clean_str), fontsize=16)\n"
   ]
  },
  {
   "cell_type": "markdown",
   "metadata": {},
   "source": [
    "## Without ELU/Bnorm/Drop"
   ]
  },
  {
   "cell_type": "code",
   "execution_count": 16,
   "metadata": {
    "collapsed": false
   },
   "outputs": [],
   "source": [
    "all_df_past = pd.DataFrame()\n",
    "for dataset in ('bcic', 'ours'):\n",
    "    for net in 'shallow', 'deep5':\n",
    "        for training in 'epo', 'cnt':\n",
    "            for band in ['>0', '>4', '0-4']:\n",
    "                for clean in (True, False):\n",
    "                    if dataset == 'bcic':\n",
    "                        dfc = df_csp_bcic\n",
    "                    else:\n",
    "                        assert dataset == 'ours'\n",
    "                        dfc = df_csp_ours\n",
    "                    if dataset == 'bcic' and net == 'shallow' and training == 'cnt':\n",
    "                        dfn = df_shallow_cnt_bcic\n",
    "                    elif dataset == 'bcic' and net == 'shallow' and training == 'epo':\n",
    "                        dfn = df_shallow_epo_bcic\n",
    "                    elif dataset == 'bcic' and net == 'deep5' and training == 'cnt':\n",
    "                        dfn = df_deep_cnt_bcic\n",
    "                    elif dataset == 'bcic' and net == 'deep5' and training == 'epo':\n",
    "                        dfn = df_deep_epo_bcic\n",
    "                    elif dataset == 'ours' and net == 'shallow' and training == 'cnt':\n",
    "                        dfn = df_shallow_cnt_ours\n",
    "                    elif dataset == 'ours' and net == 'shallow' and training == 'epo':\n",
    "                        dfn = df_shallow_epo_ours\n",
    "                    elif dataset == 'ours' and net == 'deep5' and training == 'cnt':\n",
    "                        dfn = df_deep_cnt_ours\n",
    "                    elif dataset == 'ours' and net == 'deep5' and training == 'epo':\n",
    "                        dfn = df_deep_epo_ours\n",
    "                    else:\n",
    "                        raise ValueError(\"Unknown combination\")\n",
    "                    if clean:\n",
    "                        dfn = clean_datasets(dfn)\n",
    "                        dfc = clean_datasets(dfc)\n",
    "                    \n",
    "                    dfn = past(dfn)\n",
    "                        \n",
    "                    if band == '>0':\n",
    "                        this_dfn = above_0(dfn)\n",
    "                        this_dfc = csp_above_0(dfc)\n",
    "                    elif band == '>4':\n",
    "                        this_dfn = above_4(dfn)\n",
    "                        this_dfc = csp_above_4(dfc)\n",
    "                    elif band == '0-4':\n",
    "                        this_dfn = from_0_to_4(dfn)\n",
    "                        this_dfc = csp_0_to_4(dfc)\n",
    "                        \n",
    "                    if training == 'cnt':\n",
    "                        this_dfn = tied_loss(this_dfn)\n",
    "                        \n",
    "                    this_dfc = main_comp_csp(this_dfc)\n",
    "                    \n",
    "                    \n",
    "                    if dataset == 'bcic' and net == 'deep5' and (\n",
    "                        training == 'epo' or (band == '>0' or band == '>4')):\n",
    "                        this_dfn = this_dfn[this_dfn.layers == 'deep_5']\n",
    "                    if training == 'epo':\n",
    "                        this_dfn = this_dfn[this_dfn.max_increasing_epochs == 150]\n",
    "                    else:\n",
    "                        assert training == 'cnt'\n",
    "                        this_dfn = this_dfn[this_dfn.max_increasing_epochs == 80]\n",
    "\n",
    "                    if dataset == 'bcic':\n",
    "                        assert len(this_dfc) == 9\n",
    "                        assert len(this_dfn) == 9\n",
    "                    elif dataset == 'ours' and clean:\n",
    "                        assert len(this_dfc) == 14\n",
    "                        assert len(this_dfn) == 14\n",
    "                    elif dataset == 'ours' and (not clean):\n",
    "                        assert len(this_dfc) == 20\n",
    "                        assert len(this_dfn) == 20\n",
    "                    else:\n",
    "                        raise ValueError(\"Unknown combination\")\n",
    "                        \n",
    "                \n",
    "                    this_dfn = remove_columns_with_same_value(this_dfn)\n",
    "                    this_dfn['clean'] = clean\n",
    "                    this_dfn['net'] = net\n",
    "                    this_dfn['train_type'] = training\n",
    "                    this_dfn['freq'] = band\n",
    "                    this_dfn['dataset'] = dataset\n",
    "\n",
    "                    all_df_past = all_df_past.append(this_dfn)\n",
    "                    # no need to add csp... comparison csp stays same"
   ]
  },
  {
   "cell_type": "code",
   "execution_count": 17,
   "metadata": {
    "collapsed": false
   },
   "outputs": [],
   "source": [
    "assert len(all_df_past) == 12 * 29 +  12* 23 # no csp"
   ]
  },
  {
   "cell_type": "code",
   "execution_count": 18,
   "metadata": {
    "collapsed": false
   },
   "outputs": [
    {
     "name": "stderr",
     "output_type": "stream",
     "text": [
      "INFO:root:bcic 0-4 deep5 cnt (clean: False)\n",
      "INFO:root:bcic 0-4 deep5 cnt (clean: True)\n",
      "INFO:root:bcic 0-4 deep5 epo (clean: False)\n",
      "INFO:root:bcic 0-4 deep5 epo (clean: True)\n",
      "INFO:root:bcic 0-4 shallow cnt (clean: False)\n",
      "INFO:root:bcic 0-4 shallow cnt (clean: True)\n",
      "INFO:root:bcic 0-4 shallow epo (clean: False)\n",
      "INFO:root:bcic 0-4 shallow epo (clean: True)\n",
      "INFO:root:bcic >0 deep5 cnt (clean: False)\n",
      "INFO:root:bcic >0 deep5 cnt (clean: True)\n",
      "INFO:root:bcic >0 deep5 epo (clean: False)\n",
      "INFO:root:bcic >0 deep5 epo (clean: True)\n",
      "INFO:root:bcic >0 shallow cnt (clean: False)\n",
      "INFO:root:bcic >0 shallow cnt (clean: True)\n",
      "INFO:root:bcic >0 shallow epo (clean: False)\n",
      "INFO:root:bcic >0 shallow epo (clean: True)\n",
      "INFO:root:bcic >4 deep5 cnt (clean: False)\n",
      "INFO:root:bcic >4 deep5 cnt (clean: True)\n",
      "INFO:root:bcic >4 deep5 epo (clean: False)\n",
      "INFO:root:bcic >4 deep5 epo (clean: True)\n",
      "INFO:root:bcic >4 shallow cnt (clean: False)\n",
      "INFO:root:bcic >4 shallow cnt (clean: True)\n",
      "INFO:root:bcic >4 shallow epo (clean: False)\n",
      "INFO:root:bcic >4 shallow epo (clean: True)\n",
      "INFO:root:ours 0-4 deep5 cnt (clean: False)\n",
      "INFO:root:ours 0-4 deep5 cnt (clean: True)\n",
      "INFO:root:ours 0-4 deep5 epo (clean: False)\n",
      "INFO:root:ours 0-4 deep5 epo (clean: True)\n",
      "INFO:root:ours 0-4 shallow cnt (clean: False)\n",
      "INFO:root:ours 0-4 shallow cnt (clean: True)\n",
      "INFO:root:ours 0-4 shallow epo (clean: False)\n",
      "INFO:root:ours 0-4 shallow epo (clean: True)\n",
      "INFO:root:ours >0 deep5 cnt (clean: False)\n",
      "INFO:root:ours >0 deep5 cnt (clean: True)\n",
      "INFO:root:ours >0 deep5 epo (clean: False)\n",
      "INFO:root:ours >0 deep5 epo (clean: True)\n",
      "INFO:root:ours >0 shallow cnt (clean: False)\n",
      "INFO:root:ours >0 shallow cnt (clean: True)\n",
      "INFO:root:ours >0 shallow epo (clean: False)\n",
      "INFO:root:ours >0 shallow epo (clean: True)\n",
      "INFO:root:ours >4 deep5 cnt (clean: False)\n",
      "INFO:root:ours >4 deep5 cnt (clean: True)\n",
      "INFO:root:ours >4 deep5 epo (clean: False)\n",
      "INFO:root:ours >4 deep5 epo (clean: True)\n",
      "INFO:root:ours >4 shallow cnt (clean: False)\n",
      "INFO:root:ours >4 shallow cnt (clean: True)\n",
      "INFO:root:ours >4 shallow epo (clean: False)\n",
      "INFO:root:ours >4 shallow epo (clean: True)\n",
      "INFO:root:combined: 0-4 deep5 cnt (clean: False)\n",
      "INFO:root:combined: 0-4 deep5 cnt (clean: True)\n",
      "INFO:root:combined: 0-4 deep5 epo (clean: False)\n",
      "INFO:root:combined: 0-4 deep5 epo (clean: True)\n",
      "INFO:root:combined: 0-4 shallow cnt (clean: False)\n",
      "INFO:root:combined: 0-4 shallow cnt (clean: True)\n",
      "INFO:root:combined: 0-4 shallow epo (clean: False)\n",
      "INFO:root:combined: 0-4 shallow epo (clean: True)\n",
      "INFO:root:combined: >0 deep5 cnt (clean: False)\n",
      "INFO:root:combined: >0 deep5 cnt (clean: True)\n",
      "INFO:root:combined: >0 deep5 epo (clean: False)\n",
      "INFO:root:combined: >0 deep5 epo (clean: True)\n",
      "INFO:root:combined: >0 shallow cnt (clean: False)\n",
      "INFO:root:combined: >0 shallow cnt (clean: True)\n",
      "INFO:root:combined: >0 shallow epo (clean: False)\n",
      "INFO:root:combined: >0 shallow epo (clean: True)\n",
      "INFO:root:combined: >4 deep5 cnt (clean: False)\n",
      "INFO:root:combined: >4 deep5 cnt (clean: True)\n",
      "INFO:root:combined: >4 deep5 epo (clean: False)\n",
      "INFO:root:combined: >4 deep5 epo (clean: True)\n",
      "INFO:root:combined: >4 shallow cnt (clean: False)\n",
      "INFO:root:combined: >4 shallow cnt (clean: True)\n",
      "INFO:root:combined: >4 shallow epo (clean: False)\n",
      "INFO:root:combined: >4 shallow epo (clean: True)\n"
     ]
    }
   ],
   "source": [
    "all_compared_past = pd.DataFrame()\n",
    "param_keys = ['dataset', 'freq', 'net',  'train_type', 'clean']\n",
    "all_groups = all_df_past.groupby(param_keys)\n",
    "\n",
    "for name, group in all_groups:\n",
    "    assert len(group['freq'].unique()) == 1\n",
    "    freq = group['freq'].iloc[0]\n",
    "    assert len(group['dataset'].unique()) == 1\n",
    "    dataset = group['dataset'].iloc[0]\n",
    "    assert len(group['net'].unique()) == 1\n",
    "    net = group['net'].iloc[0]\n",
    "    assert len(group['clean'].unique()) == 1\n",
    "    clean = group['clean'].iloc[0]\n",
    "    assert len(group['train_type'].unique()) == 1\n",
    "    train_type = group['train_type'].iloc[0]\n",
    "    if net == 'csp': continue\n",
    "    log.info(\"{:s} {:s} {:s} {:s} (clean: {:s})\".format(dataset,\n",
    "                                                        freq,net, train_type, str(clean)))\n",
    "    csp = all_df[(all_df.net == 'csp') & (all_df.freq == freq) &\n",
    "                (all_df.dataset == dataset) &\n",
    "                (all_df.clean == clean)]\n",
    "    df_compare = compare_csp_net(group, csp, net, freq, dataset, with_csp_acc=True, with_std=True,\n",
    "                                with_std_error=True)   \n",
    "    df_compare['clean'] = clean\n",
    "    df_compare['train_type'] = train_type\n",
    "    all_compared_past = all_compared_past.append(df_compare)\n",
    "\n",
    "\n",
    "param_keys = ['freq', 'net',  'train_type', 'clean']\n",
    "all_groups = all_df_past.groupby(param_keys)\n",
    "\n",
    "for name, group in all_groups:\n",
    "    assert len(group['freq'].unique()) == 1\n",
    "    freq = group['freq'].iloc[0]\n",
    "    assert len(group['net'].unique()) == 1\n",
    "    net = group['net'].iloc[0]\n",
    "    assert len(group['clean'].unique()) == 1\n",
    "    clean = group['clean'].iloc[0]\n",
    "    assert len(group['train_type'].unique()) == 1\n",
    "    train_type = group['train_type'].iloc[0]\n",
    "    if net == 'csp': continue\n",
    "    log.info(\"combined: {:s} {:s} {:s} (clean: {:s})\".format(freq,net, train_type, str(clean)))\n",
    "    csp = all_df[(all_df.net == 'csp') & (all_df.freq == freq) &\n",
    "                (all_df.clean == clean)]\n",
    "    assert (len(csp) == 29 and not clean) or (len(csp) == 23 and clean)\n",
    "    df_compare = compare_csp_net(group, csp, net, freq, 'combined', with_csp_acc=True, with_std=True,\n",
    "                                with_std_error=True)\n",
    "    df_compare['clean'] = clean\n",
    "    df_compare['train_type'] = train_type\n",
    "    all_compared_past = all_compared_past.append(df_compare)"
   ]
  },
  {
   "cell_type": "code",
   "execution_count": 19,
   "metadata": {
    "collapsed": false
   },
   "outputs": [
    {
     "data": {
      "text/html": [
       "<div>\n",
       "<table border=\"1\" class=\"dataframe\">\n",
       "  <thead>\n",
       "    <tr style=\"text-align: right;\">\n",
       "      <th></th>\n",
       "      <th>name</th>\n",
       "      <th>freq</th>\n",
       "      <th>dataset</th>\n",
       "      <th>test_csp</th>\n",
       "      <th>test_net</th>\n",
       "      <th>diff</th>\n",
       "      <th>std</th>\n",
       "      <th>stderr</th>\n",
       "      <th>rand</th>\n",
       "      <th>wilc</th>\n",
       "      <th>sign</th>\n",
       "      <th>time_net</th>\n",
       "      <th>clean</th>\n",
       "      <th>train_type</th>\n",
       "    </tr>\n",
       "  </thead>\n",
       "  <tbody>\n",
       "    <tr>\n",
       "      <th>0</th>\n",
       "      <td>deep5</td>\n",
       "      <td>0-4</td>\n",
       "      <td>ours</td>\n",
       "      <td>71.0</td>\n",
       "      <td>66.4</td>\n",
       "      <td>-4.6</td>\n",
       "      <td>9.0</td>\n",
       "      <td>2.0</td>\n",
       "      <td>0.038410</td>\n",
       "      <td>0.053169</td>\n",
       "      <td>0.263176</td>\n",
       "      <td>00:22:21</td>\n",
       "      <td>False</td>\n",
       "      <td>cnt</td>\n",
       "    </tr>\n",
       "    <tr>\n",
       "      <th>0</th>\n",
       "      <td>deep5</td>\n",
       "      <td>0-4</td>\n",
       "      <td>ours</td>\n",
       "      <td>69.3</td>\n",
       "      <td>65.0</td>\n",
       "      <td>-4.3</td>\n",
       "      <td>9.4</td>\n",
       "      <td>2.5</td>\n",
       "      <td>0.120117</td>\n",
       "      <td>0.153076</td>\n",
       "      <td>0.790527</td>\n",
       "      <td>00:21:54</td>\n",
       "      <td>True</td>\n",
       "      <td>cnt</td>\n",
       "    </tr>\n",
       "    <tr>\n",
       "      <th>0</th>\n",
       "      <td>deep5</td>\n",
       "      <td>0-4</td>\n",
       "      <td>ours</td>\n",
       "      <td>71.0</td>\n",
       "      <td>72.0</td>\n",
       "      <td>1.1</td>\n",
       "      <td>9.3</td>\n",
       "      <td>2.1</td>\n",
       "      <td>0.625978</td>\n",
       "      <td>0.474905</td>\n",
       "      <td>0.115318</td>\n",
       "      <td>00:09:10</td>\n",
       "      <td>False</td>\n",
       "      <td>epo</td>\n",
       "    </tr>\n",
       "    <tr>\n",
       "      <th>0</th>\n",
       "      <td>deep5</td>\n",
       "      <td>0-4</td>\n",
       "      <td>ours</td>\n",
       "      <td>69.3</td>\n",
       "      <td>70.6</td>\n",
       "      <td>1.3</td>\n",
       "      <td>7.8</td>\n",
       "      <td>2.1</td>\n",
       "      <td>0.576538</td>\n",
       "      <td>0.357544</td>\n",
       "      <td>0.179565</td>\n",
       "      <td>00:09:01</td>\n",
       "      <td>True</td>\n",
       "      <td>epo</td>\n",
       "    </tr>\n",
       "    <tr>\n",
       "      <th>0</th>\n",
       "      <td>deep5</td>\n",
       "      <td>&gt;0</td>\n",
       "      <td>ours</td>\n",
       "      <td>92.5</td>\n",
       "      <td>80.4</td>\n",
       "      <td>-12.1</td>\n",
       "      <td>17.8</td>\n",
       "      <td>4.0</td>\n",
       "      <td>0.000050</td>\n",
       "      <td>0.000063</td>\n",
       "      <td>0.000040</td>\n",
       "      <td>00:29:48</td>\n",
       "      <td>False</td>\n",
       "      <td>cnt</td>\n",
       "    </tr>\n",
       "    <tr>\n",
       "      <th>0</th>\n",
       "      <td>deep5</td>\n",
       "      <td>&gt;0</td>\n",
       "      <td>ours</td>\n",
       "      <td>92.8</td>\n",
       "      <td>83.8</td>\n",
       "      <td>-9.0</td>\n",
       "      <td>15.6</td>\n",
       "      <td>4.2</td>\n",
       "      <td>0.002197</td>\n",
       "      <td>0.003052</td>\n",
       "      <td>0.001831</td>\n",
       "      <td>00:28:00</td>\n",
       "      <td>True</td>\n",
       "      <td>cnt</td>\n",
       "    </tr>\n",
       "    <tr>\n",
       "      <th>0</th>\n",
       "      <td>deep5</td>\n",
       "      <td>&gt;0</td>\n",
       "      <td>ours</td>\n",
       "      <td>92.5</td>\n",
       "      <td>74.0</td>\n",
       "      <td>-18.5</td>\n",
       "      <td>18.6</td>\n",
       "      <td>4.2</td>\n",
       "      <td>0.000004</td>\n",
       "      <td>0.000004</td>\n",
       "      <td>0.000040</td>\n",
       "      <td>00:11:14</td>\n",
       "      <td>False</td>\n",
       "      <td>epo</td>\n",
       "    </tr>\n",
       "    <tr>\n",
       "      <th>0</th>\n",
       "      <td>deep5</td>\n",
       "      <td>&gt;0</td>\n",
       "      <td>ours</td>\n",
       "      <td>92.8</td>\n",
       "      <td>76.1</td>\n",
       "      <td>-16.7</td>\n",
       "      <td>18.0</td>\n",
       "      <td>4.8</td>\n",
       "      <td>0.000244</td>\n",
       "      <td>0.000244</td>\n",
       "      <td>0.001831</td>\n",
       "      <td>00:10:24</td>\n",
       "      <td>True</td>\n",
       "      <td>epo</td>\n",
       "    </tr>\n",
       "    <tr>\n",
       "      <th>0</th>\n",
       "      <td>deep5</td>\n",
       "      <td>&gt;4</td>\n",
       "      <td>ours</td>\n",
       "      <td>90.9</td>\n",
       "      <td>79.5</td>\n",
       "      <td>-11.3</td>\n",
       "      <td>16.1</td>\n",
       "      <td>3.6</td>\n",
       "      <td>0.001091</td>\n",
       "      <td>0.000708</td>\n",
       "      <td>0.002577</td>\n",
       "      <td>00:34:08</td>\n",
       "      <td>False</td>\n",
       "      <td>cnt</td>\n",
       "    </tr>\n",
       "    <tr>\n",
       "      <th>0</th>\n",
       "      <td>deep5</td>\n",
       "      <td>&gt;4</td>\n",
       "      <td>ours</td>\n",
       "      <td>91.0</td>\n",
       "      <td>83.7</td>\n",
       "      <td>-7.2</td>\n",
       "      <td>17.2</td>\n",
       "      <td>4.6</td>\n",
       "      <td>0.068604</td>\n",
       "      <td>0.041870</td>\n",
       "      <td>0.057373</td>\n",
       "      <td>00:36:06</td>\n",
       "      <td>True</td>\n",
       "      <td>cnt</td>\n",
       "    </tr>\n",
       "    <tr>\n",
       "      <th>0</th>\n",
       "      <td>deep5</td>\n",
       "      <td>&gt;4</td>\n",
       "      <td>ours</td>\n",
       "      <td>90.9</td>\n",
       "      <td>57.1</td>\n",
       "      <td>-33.8</td>\n",
       "      <td>17.8</td>\n",
       "      <td>4.0</td>\n",
       "      <td>0.000002</td>\n",
       "      <td>0.000002</td>\n",
       "      <td>0.000002</td>\n",
       "      <td>00:11:04</td>\n",
       "      <td>False</td>\n",
       "      <td>epo</td>\n",
       "    </tr>\n",
       "    <tr>\n",
       "      <th>0</th>\n",
       "      <td>deep5</td>\n",
       "      <td>&gt;4</td>\n",
       "      <td>ours</td>\n",
       "      <td>91.0</td>\n",
       "      <td>60.6</td>\n",
       "      <td>-30.4</td>\n",
       "      <td>18.0</td>\n",
       "      <td>4.8</td>\n",
       "      <td>0.000122</td>\n",
       "      <td>0.000122</td>\n",
       "      <td>0.000122</td>\n",
       "      <td>00:10:56</td>\n",
       "      <td>True</td>\n",
       "      <td>epo</td>\n",
       "    </tr>\n",
       "  </tbody>\n",
       "</table>\n",
       "</div>"
      ],
      "text/plain": [
       "    name freq dataset  test_csp  test_net  diff   std  stderr      rand  \\\n",
       "0  deep5  0-4    ours      71.0      66.4  -4.6   9.0     2.0  0.038410   \n",
       "0  deep5  0-4    ours      69.3      65.0  -4.3   9.4     2.5  0.120117   \n",
       "0  deep5  0-4    ours      71.0      72.0   1.1   9.3     2.1  0.625978   \n",
       "0  deep5  0-4    ours      69.3      70.6   1.3   7.8     2.1  0.576538   \n",
       "0  deep5   >0    ours      92.5      80.4 -12.1  17.8     4.0  0.000050   \n",
       "0  deep5   >0    ours      92.8      83.8  -9.0  15.6     4.2  0.002197   \n",
       "0  deep5   >0    ours      92.5      74.0 -18.5  18.6     4.2  0.000004   \n",
       "0  deep5   >0    ours      92.8      76.1 -16.7  18.0     4.8  0.000244   \n",
       "0  deep5   >4    ours      90.9      79.5 -11.3  16.1     3.6  0.001091   \n",
       "0  deep5   >4    ours      91.0      83.7  -7.2  17.2     4.6  0.068604   \n",
       "0  deep5   >4    ours      90.9      57.1 -33.8  17.8     4.0  0.000002   \n",
       "0  deep5   >4    ours      91.0      60.6 -30.4  18.0     4.8  0.000122   \n",
       "\n",
       "       wilc      sign  time_net  clean train_type  \n",
       "0  0.053169  0.263176  00:22:21  False        cnt  \n",
       "0  0.153076  0.790527  00:21:54   True        cnt  \n",
       "0  0.474905  0.115318  00:09:10  False        epo  \n",
       "0  0.357544  0.179565  00:09:01   True        epo  \n",
       "0  0.000063  0.000040  00:29:48  False        cnt  \n",
       "0  0.003052  0.001831  00:28:00   True        cnt  \n",
       "0  0.000004  0.000040  00:11:14  False        epo  \n",
       "0  0.000244  0.001831  00:10:24   True        epo  \n",
       "0  0.000708  0.002577  00:34:08  False        cnt  \n",
       "0  0.041870  0.057373  00:36:06   True        cnt  \n",
       "0  0.000002  0.000002  00:11:04  False        epo  \n",
       "0  0.000122  0.000122  00:10:56   True        epo  "
      ]
     },
     "execution_count": 19,
     "metadata": {},
     "output_type": "execute_result"
    }
   ],
   "source": [
    "all_compared_past[(all_compared.name == 'deep5') & (all_compared.dataset == 'ours') \n",
    "                 ]"
   ]
  },
  {
   "cell_type": "code",
   "execution_count": 78,
   "metadata": {
    "collapsed": false
   },
   "outputs": [
    {
     "data": {
      "image/png": "[encoded data removed]",
      "text/plain": [
       "<matplotlib.figure.Figure at 0x2afe37437b10>"
      ]
     },
     "metadata": {},
     "output_type": "display_data"
    },
    {
     "data": {
      "image/png": "[encoded data removed]",
      "text/plain": [
       "<matplotlib.figure.Figure at 0x2afe49772c50>"
      ]
     },
     "metadata": {},
     "output_type": "display_data"
    }
   ],
   "source": [
    "%config InlineBackend.figure_format = 'png' \n",
    "\n",
    "for clean in (False, True):\n",
    "    fig = plt.figure(figsize=(7,7))\n",
    "\n",
    "    plt.plot([40,100], [40,100], color='black', label='', linestyle='--', lw=1)\n",
    "\n",
    "    all_labels = []\n",
    "    sig_count_strong = []\n",
    "    sig_count_weak = []\n",
    "    for dataset in ('bcic', 'ours', 'combined'):\n",
    "        for freq in ('0-4', '>0', '>4'):\n",
    "            for net in ('shallow', 'deep5'):\n",
    "                for train_type in ('epo','cnt'):\n",
    "                    this_row = all_compared_past[(all_compared_past.dataset == dataset) &\n",
    "                                           (all_compared_past.freq == freq) &\n",
    "                                           (all_compared_past.train_type == train_type) &\n",
    "                                           (all_compared_past.name == net) &\n",
    "                                            (all_compared_past.clean == clean)]\n",
    "                    assert len(this_row) == 1\n",
    "                    this_row = this_row.iloc[0]\n",
    "                    alpha=1\n",
    "                    if net == 'deep5':\n",
    "                        if train_type == 'cnt':\n",
    "                            marker = 'D'\n",
    "                        else:\n",
    "                            assert train_type == 'epo'\n",
    "                            marker = 'd'\n",
    "                    else:\n",
    "                        assert net == 'shallow'\n",
    "                        if train_type == 'cnt':\n",
    "                            marker = 's'\n",
    "                        else:\n",
    "                            assert train_type == 'epo'\n",
    "                            marker = ur'$\\u25AF$'\n",
    "                    if '>0' == freq:\n",
    "                        color = seaborn.color_palette()[0]\n",
    "                    elif '>4' == freq:\n",
    "                        color = seaborn.color_palette()[1]\n",
    "                    else:\n",
    "                        assert freq == '0-4'\n",
    "                        color = seaborn.color_palette()[3]\n",
    "                    markerfacecolor = 'None'\n",
    "                    if 'bcic' == dataset:\n",
    "                        markersize=7\n",
    "                    elif 'ours' == dataset:\n",
    "                        markersize=9\n",
    "                    elif 'combined' == dataset:\n",
    "                        markersize=12 \n",
    "\n",
    "                    markerfacecolor = 'None'\n",
    "                    if 'cnt' == train_type and freq != '0-4':\n",
    "                        markerfacecolor = color\n",
    "                    test_csp = this_row['test_csp']\n",
    "                    test_net = this_row['test_net']\n",
    "\n",
    "                    plt.plot(test_csp, test_net, color=color, \n",
    "                             marker=marker, linestyle='None', markersize=markersize, label='dummy',\n",
    "                            markerfacecolor=markerfacecolor, markeredgecolor=color,\n",
    "                            markeredgewidth=1, alpha=alpha)\n",
    "\n",
    "                    # add significance star\n",
    "                    if this_row['rand'] < 0.05:\n",
    "                        if this_row['rand'] < 0.01:\n",
    "                            signicance_str = '**'\n",
    "                            sig_count_strong.append(int(np.sign(test_net - test_csp)))\n",
    "                        else:\n",
    "                            signicance_str = '*'\n",
    "                            sig_count_weak.append(int(np.sign(test_net - test_csp)))\n",
    "                        plt.annotate(\n",
    "                            signicance_str, xy = (test_csp, test_net), xytext = (10, -4), fontsize=16,\n",
    "                            textcoords = 'offset points', ha = 'left', va = 'center',)\n",
    "\n",
    "\n",
    "\n",
    "    plt.xlabel('FBCSP Accuracy [%]', fontsize=18)\n",
    "\n",
    "    plt.ylabel('Convnet Accuracy [%]', fontsize=18)\n",
    "\n",
    "   \n",
    "    if clean:\n",
    "        ellipse = matplotlib.patches.Ellipse((83,77), 10,24,\n",
    "                                        facecolor='None', linestyle='dotted', linewidth=1)\n",
    "    else:\n",
    "        ellipse = matplotlib.patches.Ellipse((84,77), 10,24,\n",
    "                                        facecolor='None', linestyle='dotted', linewidth=1)\n",
    "        \n",
    "    plt.gca().add_artist(ellipse)\n",
    "\n",
    "\n",
    "    ax = plt.gca()\n",
    "    handles, labels = ax.get_legend_handles_labels()\n",
    "    ax.legend(handles[12:30], (\n",
    "                               'SD-convnet <4 Hz (cropped)', \n",
    "                               'SD-convnet <4 Hz (trial)',\n",
    "                               'DG-convnet <4 Hz (cropped)',\n",
    "                               'DG-convnet <4 Hz (trial)',\n",
    "                               'SD-convnet >0 Hz (cropped)', \n",
    "                               'SD-convnet >0 Hz (trial)',\n",
    "                               'DG-convnet >0 Hz (cropped)',\n",
    "                               'DG-convnet >0 Hz (trial)',\n",
    "                               'SD-convnet >4 Hz (cropped)', \n",
    "                               'SD-convnet >4 Hz (trial)',\n",
    "                               'DG-convnet >4 Hz (cropped)',\n",
    "                               'DG-convnet >4 Hz (trial)',),\n",
    "              bbox_to_anchor=(1.55,1),fontsize=14)\n",
    "\n",
    "    plt.tight_layout()\n",
    "    plt.annotate(u\"$N_{{convnet>FBCSP}}$ = {:d}\".format(np.sum(np.array(sig_count_strong) == 1)\n",
    "                                                + np.sum(np.array(sig_count_weak) == 1)),xy=(42,96),\n",
    "                fontsize=22)\n",
    "    plt.annotate(u\"$N_{{convnet<FBCSP}}$ = {:d}\".format(np.sum(np.array(sig_count_strong) == -1)\n",
    "                                                + np.sum(np.array(sig_count_weak) == -1)),xy=(98,44),\n",
    "                fontsize=22, ha='right')\n",
    "\n",
    "\n",
    "    # We change the fontsize of minor ticks label \n",
    "    plt.gca().tick_params(axis='both', which='major', labelsize=18)\n",
    "    clean_str = 'Restricted subjects' if clean else 'All subjects'\n",
    "    plt.title('{:s}'.format(clean_str), fontsize=16)\n"
   ]
  },
  {
   "cell_type": "markdown",
   "metadata": {},
   "source": [
    "### Trial vs Sample"
   ]
  },
  {
   "cell_type": "code",
   "execution_count": 21,
   "metadata": {
    "collapsed": false
   },
   "outputs": [
    {
     "name": "stderr",
     "output_type": "stream",
     "text": [
      "INFO:root:bcic 0-4 deep5\n",
      "INFO:root:bcic 0-4 shallow\n",
      "INFO:root:bcic >0 deep5\n",
      "INFO:root:bcic >0 shallow\n",
      "INFO:root:bcic >4 deep5\n",
      "INFO:root:bcic >4 shallow\n",
      "INFO:root:ours 0-4 deep5\n",
      "INFO:root:ours 0-4 shallow\n",
      "INFO:root:ours >0 deep5\n",
      "INFO:root:ours >0 shallow\n",
      "INFO:root:ours >4 deep5\n",
      "INFO:root:ours >4 shallow\n",
      "INFO:root:combined 0-4 deep5\n",
      "INFO:root:combined 0-4 shallow\n",
      "INFO:root:combined >0 deep5\n",
      "INFO:root:combined >0 shallow\n",
      "INFO:root:combined >4 deep5\n",
      "INFO:root:combined >4 shallow\n"
     ]
    }
   ],
   "source": [
    "clean_trial_sample = True\n",
    "    \n",
    "df_cnt = all_compared[(all_compared.train_type == 'cnt') &\n",
    "                     (all_compared.clean == clean_trial_sample)]\n",
    "\n",
    "df_cnt_epo = pd.DataFrame()\n",
    "for i_row in xrange(len(df_cnt)):\n",
    "    this_row = df_cnt.iloc[i_row,:]\n",
    "    \n",
    "    if this_row['dataset'] in ('bcic', 'ours'):\n",
    "        this_cnt = all_df[(all_df.net == this_row['name']) & \n",
    "                         (all_df.freq == this_row['freq'])& \n",
    "                         (all_df.dataset == this_row['dataset']) &\n",
    "                         (all_df.train_type == 'cnt') &\n",
    "                         (all_df.clean == clean_trial_sample)]\n",
    "    else:\n",
    "        assert this_row['dataset'] == 'combined'\n",
    "        this_cnt_1 = all_df[(all_df.net == this_row['name']) & \n",
    "                         (all_df.freq == this_row['freq'])& \n",
    "                         (all_df.dataset == 'bcic') &\n",
    "                         (all_df.train_type == 'cnt') &\n",
    "                         (all_df.clean == clean_trial_sample) &\n",
    "                         (all_df.clean == clean_trial_sample)]\n",
    "        this_cnt_2 = all_df[(all_df.net == this_row['name']) & \n",
    "                         (all_df.freq == this_row['freq'])& \n",
    "                         (all_df.dataset == 'ours') &\n",
    "                         (all_df.train_type == 'cnt') &\n",
    "                         (all_df.clean == clean_trial_sample)]\n",
    "        this_cnt = pd.concat((this_cnt_1, this_cnt_2))\n",
    "\n",
    "    if this_row['dataset'] in ('bcic', 'ours'):\n",
    "        this_epo = all_df[(all_df.net == this_row['name']) & \n",
    "                         (all_df.freq == this_row['freq'])& \n",
    "                         (all_df.dataset == this_row['dataset']) &\n",
    "                         (all_df.train_type == 'epo') &\n",
    "                         (all_df.clean == clean_trial_sample)]\n",
    "    else:\n",
    "        assert this_row['dataset'] == 'combined'\n",
    "        this_epo_1 = all_df[(all_df.net == this_row['name']) & \n",
    "                         (all_df.freq == this_row['freq']) & \n",
    "                         (all_df.dataset == 'bcic') &\n",
    "                         (all_df.train_type == 'epo') &\n",
    "                         (all_df.clean == clean_trial_sample)]\n",
    "        this_epo_2 = all_df[(all_df.net == this_row['name']) & \n",
    "                         (all_df.freq == this_row['freq']) & \n",
    "                         (all_df.dataset == 'ours') &\n",
    "                         (all_df.train_type == 'epo') &\n",
    "                         (all_df.clean == clean_trial_sample)]\n",
    "        this_epo = pd.concat((this_epo_1, this_epo_2))\n",
    "    this_df = pd.DataFrame()\n",
    "    cnt_test = np.array(this_cnt.test)\n",
    "    epo_test = np.array(this_epo.test)\n",
    "        \n",
    "    this_df['dataset'] = [this_row['dataset']]\n",
    "    this_df['net'] = [this_row['name'].replace('cnt ', '')]\n",
    "    this_df['freq'] = [this_row['freq']]\n",
    "    this_df['test'] = [np.mean(epo_test)]\n",
    "    this_df['diff'] = [np.mean(cnt_test - epo_test)]\n",
    "    this_df['std'] = [np.std(cnt_test - epo_test)]\n",
    "    this_df['stderr'] = [np.std(cnt_test - epo_test) / np.sqrt(len(cnt_test))]\n",
    "    log.info(\"{:s} {:s} {:s}\".format(this_row['dataset'],\n",
    "        this_row['freq'], this_row['name']))\n",
    "    add_p_vals_to_df_row(this_df, cnt_test, epo_test)\n",
    "    \n",
    "    df_cnt_epo = pd.concat((df_cnt_epo, this_df))"
   ]
  },
  {
   "cell_type": "code",
   "execution_count": 73,
   "metadata": {
    "collapsed": false
   },
   "outputs": [
    {
     "data": {
      "image/png": "[encoded data removed]",
      "text/plain": [
       "<matplotlib.figure.Figure at 0x2afe371f9710>"
      ]
     },
     "metadata": {},
     "output_type": "display_data"
    }
   ],
   "source": [
    "from matplotlib.lines import Line2D\n",
    "plt.figure(figsize=(12,4))\n",
    "offset = 0\n",
    "for freq in ('0-4', '>0', '>4'):\n",
    "    for net in ('shallow', 'deep5'):\n",
    "        for dataset in ('bcic', 'ours', 'combined'):\n",
    "            if 'bcic' == dataset:\n",
    "                markersize=6\n",
    "            elif 'ours' == dataset:\n",
    "                markersize=9\n",
    "            if 'combined' == dataset:\n",
    "                markersize=12\n",
    "            this_row = df_cnt_epo[(df_cnt_epo.dataset == dataset) &\n",
    "                                 (df_cnt_epo.freq == freq) &\n",
    "                                 (df_cnt_epo.net == net)]\n",
    "            label = 'dummy'\n",
    "            if net == 'deep5':\n",
    "                marker = 'D'\n",
    "            else:\n",
    "                assert net == 'shallow'\n",
    "                marker = 's'\n",
    "            if '0-4' == freq:\n",
    "                color = seaborn.color_palette()[3]\n",
    "            elif '>0' == freq:\n",
    "                color = seaborn.color_palette()[0]\n",
    "            elif '>4' == freq:\n",
    "                color = seaborn.color_palette()[1]\n",
    "            plt.errorbar(offset, this_row['diff'][0], color=color,\n",
    "                         yerr=this_row['stderr'][0], marker=marker,\n",
    "                        markersize=markersize, label=label)\n",
    "            if this_row['rand'][0] < 0.05:\n",
    "                if this_row['rand'][0] < 0.01:\n",
    "                    signicance_str = '**'\n",
    "                else:\n",
    "                    signicance_str = '*'\n",
    "                plt.annotate(\n",
    "                    signicance_str, xy = (offset, this_row['diff'][0]), xytext = (10, -4), fontsize=16,\n",
    "                        textcoords = 'offset points', ha = 'left', va = 'center',)\n",
    "\n",
    "            offset += 0.2\n",
    "    offset += 0.5\n",
    "    offset = np.ceil(offset)\n",
    "plt.axhline(y=0, color='black', linestyle='dashed')\n",
    "plt.xlim(-0.5,5.5)\n",
    "plt.xticks(np.arange(0.5,5.5,2), ('<4 Hz', '>0 Hz', '>4 Hz'), rotation=23)\n",
    "plt.grid('off', axis='x')\n",
    "plt.ylabel('Accuracy Difference [%]')\n",
    "ax = plt.gca()\n",
    "handles, labels = ax.get_legend_handles_labels()\n",
    "# recreate  with empty line, only marker\n",
    "handles = [Line2D([0], [0], color=h[0].get_color(), marker=h[0].get_marker(),\n",
    "    markersize=9, linewidth=0) for h in handles]\n",
    "ax.legend(handles[1::3], ('SD-convnet <4 Hz', 'DG-convnet <4 Hz',\n",
    "                          'SD-convnet >0 Hz', 'DG-convnet >0 Hz',\n",
    "                          'SD-convnet >4 Hz', 'DG-convnet >4 Hz'), \n",
    "          bbox_to_anchor=(1.2,1))\n",
    "None"
   ]
  },
  {
   "cell_type": "markdown",
   "metadata": {},
   "source": [
    "### Modification Experiments"
   ]
  },
  {
   "cell_type": "code",
   "execution_count": 24,
   "metadata": {
    "collapsed": false
   },
   "outputs": [],
   "source": [
    "clean_mod_compare = True\n",
    "df_mod = pd.DataFrame()\n",
    "shallow_variants = [\n",
    "                   ('No Dropout', lambda df: no_drop(yes_bnorm(df))),\n",
    "                   ('No Batch Norm', lambda df: yes_drop(no_bnorm(df))),\n",
    "                   ('No Dropout No Batch Norm', lambda df: no_drop(no_bnorm(df))),\n",
    "                   ('No Split 1st Layer', no_split_first_layer),\n",
    "                   ('No Tied Loss', no_tied_loss),\n",
    "                   ('Sqrt instead of log', square_mean_sqrt),\n",
    "                   ('Elu Max', elu_max_shallow),\n",
    "                   ('Elu Mean', elu_mean_shallow),]\n",
    "\n",
    "deep_variants = [\n",
    "                   ('No Dropout', lambda df: tied_loss(no_drop(yes_bnorm(df)))),\n",
    "                   ('No Batch Norm', lambda df: tied_loss(split_first_layer(yes_drop(no_bnorm(df))))),\n",
    "                   ('No Dropout No Batch Norm', lambda df: tied_loss(\n",
    "                        single_time_convs(elu_nonlins(no_drop(no_bnorm(df)))))),\n",
    "                   ('No Split 1st Layer', no_split_first_layer),\n",
    "                   ('No Tied Loss', lambda df: no_tied_loss(\n",
    "                        single_time_convs(yes_drop(yes_bnorm(elu_nonlins(df)))))),\n",
    "                   ('ReLU', lambda df: relu_nonlins(yes_bnorm(df))),\n",
    "                   ('Log(Mean(Square)) first', square_mean_first),\n",
    "                   ('Log(Max(Square)) first', square_max_first),\n",
    "                   ('6x1+6x1 convs', double_time_convs),]\n",
    "\n",
    "for dataset in 'bcic', 'ours', 'combined':\n",
    "    for net in 'shallow', 'deep5':\n",
    "        if net == 'shallow':\n",
    "            variants = shallow_variants\n",
    "        else:\n",
    "            assert net == 'deep5'\n",
    "            variants = deep_variants\n",
    "        if dataset == 'bcic' and net == 'shallow':\n",
    "            df_compare = df_shallow_cnt_bcic\n",
    "        elif dataset == 'bcic' and net == 'deep5':\n",
    "            df_compare = df_deep_cnt_bcic\n",
    "        elif dataset == 'ours' and net == 'shallow':\n",
    "            df_compare = df_shallow_cnt_ours\n",
    "        elif dataset == 'ours' and net == 'deep5':\n",
    "            df_compare = df_deep_cnt_ours\n",
    "        elif dataset == 'combined' and net == 'shallow':\n",
    "            df_compare = (df_shallow_cnt_bcic, df_shallow_cnt_ours)\n",
    "        elif dataset == 'combined' and net == 'deep5':\n",
    "            df_compare = (df_deep_cnt_bcic, df_deep_cnt_ours)\n",
    "        else:\n",
    "            raise ValueError(\"unknown combination\")\n",
    "            \n",
    "        if clean_mod_compare:\n",
    "            if dataset != 'combined':\n",
    "                df_compare = clean_datasets(df_compare)\n",
    "            else:\n",
    "                assert dataset == 'combined'\n",
    "                df_compare = [clean_datasets(df_set) for df_set in df_compare]\n",
    "        if dataset != 'combined':\n",
    "            df_compare = df_compare[df_compare.max_increasing_epochs == 80]\n",
    "        else:\n",
    "            assert dataset == 'combined'\n",
    "            df_compare = [df_set[df_set.max_increasing_epochs == 80] for df_set in df_compare]\n",
    "            \n",
    "        for freq in '>0', '>4':\n",
    "            if dataset in ('bcic', 'ours'):\n",
    "                df_baseline = all_df[(all_df.net == net)&\n",
    "                                    (all_df.freq == freq) &\n",
    "                                    (all_df.dataset == dataset) &\n",
    "                                    (all_df.train_type == 'cnt') &\n",
    "                                    (all_df.clean == clean_mod_compare)]\n",
    "            else:\n",
    "                df_baseline =  all_df[(all_df.net == net)&\n",
    "                                    (all_df.freq == freq) &\n",
    "                                    (all_df.train_type == 'cnt') &\n",
    "                                    (all_df.clean == clean_mod_compare)]\n",
    "                \n",
    "            for var_name, var_func in variants:\n",
    "                if freq == '>0' and dataset in ('bcic', 'ours'):\n",
    "                    df_var = var_func(above_0(df_compare))\n",
    "                elif dataset in ('bcic', 'ours'):\n",
    "                    assert freq == '>4'\n",
    "                    df_var = var_func(above_4(df_compare))\n",
    "                elif freq == '>0' and dataset == 'combined':\n",
    "                    df_var_1 = var_func(above_0(df_compare[0]))\n",
    "                    df_var_2 = var_func(above_0(df_compare[1]))\n",
    "                    df_var = pd.concat((df_var_1, df_var_2))\n",
    "                elif freq == '>4' and dataset == 'combined':\n",
    "                    df_var_1 = var_func(above_4(df_compare[0]))\n",
    "                    df_var_2 = var_func(above_4(df_compare[1]))\n",
    "                    df_var = pd.concat((df_var_1, df_var_2))\n",
    "                if var_name != 'No Tied Loss':\n",
    "                    df_var = tied_loss(df_var)\n",
    "                if dataset == 'bcic':\n",
    "                    assert len(df_var) == 9\n",
    "                elif dataset == 'ours':\n",
    "                    assert len(df_var) == 20 or (len(df_var) == 14 and clean_mod_compare)\n",
    "                else:\n",
    "                    assert dataset == 'combined'\n",
    "                    assert len(df_var) == 29 or (len(df_var) == 23 and clean_mod_compare)\n",
    "                assert len(df_var) == len(df_baseline), (\n",
    "                    \"Expect length of variant {:d} to be same as length of baseline {:d}\".format(\n",
    "                    len(df_var), len(df_baseline)))\n",
    "                df_merged = df_baseline.merge(df_var, on='dataset_filename', suffixes=('_base','_var'))\n",
    "                # not really necessary to sort, just to make sure \n",
    "                df_merged = df_merged.sort_values(by='dataset_filename')\n",
    "                this_df_mod = pd.DataFrame()\n",
    "                this_df_mod['dataset'] = [dataset]\n",
    "                this_df_mod['net'] = [net]\n",
    "                this_df_mod['freq'] = [freq]\n",
    "                this_df_mod['variant'] = [var_name]\n",
    "                this_df_mod['test'] = [np.mean(df_merged.test_var)]\n",
    "                this_df_mod['diff'] = [np.mean(df_merged.test_var - df_merged.test_base)]\n",
    "                this_df_mod['std'] = [np.std(df_merged.test_var - df_merged.test_base)]\n",
    "                this_df_mod['stderr'] = [np.std(df_merged.test_var - df_merged.test_base) / \n",
    "                                         np.sqrt(len(df_merged))]\n",
    "                \n",
    "                add_p_vals_to_df_row(this_df_mod, np.array(df_merged.test_var), \n",
    "                                     np.array(df_merged.test_base), n_diffs_for_large=2**17)\n",
    "                df_mod = pd.concat((df_mod, this_df_mod))\n",
    "    \n",
    "\n"
   ]
  },
  {
   "cell_type": "code",
   "execution_count": 25,
   "metadata": {
    "collapsed": false
   },
   "outputs": [],
   "source": [
    "common_variants = np.intersect1d(zip(*deep_variants)[0], zip(*shallow_variants)[0])\n",
    "\n",
    "other_shallow_vars = np.setdiff1d(zip(*shallow_variants)[0], zip(*deep_variants)[0])[::-1]\n",
    "other_deep_vars = np.setdiff1d(zip(*deep_variants)[0], zip(*shallow_variants)[0])[::-1]\n",
    "all_variants = np.concatenate((common_variants, other_shallow_vars,other_deep_vars))\n",
    "\n",
    "uncommon_variants = np.concatenate((other_shallow_vars, other_deep_vars))"
   ]
  },
  {
   "cell_type": "code",
   "execution_count": 75,
   "metadata": {
    "collapsed": false
   },
   "outputs": [
    {
     "data": {
      "text/plain": [
       "<matplotlib.legend.Legend at 0x2afe3708f110>"
      ]
     },
     "execution_count": 75,
     "metadata": {},
     "output_type": "execute_result"
    },
    {
     "data": {
      "image/png": "[encoded data removed]",
      "text/plain": [
       "<matplotlib.figure.Figure at 0x2afe3ca1b610>"
      ]
     },
     "metadata": {},
     "output_type": "display_data"
    }
   ],
   "source": [
    "plt.figure(figsize=(14,6))\n",
    "offset = 0\n",
    "for i_var, var_name in enumerate(common_variants):\n",
    "    for freq in [\">0\", \">4\"]:\n",
    "        for net in 'shallow', 'deep5':\n",
    "            for dataset in 'bcic', 'ours', 'combined':\n",
    "                if 'bcic' == dataset:\n",
    "                    markersize=5\n",
    "                elif 'ours' == dataset:\n",
    "                    markersize=7.5\n",
    "                elif 'combined' == dataset:\n",
    "                    markersize=10\n",
    "                if net == 'deep5':\n",
    "                    marker = 'D'\n",
    "                else:\n",
    "                    assert net == 'shallow'\n",
    "                    marker = 's'\n",
    "                if '>0' == freq:\n",
    "                    color = seaborn.color_palette()[0]\n",
    "                elif '>4' == freq:\n",
    "                    color = seaborn.color_palette()[1]\n",
    "                this_var = df_mod[(df_mod.variant == var_name) &\n",
    "                                 (df_mod.net == net) & \n",
    "                                 (df_mod.freq == freq) & \n",
    "                                 (df_mod.dataset == dataset)]\n",
    "                \n",
    "                plt.errorbar(offset, this_var['diff'][0], color=color,\n",
    "                             yerr=this_var['stderr'][0], marker=marker,\n",
    "                            markersize=markersize, label='dummy')\n",
    "                if this_var['rand'][0] < 0.05:\n",
    "                    significance_str = '*'\n",
    "                    if this_var['rand'][0] < 0.01:\n",
    "                        significance_str = '**'\n",
    "                    plt.annotate(\n",
    "                            significance_str, xy = (offset, this_var['diff'][0]), xytext = (-3, 15), fontsize=16,\n",
    "                            textcoords = 'offset points', ha = 'left', va = 'top',)\n",
    "                offset += 0.35\n",
    "        offset += 0.1\n",
    "    offset += 0.5\n",
    "    offset = np.ceil(offset)\n",
    "plt.ylim(-20,10)\n",
    "plt.axhline(y=0, color='black', linestyle='dashed')\n",
    "\n",
    "plt.xticks(np.arange(2,4*5+3,5), common_variants, rotation=23)\n",
    "plt.grid('off', axis='x')\n",
    "plt.xlim(-0.5, plt.xlim()[1]+0.5)\n",
    "plt.ylabel('Accuracy Difference [%]')\n",
    "\n",
    "# get handles\n",
    "ax = plt.gca()\n",
    "handles, labels = ax.get_legend_handles_labels()\n",
    "# recreate  with empty line, only marker\n",
    "handles = [Line2D([0], [0], color=h[0].get_color(), marker=h[0].get_marker(),\n",
    "                 markersize=9, linewidth=0) for h in handles]\n",
    "# use them in the legend\n",
    "ax.legend(handles[2::3], ('SD-convnet >0 Hz', 'DG-convnet >0 Hz','SD-convnet >0 Hz','DG-convnet >4 Hz'), \n",
    "          bbox_to_anchor=(1,1))\n"
   ]
  },
  {
   "cell_type": "code",
   "execution_count": 76,
   "metadata": {
    "collapsed": false
   },
   "outputs": [
    {
     "data": {
      "image/png": "[encoded data removed]",
      "text/plain": [
       "<matplotlib.figure.Figure at 0x2afe3d14cbd0>"
      ]
     },
     "metadata": {},
     "output_type": "display_data"
    }
   ],
   "source": [
    "plt.figure(figsize=(12,6))\n",
    "offset = 0\n",
    "for i_var, var_name in enumerate(uncommon_variants):\n",
    "    for freq in [\">0\", \">4\"]:\n",
    "        for net in 'shallow', 'deep5':\n",
    "            for dataset in 'bcic', 'ours', 'combined':\n",
    "                if net == 'shallow' and var_name in other_deep_vars:\n",
    "                    continue\n",
    "                if net == 'deep5' and var_name in other_shallow_vars:\n",
    "                    continue\n",
    "                if 'bcic' == dataset:\n",
    "                    markersize=6\n",
    "                elif 'ours' == dataset:\n",
    "                    markersize=7.5\n",
    "                if 'combined' == dataset:\n",
    "                    markersize=9\n",
    "\n",
    "                if net == 'deep5':\n",
    "                    marker = 'D'\n",
    "                else:\n",
    "                    assert net == 'shallow'\n",
    "                    marker = 's'\n",
    "                if '>0' == freq:\n",
    "                    color = seaborn.color_palette()[0]\n",
    "                elif '>4' == freq:\n",
    "                    color = seaborn.color_palette()[1]\n",
    "                this_var = df_mod[(df_mod.variant == var_name) &\n",
    "                                 (df_mod.net == net) & \n",
    "                                 (df_mod.freq == freq) & \n",
    "                                 (df_mod.dataset == dataset)]\n",
    "                \n",
    "                plt.errorbar(offset, this_var['diff'][0], color=color,\n",
    "                             yerr=this_var['stderr'][0], marker=marker,\n",
    "                            markersize=markersize, label='dummy')\n",
    "                if this_var['rand'][0] < 0.05:\n",
    "                    significance_str = '*'\n",
    "                    if this_var['rand'][0] < 0.01:\n",
    "                        significance_str = '**'\n",
    "                    plt.annotate(\n",
    "                            significance_str, xy = (offset, this_var['diff'][0]),\n",
    "                        xytext = (-3, 15), fontsize=16,\n",
    "                            textcoords = 'offset points', ha = 'left', va = 'top',)\n",
    "                offset += 0.3\n",
    "    \n",
    "    offset += 0.5\n",
    "    offset = np.ceil(offset)\n",
    "plt.ylim(-20,10)\n",
    "plt.axhline(y=0, color='black', linestyle='dashed')\n",
    "\n",
    "plt.xticks(np.arange(0.5,20.3,3), uncommon_variants, rotation=23)\n",
    "plt.grid('off', axis='x')\n",
    "plt.xlim(-0.5, 21.5)\n",
    "\n",
    "plt.ylabel('Accuracy Difference [%]')\n",
    "\n",
    "# get handles\n",
    "ax = plt.gca()\n",
    "handles, labels = ax.get_legend_handles_labels()\n",
    "# recreate  with empty line, only marker\n",
    "handles = [Line2D([0], [0], color=h[0].get_color(), marker=h[0].get_marker(),\n",
    "                 markersize=9, linewidth=0) for h in handles]\n",
    "ax.legend(handles[2:7:3] + handles[24:30:3],\n",
    "          ('SD-convnet >0 Hz', 'SD-convnet >4 Hz','DG-convnet >0 Hz','DG-convnet >4 Hz'), bbox_to_anchor=(1,1))\n",
    "None"
   ]
  },
  {
   "cell_type": "markdown",
   "metadata": {},
   "source": [
    "## FFT Net"
   ]
  },
  {
   "cell_type": "code",
   "execution_count": 29,
   "metadata": {
    "collapsed": false
   },
   "outputs": [],
   "source": [
    "df_deep_epo_fft_bcic = load_data_frame('data/models/paper/bci-competition/epo/deep-fft/', shorten_headers=False)\n",
    "df_deep_epo_fft_ours = load_data_frame('data/models/paper/ours/epo/deep-fft/', shorten_headers=False)\n",
    "only_clean_sets = True\n",
    "if only_clean_sets:\n",
    "    df_deep_epo_fft_ours = clean_datasets(df_deep_epo_fft_ours)"
   ]
  },
  {
   "cell_type": "code",
   "execution_count": 51,
   "metadata": {
    "collapsed": false
   },
   "outputs": [
    {
     "data": {
      "text/html": [
       "<div>\n",
       "<table border=\"1\" class=\"dataframe\">\n",
       "  <thead>\n",
       "    <tr>\n",
       "      <th></th>\n",
       "      <th></th>\n",
       "      <th colspan=\"3\" halign=\"left\">time</th>\n",
       "      <th colspan=\"2\" halign=\"left\">test</th>\n",
       "      <th colspan=\"2\" halign=\"left\">train</th>\n",
       "    </tr>\n",
       "    <tr>\n",
       "      <th></th>\n",
       "      <th></th>\n",
       "      <th>len</th>\n",
       "      <th>tmean</th>\n",
       "      <th>tstd</th>\n",
       "      <th>mean</th>\n",
       "      <th>std</th>\n",
       "      <th>mean</th>\n",
       "      <th>std</th>\n",
       "    </tr>\n",
       "    <tr>\n",
       "      <th>frequency_start</th>\n",
       "      <th>frequency_end</th>\n",
       "      <th></th>\n",
       "      <th></th>\n",
       "      <th></th>\n",
       "      <th></th>\n",
       "      <th></th>\n",
       "      <th></th>\n",
       "      <th></th>\n",
       "    </tr>\n",
       "  </thead>\n",
       "  <tbody>\n",
       "    <tr>\n",
       "      <th>0</th>\n",
       "      <th>40</th>\n",
       "      <td>9</td>\n",
       "      <td>00:02:22</td>\n",
       "      <td>00:00:29</td>\n",
       "      <td>56.4</td>\n",
       "      <td>13.9</td>\n",
       "      <td>99.9</td>\n",
       "      <td>0.2</td>\n",
       "    </tr>\n",
       "    <tr>\n",
       "      <th>null</th>\n",
       "      <th>null</th>\n",
       "      <td>9</td>\n",
       "      <td>00:05:00</td>\n",
       "      <td>00:01:22</td>\n",
       "      <td>44.0</td>\n",
       "      <td>14.7</td>\n",
       "      <td>96.7</td>\n",
       "      <td>10.0</td>\n",
       "    </tr>\n",
       "  </tbody>\n",
       "</table>\n",
       "</div>"
      ],
      "text/plain": [
       "                              time                    test       train      \n",
       "                               len    tmean     tstd  mean   std  mean   std\n",
       "frequency_start frequency_end                                               \n",
       "0               40               9 00:02:22 00:00:29  56.4  13.9  99.9   0.2\n",
       "null            null             9 00:05:00 00:01:22  44.0  14.7  96.7  10.0"
      ]
     },
     "execution_count": 51,
     "metadata": {},
     "output_type": "execute_result"
    }
   ],
   "source": [
    "all_df_fft = pd.DataFrame()\n",
    "all_df_fft_comp = pd.DataFrame()\n",
    "\n",
    "dff = df_deep_epo_fft_bcic\n",
    "main_csp_bcic = restrict_or_unset(csp_above_0(df_csp_bcic), standardize=False,\n",
    "                                                                   standardize_cnt=False)\n",
    "\n",
    "\n",
    "\n",
    "dff = dff.replace({'high_cut_hz': {'undefined': '-'}})\n",
    "for col in ('rejection_blink_ival', 'rejection_var_ival',\n",
    "           'num_split_folds', 'whisker_percent',\n",
    "           'whisker_length', 'eog_sensors', 'layer_modifier',\n",
    "           'i_test_fold', 'batch_modifier', 'num_filters_simple',\n",
    "           'filter_length_4', 'final_nonlin', 'max_min'):\n",
    "    dff[col] = '-'\n",
    "dff = dff[(dff.num_filters_time == 25) & \n",
    "         (dff.norm_axes == '-') &\n",
    "         (dff.preprocessor == 'null') &\n",
    "         (dff.filter_length_2 == 3) &\n",
    "         (dff.final_pool_time_length == '-') &\n",
    "         ((dff.layers == 'deep_fft_net_spat_time_freq')) &\n",
    "         (dff.frequency_end != 36) &\n",
    "         (dff.frequency_start != 4) &\n",
    "         (dff.include_phase == False) &\n",
    "         (dff.square_amplitude == False) &\n",
    "         (dff.tag != 'repl')]\n",
    "\n",
    "dff.tag = '-'\n",
    "\n",
    "all_df_fft = pd.concat((all_df_fft, dff))\n",
    "\n",
    "for freq in ['0-40', '0-124']:\n",
    "    if freq == '0-40':\n",
    "        this_dfn = dff[dff.frequency_end == 40]\n",
    "        df_comp = compare_csp_net(this_dfn, main_csp_bcic,\n",
    "                                  'fft','0-40','bcic',)\n",
    "    else:\n",
    "        this_dfn = dff[dff.frequency_end == 'null']\n",
    "        assert freq == '0-124'\n",
    "        df_comp = compare_csp_net(this_dfn, main_csp_bcic,\n",
    "                                  'fft','0-124','bcic')\n",
    "    all_df_fft_comp = pd.concat((all_df_fft_comp, df_comp))\n",
    "\n",
    "\n",
    "        \n",
    "dataset_averaged_frame(remove_columns_with_same_value(dff))"
   ]
  },
  {
   "cell_type": "code",
   "execution_count": 52,
   "metadata": {
    "collapsed": false
   },
   "outputs": [
    {
     "data": {
      "text/html": [
       "<div>\n",
       "<table border=\"1\" class=\"dataframe\">\n",
       "  <thead>\n",
       "    <tr>\n",
       "      <th></th>\n",
       "      <th></th>\n",
       "      <th colspan=\"3\" halign=\"left\">time</th>\n",
       "      <th colspan=\"2\" halign=\"left\">test</th>\n",
       "      <th colspan=\"2\" halign=\"left\">train</th>\n",
       "    </tr>\n",
       "    <tr>\n",
       "      <th></th>\n",
       "      <th></th>\n",
       "      <th>len</th>\n",
       "      <th>tmean</th>\n",
       "      <th>tstd</th>\n",
       "      <th>mean</th>\n",
       "      <th>std</th>\n",
       "      <th>mean</th>\n",
       "      <th>std</th>\n",
       "    </tr>\n",
       "    <tr>\n",
       "      <th>frequency_end</th>\n",
       "      <th>frequency_start</th>\n",
       "      <th></th>\n",
       "      <th></th>\n",
       "      <th></th>\n",
       "      <th></th>\n",
       "      <th></th>\n",
       "      <th></th>\n",
       "      <th></th>\n",
       "    </tr>\n",
       "  </thead>\n",
       "  <tbody>\n",
       "    <tr>\n",
       "      <th>40</th>\n",
       "      <th>0</th>\n",
       "      <td>14</td>\n",
       "      <td>00:10:38</td>\n",
       "      <td>00:03:14</td>\n",
       "      <td>82.6</td>\n",
       "      <td>7.8</td>\n",
       "      <td>99.1</td>\n",
       "      <td>2.4</td>\n",
       "    </tr>\n",
       "    <tr>\n",
       "      <th>null</th>\n",
       "      <th>null</th>\n",
       "      <td>14</td>\n",
       "      <td>00:28:07</td>\n",
       "      <td>00:09:24</td>\n",
       "      <td>85.6</td>\n",
       "      <td>9.1</td>\n",
       "      <td>100.0</td>\n",
       "      <td>0.0</td>\n",
       "    </tr>\n",
       "  </tbody>\n",
       "</table>\n",
       "</div>"
      ],
      "text/plain": [
       "                              time                    test       train     \n",
       "                               len    tmean     tstd  mean  std   mean  std\n",
       "frequency_end frequency_start                                              \n",
       "40            0                 14 00:10:38 00:03:14  82.6  7.8   99.1  2.4\n",
       "null          null              14 00:28:07 00:09:24  85.6  9.1  100.0  0.0"
      ]
     },
     "execution_count": 52,
     "metadata": {},
     "output_type": "execute_result"
    }
   ],
   "source": [
    "dff = df_deep_epo_fft_ours\n",
    "\n",
    "dff = dff.replace({'high_cut_hz': {'undefined': '-'}})\n",
    "for col in ('rejection_blink_ival', 'rejection_var_ival',\n",
    "           'num_split_folds', 'whisker_percent',\n",
    "           'whisker_length', 'eog_sensors', 'layer_modifier',\n",
    "           'i_test_fold', 'batch_modifier', 'num_filters_simple',\n",
    "           'filter_length_4', 'final_nonlin', 'max_min'):\n",
    "    dff[col] = '-'\n",
    "\n",
    "main_csp_ours = restrict_or_unset(clean_datasets(csp_above_0(df_csp_ours)), standardize=False,\n",
    "                                                                   standardize_cnt=False)\n",
    "dff = dff[(dff.num_filters_time == 25) & \n",
    "         (dff.preprocessor == 'null') &\n",
    "         (dff.filter_length_2 == 3) &\n",
    "         ((dff.layers == 'deep_fft_net_spat_time_freq') | (dff.layers == 'seperated_linear')) &\n",
    "         (dff.include_phase == False) &\n",
    "         (dff.square_amplitude == False)]\n",
    "if 'norm_axes' in dff.columns:\n",
    "    dff = dff[(dff.norm_axes == '-')]\n",
    "if 'final_pool_time_length' in dff.columns:\n",
    "    dff = dff[(dff.final_pool_time_length == '-')]\n",
    "\n",
    "    \n",
    "all_df_fft = pd.concat((all_df_fft, dff))\n",
    "\n",
    "for freq in ['0-40', '0-124']:\n",
    "    if freq == '0-40':\n",
    "        this_dfn = dff[dff.frequency_end == 40]\n",
    "        df_comp = compare_csp_net(this_dfn, main_csp_ours,\n",
    "                                  'fft','0-40','ours',)\n",
    "    else:\n",
    "        this_dfn = dff[dff.frequency_end == 'null']\n",
    "        assert freq == '0-124'\n",
    "        df_comp = compare_csp_net(this_dfn, main_csp_ours,\n",
    "                                  'fft','0-124','ours')\n",
    "    all_df_fft_comp = pd.concat((all_df_fft_comp, df_comp))\n",
    "    \n",
    "dataset_averaged_frame(remove_columns_with_same_value(dff))"
   ]
  },
  {
   "cell_type": "markdown",
   "metadata": {},
   "source": [
    "#### add combined"
   ]
  },
  {
   "cell_type": "code",
   "execution_count": 53,
   "metadata": {
    "collapsed": false
   },
   "outputs": [],
   "source": [
    "for freq in ['0-40', '0-124']:\n",
    "    if freq == '0-40':\n",
    "        this_dfn = all_df_fft[all_df_fft.frequency_end == 40]\n",
    "        df_comp = compare_csp_net(this_dfn, \n",
    "                                  csp_above_0(pd.concat((main_csp_ours, main_csp_bcic))),\n",
    "                                  'fft', '0-40', 'combined',)\n",
    "    else:\n",
    "        this_dfn = all_df_fft[all_df_fft.frequency_end == 'null']\n",
    "        assert freq == '0-124'\n",
    "        df_comp = compare_csp_net(this_dfn,\n",
    "                                  csp_above_0(pd.concat((main_csp_ours, main_csp_bcic))),\n",
    "                                  'fft', '0-124', 'combined')\n",
    "    all_df_fft_comp = pd.concat((all_df_fft_comp, df_comp))"
   ]
  },
  {
   "cell_type": "code",
   "execution_count": 54,
   "metadata": {
    "collapsed": false
   },
   "outputs": [
    {
     "data": {
      "text/html": [
       "<div>\n",
       "<table border=\"1\" class=\"dataframe\">\n",
       "  <thead>\n",
       "    <tr style=\"text-align: right;\">\n",
       "      <th></th>\n",
       "      <th>name</th>\n",
       "      <th>freq</th>\n",
       "      <th>dataset</th>\n",
       "      <th>test_net</th>\n",
       "      <th>diff</th>\n",
       "      <th>rand</th>\n",
       "      <th>wilc</th>\n",
       "      <th>sign</th>\n",
       "      <th>time_net</th>\n",
       "    </tr>\n",
       "  </thead>\n",
       "  <tbody>\n",
       "    <tr>\n",
       "      <th>0</th>\n",
       "      <td>fft</td>\n",
       "      <td>0-40</td>\n",
       "      <td>bcic</td>\n",
       "      <td>56.4</td>\n",
       "      <td>-10.8</td>\n",
       "      <td>7.812500e-03</td>\n",
       "      <td>7.812500e-03</td>\n",
       "      <td>3.906250e-02</td>\n",
       "      <td>00:02:22</td>\n",
       "    </tr>\n",
       "    <tr>\n",
       "      <th>0</th>\n",
       "      <td>fft</td>\n",
       "      <td>0-124</td>\n",
       "      <td>bcic</td>\n",
       "      <td>44.0</td>\n",
       "      <td>-23.2</td>\n",
       "      <td>3.906250e-03</td>\n",
       "      <td>3.906250e-03</td>\n",
       "      <td>3.906250e-03</td>\n",
       "      <td>00:05:00</td>\n",
       "    </tr>\n",
       "    <tr>\n",
       "      <th>0</th>\n",
       "      <td>fft</td>\n",
       "      <td>0-40</td>\n",
       "      <td>ours</td>\n",
       "      <td>82.6</td>\n",
       "      <td>-10.2</td>\n",
       "      <td>2.441406e-04</td>\n",
       "      <td>2.441406e-04</td>\n",
       "      <td>1.831055e-03</td>\n",
       "      <td>00:10:38</td>\n",
       "    </tr>\n",
       "    <tr>\n",
       "      <th>0</th>\n",
       "      <td>fft</td>\n",
       "      <td>0-124</td>\n",
       "      <td>ours</td>\n",
       "      <td>85.6</td>\n",
       "      <td>-7.2</td>\n",
       "      <td>1.220703e-04</td>\n",
       "      <td>1.220703e-04</td>\n",
       "      <td>1.220703e-04</td>\n",
       "      <td>00:28:07</td>\n",
       "    </tr>\n",
       "    <tr>\n",
       "      <th>0</th>\n",
       "      <td>fft</td>\n",
       "      <td>0-40</td>\n",
       "      <td>combined</td>\n",
       "      <td>72.3</td>\n",
       "      <td>-10.4</td>\n",
       "      <td>2.861023e-06</td>\n",
       "      <td>1.192093e-06</td>\n",
       "      <td>6.604195e-05</td>\n",
       "      <td>00:07:24</td>\n",
       "    </tr>\n",
       "    <tr>\n",
       "      <th>0</th>\n",
       "      <td>fft</td>\n",
       "      <td>0-124</td>\n",
       "      <td>combined</td>\n",
       "      <td>69.3</td>\n",
       "      <td>-13.5</td>\n",
       "      <td>9.536743e-07</td>\n",
       "      <td>2.384186e-07</td>\n",
       "      <td>2.384186e-07</td>\n",
       "      <td>00:19:04</td>\n",
       "    </tr>\n",
       "  </tbody>\n",
       "</table>\n",
       "</div>"
      ],
      "text/plain": [
       "  name   freq   dataset  test_net  diff          rand          wilc  \\\n",
       "0  fft   0-40      bcic      56.4 -10.8  7.812500e-03  7.812500e-03   \n",
       "0  fft  0-124      bcic      44.0 -23.2  3.906250e-03  3.906250e-03   \n",
       "0  fft   0-40      ours      82.6 -10.2  2.441406e-04  2.441406e-04   \n",
       "0  fft  0-124      ours      85.6  -7.2  1.220703e-04  1.220703e-04   \n",
       "0  fft   0-40  combined      72.3 -10.4  2.861023e-06  1.192093e-06   \n",
       "0  fft  0-124  combined      69.3 -13.5  9.536743e-07  2.384186e-07   \n",
       "\n",
       "           sign  time_net  \n",
       "0  3.906250e-02  00:02:22  \n",
       "0  3.906250e-03  00:05:00  \n",
       "0  1.831055e-03  00:10:38  \n",
       "0  1.220703e-04  00:28:07  \n",
       "0  6.604195e-05  00:07:24  \n",
       "0  2.384186e-07  00:19:04  "
      ]
     },
     "execution_count": 54,
     "metadata": {},
     "output_type": "execute_result"
    }
   ],
   "source": [
    "all_df_fft_comp"
   ]
  },
  {
   "cell_type": "code",
   "execution_count": 32,
   "metadata": {
    "collapsed": false
   },
   "outputs": [
    {
     "ename": "NameError",
     "evalue": "name 'load_exp_and_model' is not defined",
     "output_type": "error",
     "traceback": [
      "\u001b[1;31m---------------------------------------------------------------------------\u001b[0m",
      "\u001b[1;31mNameError\u001b[0m                                 Traceback (most recent call last)",
      "\u001b[1;32m<ipython-input-32-e8a2e40b6efa>\u001b[0m in \u001b[0;36m<module>\u001b[1;34m()\u001b[0m\n\u001b[1;32m----> 1\u001b[1;33m \u001b[0m_\u001b[0m\u001b[1;33m,\u001b[0m \u001b[0mfft_model\u001b[0m \u001b[1;33m=\u001b[0m \u001b[0mload_exp_and_model\u001b[0m\u001b[1;33m(\u001b[0m\u001b[1;34m'data/models/paper/ours/epo/deep-fft/22'\u001b[0m\u001b[1;33m)\u001b[0m\u001b[1;33m\u001b[0m\u001b[0m\n\u001b[0m",
      "\u001b[1;31mNameError\u001b[0m: name 'load_exp_and_model' is not defined"
     ]
    }
   ],
   "source": [
    "_, fft_model = load_exp_and_model('data/models/paper/ours/epo/deep-fft/22')"
   ]
  },
  {
   "cell_type": "code",
   "execution_count": null,
   "metadata": {
    "collapsed": false
   },
   "outputs": [],
   "source": [
    "print_layers(fft_model)"
   ]
  },
  {
   "cell_type": "markdown",
   "metadata": {},
   "source": [
    "### Residual Net"
   ]
  },
  {
   "cell_type": "code",
   "execution_count": 55,
   "metadata": {
    "collapsed": true
   },
   "outputs": [],
   "source": [
    "from braindecode.experiments.load import load_exp_and_model"
   ]
  },
  {
   "cell_type": "code",
   "execution_count": 56,
   "metadata": {
    "collapsed": false
   },
   "outputs": [
    {
     "name": "stderr",
     "output_type": "stream",
     "text": [
      "INFO:braindecode.experiments.experiment:Setting n_sample preds automatically to 424\n",
      "INFO:braindecode.experiments.experiment:Input window length is 577\n",
      "INFO:braindecode.experiments.experiment:Setting n_sample preds automatically to 424\n",
      "INFO:braindecode.experiments.experiment:Input window length is 577\n"
     ]
    }
   ],
   "source": [
    "exp, model = load_exp_and_model('data/models/paper/ours/cnt/resnet/2')"
   ]
  },
  {
   "cell_type": "code",
   "execution_count": 57,
   "metadata": {
    "collapsed": true
   },
   "outputs": [],
   "source": [
    "from braindecode.veganlasagne.layer_util import print_layers"
   ]
  },
  {
   "cell_type": "code",
   "execution_count": 58,
   "metadata": {
    "collapsed": true
   },
   "outputs": [],
   "source": [
    "from braindecode.veganlasagne.layers import get_n_sample_preds"
   ]
  },
  {
   "cell_type": "code",
   "execution_count": 59,
   "metadata": {
    "collapsed": false
   },
   "outputs": [
    {
     "data": {
      "text/plain": [
       "424"
      ]
     },
     "execution_count": 59,
     "metadata": {},
     "output_type": "execute_result"
    }
   ],
   "source": [
    "get_n_sample_preds(model)"
   ]
  },
  {
   "cell_type": "code",
   "execution_count": 60,
   "metadata": {
    "collapsed": false
   },
   "outputs": [
    {
     "name": "stdout",
     "output_type": "stream",
     "text": [
      " 0 InputLayer                                                         [None, 44, 1000, 1]\n",
      " 1 DimshuffleLayer                                                    (None, 1, 1000, 44)\n",
      " 2 Conv2DLayer              3x1                                       (None, 48, 1000, 44)\n",
      " 3 Conv2DLayer              1x44                                      (None, 48, 1000, 1)\n",
      " 4 BatchNormLayer                                     elu            \n",
      " 5 Conv2DLayer              3x3                                      \n",
      " 6 BatchNormLayer                                     elu            \n",
      " 7 Conv2DLayer              3x3                                      \n",
      " 8 BatchNormLayer                                                    \n",
      " 9 ElemwiseSumLayer                                                  \n",
      "10 NonlinearityLayer                                  elu            \n",
      "11 Conv2DLayer              3x3                                      \n",
      "12 BatchNormLayer                                     elu            \n",
      "13 Conv2DLayer              3x3                                      \n",
      "14 BatchNormLayer                                                    \n",
      "15 ElemwiseSumLayer                                                  \n",
      "16 NonlinearityLayer                                  elu            \n",
      "17 Conv2DLayer              3x3                                       (None, 96, 1000, 1)\n",
      "18 BatchNormLayer                                     elu            \n",
      "19 StrideReshapeLayer           ::2 ::1                               (None, 96, 500, 1)\n",
      "20 Conv2DLayer              3x3                                      \n",
      "21 BatchNormLayer                                                    \n",
      "22 StrideReshapeLayer           ::2 ::1                               (None, 48, 500, 1)\n",
      "23 PadLayer                                                           (None, 96, 500, 1)\n",
      "24 ElemwiseSumLayer                                                  \n",
      "25 NonlinearityLayer                                  elu            \n",
      "26 Conv2DLayer              3x3                                      \n",
      "27 BatchNormLayer                                     elu            \n",
      "28 Conv2DLayer              3x3                                      \n",
      "29 BatchNormLayer                                                    \n",
      "30 ElemwiseSumLayer                                                  \n",
      "31 NonlinearityLayer                                  elu            \n",
      "32 Conv2DLayer              3x3                                       (None, 144, 500, 1)\n",
      "33 BatchNormLayer                                     elu            \n",
      "34 StrideReshapeLayer           ::2 ::1                               (None, 144, 250, 1)\n",
      "35 Conv2DLayer              3x3                                      \n",
      "36 BatchNormLayer                                                    \n",
      "37 StrideReshapeLayer           ::2 ::1                               (None, 96, 250, 1)\n",
      "38 PadLayer                                                           (None, 144, 250, 1)\n",
      "39 ElemwiseSumLayer                                                  \n",
      "40 NonlinearityLayer                                  elu            \n",
      "41 Conv2DLayer              3x3                                      \n",
      "42 BatchNormLayer                                     elu            \n",
      "43 Conv2DLayer              3x3                                      \n",
      "44 BatchNormLayer                                                    \n",
      "45 ElemwiseSumLayer                                                  \n",
      "46 NonlinearityLayer                                  elu            \n",
      "47 Conv2DLayer              3x3                                      \n",
      "48 BatchNormLayer                                     elu            \n",
      "49 StrideReshapeLayer           ::2 ::1                               (None, 144, 125, 1)\n",
      "50 Conv2DLayer              3x3                                      \n",
      "51 BatchNormLayer                                                    \n",
      "52 StrideReshapeLayer           ::2 ::1                              \n",
      "53 ElemwiseSumLayer                                                  \n",
      "54 NonlinearityLayer                                  elu            \n",
      "55 Conv2DLayer              3x3                                      \n",
      "56 BatchNormLayer                                     elu            \n",
      "57 Conv2DLayer              3x3                                      \n",
      "58 BatchNormLayer                                                    \n",
      "59 ElemwiseSumLayer                                                  \n",
      "60 NonlinearityLayer                                  elu            \n",
      "61 Conv2DLayer              3x3                                      \n",
      "62 BatchNormLayer                                     elu            \n",
      "63 StrideReshapeLayer           ::2 ::1                               (None, 144, 63, 1)\n",
      "64 Conv2DLayer              3x3                                      \n",
      "65 BatchNormLayer                                                    \n",
      "66 StrideReshapeLayer           ::2 ::1                              \n",
      "67 ElemwiseSumLayer                                                  \n",
      "68 NonlinearityLayer                                  elu            \n",
      "69 Conv2DLayer              3x3                                      \n",
      "70 BatchNormLayer                                     elu            \n",
      "71 Conv2DLayer              3x3                                      \n",
      "72 BatchNormLayer                                                    \n",
      "73 ElemwiseSumLayer                                                  \n",
      "74 NonlinearityLayer                                  elu            \n",
      "75 Conv2DLayer              3x3                                      \n",
      "76 BatchNormLayer                                     elu            \n",
      "77 StrideReshapeLayer           ::2 ::1                               (None, 144, 32, 1)\n",
      "78 Conv2DLayer              3x3                                      \n",
      "79 BatchNormLayer                                                    \n",
      "80 StrideReshapeLayer           ::2 ::1                              \n",
      "81 ElemwiseSumLayer                                                  \n",
      "82 NonlinearityLayer                                  elu            \n",
      "83 Conv2DLayer              3x3                                      \n",
      "84 BatchNormLayer                                     elu            \n",
      "85 Conv2DLayer              3x3                                      \n",
      "86 BatchNormLayer                                                    \n",
      "87 ElemwiseSumLayer                                                  \n",
      "88 NonlinearityLayer                                  elu            \n",
      "89 Conv2DLayer              3x3                                      \n",
      "90 BatchNormLayer                                     elu            \n",
      "91 StrideReshapeLayer           ::2 ::1                               (None, 144, 16, 1)\n",
      "92 Conv2DLayer              3x3                                      \n",
      "93 BatchNormLayer                                                    \n",
      "94 StrideReshapeLayer           ::2 ::1                              \n",
      "95 ElemwiseSumLayer                                                  \n",
      "96 NonlinearityLayer                                  elu            \n",
      "97 Pool2DLayer              10x1                      average_exc_pad (None, 144, 7, 1)\n",
      "98 Conv2DLayer              1x1                                       (None, 4, 7, 1)\n",
      "99 FinalReshapeLayer                                                  [None, 4]\n",
      "100 NonlinearityLayer                                  log_softmax    \n",
      "\n"
     ]
    }
   ],
   "source": [
    "print_layers(model)"
   ]
  },
  {
   "cell_type": "code",
   "execution_count": 61,
   "metadata": {
    "collapsed": false
   },
   "outputs": [],
   "source": [
    "df_resnet_bcic = load_data_frame('data/models/paper/bci-competition/cnt/resnet/', params=dict(whisker_percent=None),\n",
    "                            shorten_headers=False)\n",
    "df_resnet_bcic = df_resnet_bcic[df_resnet_bcic.nonlinearity != '-']\n",
    "df_resnet_bcic = df_resnet_bcic.drop('final_nonlin', axis=1)\n",
    "df_resnet_bcic = df_resnet_bcic.drop('batch_modifier', axis=1)\n",
    "\n",
    "df_resnet_bcic = df_resnet_bcic.replace(dict(survival_prob={'-': 1}, final_aggregator={'-': 'pool'}, \n",
    "                                 drop_before_pool={'-': 'False'},\n",
    "                                split_first_layer={'-': False}))\n",
    "\n",
    "df_resnet_bcic = df_resnet_bcic[df_resnet_bcic.final_aggregator == 'pool']\n",
    "df_resnet_bcic = df_resnet_bcic[df_resnet_bcic.split_first_layer == True]\n",
    "df_resnet_bcic = df_resnet_bcic[df_resnet_bcic.reduction_method == '-']\n",
    "\n",
    "df_resnet_bcic = remove_columns_with_same_value(df_resnet_bcic)\n",
    "averaged_frame = dataset_averaged_frame(df_resnet_bcic)\n"
   ]
  },
  {
   "cell_type": "code",
   "execution_count": 62,
   "metadata": {
    "collapsed": false
   },
   "outputs": [],
   "source": [
    "def no_bp_meaner(df):\n",
    "    return df[df.batch_modifier != 'bp_meaner']"
   ]
  },
  {
   "cell_type": "code",
   "execution_count": 65,
   "metadata": {
    "collapsed": false
   },
   "outputs": [
    {
     "data": {
      "text/html": [
       "<div>\n",
       "<table border=\"1\" class=\"dataframe\">\n",
       "  <thead>\n",
       "    <tr style=\"text-align: right;\">\n",
       "      <th></th>\n",
       "      <th>name</th>\n",
       "      <th>freq</th>\n",
       "      <th>dataset</th>\n",
       "      <th>test_net</th>\n",
       "      <th>diff</th>\n",
       "      <th>rand</th>\n",
       "      <th>wilc</th>\n",
       "      <th>sign</th>\n",
       "      <th>time_net</th>\n",
       "    </tr>\n",
       "  </thead>\n",
       "  <tbody>\n",
       "    <tr>\n",
       "      <th>0</th>\n",
       "      <td>resnet</td>\n",
       "      <td>&gt;0</td>\n",
       "      <td>bcic</td>\n",
       "      <td>65.9</td>\n",
       "      <td>-4.4</td>\n",
       "      <td>0.160156</td>\n",
       "      <td>0.164062</td>\n",
       "      <td>0.179688</td>\n",
       "      <td>01:20:54</td>\n",
       "    </tr>\n",
       "  </tbody>\n",
       "</table>\n",
       "</div>"
      ],
      "text/plain": [
       "     name freq dataset  test_net  diff      rand      wilc      sign  time_net\n",
       "0  resnet   >0    bcic      65.9  -4.4  0.160156  0.164062  0.179688  01:20:54"
      ]
     },
     "execution_count": 65,
     "metadata": {},
     "output_type": "execute_result"
    }
   ],
   "source": [
    "compare_csp_net(df_resnet_bcic,\n",
    "                restrict(no_bp_meaner(tied_loss(deep_5_new_default(above_0(elu_deep_5(df_deep_cnt_bcic))))),\n",
    "                         max_increasing_epochs=80, trial_start=1500), \n",
    "                'resnet','>0','bcic')"
   ]
  },
  {
   "cell_type": "code",
   "execution_count": 66,
   "metadata": {
    "collapsed": false
   },
   "outputs": [
    {
     "data": {
      "text/html": [
       "<div>\n",
       "<table border=\"1\" class=\"dataframe\">\n",
       "  <thead>\n",
       "    <tr>\n",
       "      <th></th>\n",
       "      <th></th>\n",
       "      <th></th>\n",
       "      <th colspan=\"3\" halign=\"left\">time</th>\n",
       "      <th colspan=\"2\" halign=\"left\">test</th>\n",
       "      <th colspan=\"2\" halign=\"left\">train</th>\n",
       "    </tr>\n",
       "    <tr>\n",
       "      <th></th>\n",
       "      <th></th>\n",
       "      <th></th>\n",
       "      <th>len</th>\n",
       "      <th>tmean</th>\n",
       "      <th>tstd</th>\n",
       "      <th>mean</th>\n",
       "      <th>std</th>\n",
       "      <th>mean</th>\n",
       "      <th>std</th>\n",
       "    </tr>\n",
       "    <tr>\n",
       "      <th>high_cut_hz</th>\n",
       "      <th>low_cut_off_hz</th>\n",
       "      <th>cnt_preprocessors</th>\n",
       "      <th></th>\n",
       "      <th></th>\n",
       "      <th></th>\n",
       "      <th></th>\n",
       "      <th></th>\n",
       "      <th></th>\n",
       "      <th></th>\n",
       "    </tr>\n",
       "  </thead>\n",
       "  <tbody>\n",
       "    <tr>\n",
       "      <th>4</th>\n",
       "      <th>-</th>\n",
       "      <th>resample_lowpass_standardize</th>\n",
       "      <td>14</td>\n",
       "      <td>03:45:10</td>\n",
       "      <td>01:27:09</td>\n",
       "      <td>71.4</td>\n",
       "      <td>13.7</td>\n",
       "      <td>99.9</td>\n",
       "      <td>0.1</td>\n",
       "    </tr>\n",
       "    <tr>\n",
       "      <th rowspan=\"2\" valign=\"top\">-</th>\n",
       "      <th>4</th>\n",
       "      <th>resample_highpass_standardize</th>\n",
       "      <td>14</td>\n",
       "      <td>04:14:31</td>\n",
       "      <td>01:48:21</td>\n",
       "      <td>87.0</td>\n",
       "      <td>11.0</td>\n",
       "      <td>99.8</td>\n",
       "      <td>0.8</td>\n",
       "    </tr>\n",
       "    <tr>\n",
       "      <th>null</th>\n",
       "      <th>resample_highpass_standardize</th>\n",
       "      <td>14</td>\n",
       "      <td>03:30:31</td>\n",
       "      <td>01:06:04</td>\n",
       "      <td>88.9</td>\n",
       "      <td>6.8</td>\n",
       "      <td>99.9</td>\n",
       "      <td>0.2</td>\n",
       "    </tr>\n",
       "  </tbody>\n",
       "</table>\n",
       "</div>"
      ],
      "text/plain": [
       "                                                         time           \\\n",
       "                                                          len    tmean   \n",
       "high_cut_hz low_cut_off_hz cnt_preprocessors                             \n",
       "4           -              resample_lowpass_standardize    14 03:45:10   \n",
       "-           4              resample_highpass_standardize   14 04:14:31   \n",
       "            null           resample_highpass_standardize   14 03:30:31   \n",
       "\n",
       "                                                                   test        \\\n",
       "                                                             tstd  mean   std   \n",
       "high_cut_hz low_cut_off_hz cnt_preprocessors                                    \n",
       "4           -              resample_lowpass_standardize  01:27:09  71.4  13.7   \n",
       "-           4              resample_highpass_standardize 01:48:21  87.0  11.0   \n",
       "            null           resample_highpass_standardize 01:06:04  88.9   6.8   \n",
       "\n",
       "                                                         train       \n",
       "                                                          mean  std  \n",
       "high_cut_hz low_cut_off_hz cnt_preprocessors                         \n",
       "4           -              resample_lowpass_standardize   99.9  0.1  \n",
       "-           4              resample_highpass_standardize  99.8  0.8  \n",
       "            null           resample_highpass_standardize  99.9  0.2  "
      ]
     },
     "execution_count": 66,
     "metadata": {},
     "output_type": "execute_result"
    }
   ],
   "source": [
    "clean_resnet = True\n",
    "df_resnet_ours = load_data_frame('data/models/paper/ours/cnt/resnet/', params=dict(whisker_percent=None),\n",
    "                            shorten_headers=False)\n",
    "if clean_resnet:\n",
    "    df_resnet_ours = clean_datasets(df_resnet_ours)\n",
    "df_resnet_ours = df_resnet_ours[df_resnet_ours.nonlinearity != '-']\n",
    "df_resnet_ours = df_resnet_ours[df_resnet_ours.split_first_layer == True]\n",
    "#df_resnet_ours = df_resnet_ours[df_resnet_ours.reduction_method == '-']\n",
    "\n",
    "averaged_frame = dataset_averaged_frame(remove_columns_with_same_value(df_resnet_ours))\n",
    "averaged_frame"
   ]
  },
  {
   "cell_type": "code",
   "execution_count": 67,
   "metadata": {
    "collapsed": false
   },
   "outputs": [
    {
     "data": {
      "text/html": [
       "<div>\n",
       "<table border=\"1\" class=\"dataframe\">\n",
       "  <thead>\n",
       "    <tr style=\"text-align: right;\">\n",
       "      <th></th>\n",
       "      <th>name</th>\n",
       "      <th>freq</th>\n",
       "      <th>dataset</th>\n",
       "      <th>test_net</th>\n",
       "      <th>diff</th>\n",
       "      <th>rand</th>\n",
       "      <th>wilc</th>\n",
       "      <th>sign</th>\n",
       "      <th>time_net</th>\n",
       "    </tr>\n",
       "  </thead>\n",
       "  <tbody>\n",
       "    <tr>\n",
       "      <th>0</th>\n",
       "      <td>resnet</td>\n",
       "      <td>&gt;0</td>\n",
       "      <td>ours</td>\n",
       "      <td>88.9</td>\n",
       "      <td>-2.9</td>\n",
       "      <td>0.158447</td>\n",
       "      <td>0.057983</td>\n",
       "      <td>0.057373</td>\n",
       "      <td>03:30:31</td>\n",
       "    </tr>\n",
       "  </tbody>\n",
       "</table>\n",
       "</div>"
      ],
      "text/plain": [
       "     name freq dataset  test_net  diff      rand      wilc      sign  time_net\n",
       "0  resnet   >0    ours      88.9  -2.9  0.158447  0.057983  0.057373  03:30:31"
      ]
     },
     "execution_count": 67,
     "metadata": {},
     "output_type": "execute_result"
    }
   ],
   "source": [
    "df_resnet_ours = df_resnet_ours[df_resnet_ours.reduction_pool_mode == 'null']\n",
    "df_resnet_ours = df_resnet_ours[df_resnet_ours.add_after_nonlin == False]\n",
    "df_resnet_ours = df_resnet_ours[df_resnet_ours.low_cut_off_hz == 'null']\n",
    "compare_csp_net(df_resnet_ours,\n",
    "                restrict(no_bp_meaner(tied_loss(deep_5_new_default(above_0(elu_deep_5(\n",
    "                            clean_datasets(df_deep_cnt_ours)))))),\n",
    "                         max_increasing_epochs=80, trial_start=1500),\n",
    "                'resnet','>0','ours')"
   ]
  },
  {
   "cell_type": "code",
   "execution_count": 68,
   "metadata": {
    "collapsed": false
   },
   "outputs": [
    {
     "data": {
      "text/html": [
       "<div>\n",
       "<table border=\"1\" class=\"dataframe\">\n",
       "  <thead>\n",
       "    <tr style=\"text-align: right;\">\n",
       "      <th></th>\n",
       "      <th>name</th>\n",
       "      <th>freq</th>\n",
       "      <th>dataset</th>\n",
       "      <th>test_net</th>\n",
       "      <th>diff</th>\n",
       "      <th>rand</th>\n",
       "      <th>wilc</th>\n",
       "      <th>sign</th>\n",
       "      <th>time_net</th>\n",
       "    </tr>\n",
       "  </thead>\n",
       "  <tbody>\n",
       "    <tr>\n",
       "      <th>0</th>\n",
       "      <td>resnet</td>\n",
       "      <td>&gt;0</td>\n",
       "      <td>combined</td>\n",
       "      <td>79.9</td>\n",
       "      <td>-3.5</td>\n",
       "      <td>0.038871</td>\n",
       "      <td>0.013529</td>\n",
       "      <td>0.010622</td>\n",
       "      <td>02:39:47</td>\n",
       "    </tr>\n",
       "  </tbody>\n",
       "</table>\n",
       "</div>"
      ],
      "text/plain": [
       "     name freq   dataset  test_net  diff      rand      wilc      sign  \\\n",
       "0  resnet   >0  combined      79.9  -3.5  0.038871  0.013529  0.010622   \n",
       "\n",
       "   time_net  \n",
       "0  02:39:47  "
      ]
     },
     "execution_count": 68,
     "metadata": {},
     "output_type": "execute_result"
    }
   ],
   "source": [
    "compare_csp_net(pd.concat((df_resnet_bcic,df_resnet_ours)),\n",
    "                restrict(pd.concat((\n",
    "            no_bp_meaner(tied_loss(deep_5_new_default(above_0(elu_deep_5(df_deep_cnt_bcic))))),\n",
    "            no_bp_meaner(tied_loss(deep_5_new_default(above_0(elu_deep_5(clean_datasets(df_deep_cnt_ours)))))))),\n",
    "                         max_increasing_epochs=80, trial_start=1500),\n",
    "                'resnet','>0','combined')"
   ]
  },
  {
   "cell_type": "markdown",
   "metadata": {},
   "source": [
    "### Training TImes"
   ]
  },
  {
   "cell_type": "code",
   "execution_count": null,
   "metadata": {
    "collapsed": false
   },
   "outputs": [],
   "source": [
    "\n",
    "df_csp_ours = load_data_frame('data/models/paper/ours/csp/', shorten_headers=False)\n",
    "df_csp_bcic = load_data_frame('data/models/paper/bci-competition/csp/', shorten_headers=False)"
   ]
  },
  {
   "cell_type": "code",
   "execution_count": null,
   "metadata": {
    "collapsed": true
   },
   "outputs": [],
   "source": [
    "from IPython.display import display_html, display, HTML\n",
    "from braindecode.analysis.pandas_util import dataset_averaged_frame, remove_columns_with_same_value, load_data_frame"
   ]
  },
  {
   "cell_type": "code",
   "execution_count": null,
   "metadata": {
    "collapsed": false
   },
   "outputs": [],
   "source": [
    "def display_bci_competition_times(folder):\n",
    "    display(HTML(\"<h5>Shallow</h5>\"))\n",
    "    display_html(dataset_averaged_frame(remove_columns_with_same_value(\n",
    "        clean_datasets(load_data_frame('data/models/paper/bci-competition/cnt/shallow/{:s}/'.format(folder),\n",
    "                                  shorten_headers=False)))))\n",
    "    display(HTML(\"<h5>Deep</h5>\"))\n",
    "    display_html(dataset_averaged_frame(remove_columns_with_same_value(\n",
    "        clean_datasets(load_data_frame('data/models/paper/bci-competition/cnt/deep4/{:s}/'.format(folder),\n",
    "                                  shorten_headers=False)))))\n",
    "    \n",
    "def display_ours_times(folder):\n",
    "    display(HTML(\"<h5>Shallow</h5>\"))\n",
    "    display_html(dataset_averaged_frame(remove_columns_with_same_value(\n",
    "        clean_datasets(load_data_frame('data/models/paper/ours-before-cz-0/cnt/shallow/{:s}/'.format(folder),\n",
    "                                  shorten_headers=False)))))\n",
    "    display(HTML(\"<h5>Deep</h5>\"))\n",
    "    display_html(dataset_averaged_frame(remove_columns_with_same_value(\n",
    "        clean_datasets(load_data_frame('data/models/paper/ours-before-cz-0/cnt/deep4/{:s}/'.format(folder),\n",
    "                                  shorten_headers=False)))))"
   ]
  },
  {
   "cell_type": "markdown",
   "metadata": {},
   "source": [
    "#### BCI Competition"
   ]
  },
  {
   "cell_type": "code",
   "execution_count": null,
   "metadata": {
    "collapsed": false
   },
   "outputs": [],
   "source": [
    "dataset_averaged_frame(remove_columns_with_same_value(csp_above_0(df_csp_bcic)))"
   ]
  },
  {
   "cell_type": "code",
   "execution_count": null,
   "metadata": {
    "collapsed": false
   },
   "outputs": [],
   "source": [
    "display_bci_competition_times('traintime-rz')"
   ]
  },
  {
   "cell_type": "code",
   "execution_count": null,
   "metadata": {
    "collapsed": false
   },
   "outputs": [],
   "source": [
    "display_bci_competition_times('traintime-tf')"
   ]
  },
  {
   "cell_type": "markdown",
   "metadata": {},
   "source": [
    "#### Ours"
   ]
  },
  {
   "cell_type": "code",
   "execution_count": null,
   "metadata": {
    "collapsed": false
   },
   "outputs": [],
   "source": [
    "dataset_averaged_frame(remove_columns_with_same_value(csp_above_0(df_csp_ours)))"
   ]
  },
  {
   "cell_type": "code",
   "execution_count": null,
   "metadata": {
    "collapsed": false
   },
   "outputs": [],
   "source": [
    "dataset_averaged_frame(all_df[(all_df.dataset =='ours') &\n",
    "                             (all_df.clean == False)\n",
    "                             ])"
   ]
  },
  {
   "cell_type": "code",
   "execution_count": null,
   "metadata": {
    "collapsed": false
   },
   "outputs": [],
   "source": [
    "display_ours_times('traintime-rz')"
   ]
  },
  {
   "cell_type": "code",
   "execution_count": null,
   "metadata": {
    "collapsed": false
   },
   "outputs": [],
   "source": [
    "display_ours_times('traintime-tf')"
   ]
  },
  {
   "cell_type": "code",
   "execution_count": null,
   "metadata": {
    "collapsed": false
   },
   "outputs": [],
   "source": [
    "dataset_averaged_frame(remove_columns_with_same_value(\n",
    "    clean_datasets(load_data_frame('data/models/paper/ours/cnt/shallow/traintime-rz/',\n",
    "                                  shorten_headers=False))))"
   ]
  },
  {
   "cell_type": "code",
   "execution_count": null,
   "metadata": {
    "collapsed": false
   },
   "outputs": [],
   "source": [
    "dataset_averaged_frame(remove_columns_with_same_value(\n",
    "    clean_datasets(load_data_frame('data/models/paper/ours/cnt/deep4/traintime-rz/',\n",
    "                                  shorten_headers=False))))"
   ]
  },
  {
   "cell_type": "markdown",
   "metadata": {},
   "source": [
    "### Old trianing times, unclear which queue"
   ]
  },
  {
   "cell_type": "code",
   "execution_count": null,
   "metadata": {
    "collapsed": false
   },
   "outputs": [],
   "source": [
    "dfn = restrict(shallow_cnt_default(tied_loss(above_0(square_shallow(df_shallow_cnt_bcic)))), drop_p='-')\n",
    "dataset_averaged_frame(remove_columns_with_same_value(dfn))"
   ]
  },
  {
   "cell_type": "code",
   "execution_count": null,
   "metadata": {
    "collapsed": false
   },
   "outputs": [],
   "source": [
    "dfn = no_bp_meaner(tied_loss(deep_5_new_default(above_0(elu_deep_5(df_deep_cnt_bcic)))))\n",
    "dataset_averaged_frame(remove_columns_with_same_value(dfn))"
   ]
  },
  {
   "cell_type": "code",
   "execution_count": null,
   "metadata": {
    "collapsed": false
   },
   "outputs": [],
   "source": [
    "dfn = restrict(shallow_cnt_default(tied_loss(above_0(square_shallow(df_shallow_cnt_ours)))), drop_p='-', tag='repl')\n",
    "dataset_averaged_frame(remove_columns_with_same_value(dfn))"
   ]
  },
  {
   "cell_type": "code",
   "execution_count": null,
   "metadata": {
    "collapsed": false
   },
   "outputs": [],
   "source": [
    "dfn = no_bp_meaner(tied_loss(deep_5_new_default(above_0(elu_deep_5(df_deep_cnt_ours)))))\n",
    "dataset_averaged_frame(remove_columns_with_same_value(dfn))"
   ]
  },
  {
   "cell_type": "markdown",
   "metadata": {},
   "source": [
    "### New ours Run"
   ]
  },
  {
   "cell_type": "code",
   "execution_count": null,
   "metadata": {
    "collapsed": false,
    "scrolled": true
   },
   "outputs": [],
   "source": [
    "remove_columns_with_same_value(load_data_frame('data/models/paper/ours-before-cz-0/csp/car/'))"
   ]
  },
  {
   "cell_type": "code",
   "execution_count": null,
   "metadata": {
    "collapsed": true
   },
   "outputs": [],
   "source": [
    "df_deep_ours_new = load_data_frame('data/models/paper/ours/cnt/deep5/', shorten_headers=False)"
   ]
  },
  {
   "cell_type": "code",
   "execution_count": null,
   "metadata": {
    "collapsed": false
   },
   "outputs": [],
   "source": [
    "avgd = dataset_averaged_frame(remove_columns_with_same_value(df_deep_ours_new))"
   ]
  },
  {
   "cell_type": "code",
   "execution_count": null,
   "metadata": {
    "collapsed": true
   },
   "outputs": [],
   "source": [
    "df_shallow_ours_new = load_data_frame('data/models/paper/ours/cnt/shallow/', shorten_headers=False)"
   ]
  },
  {
   "cell_type": "code",
   "execution_count": null,
   "metadata": {
    "collapsed": false
   },
   "outputs": [],
   "source": [
    "dataset_averaged_frame(remove_columns_with_same_value(df_shallow_ours_new))"
   ]
  },
  {
   "cell_type": "code",
   "execution_count": null,
   "metadata": {
    "collapsed": true
   },
   "outputs": [],
   "source": [
    "def strfdelta(tdelta, fmt):\n",
    "    \"\"\"For numpy timedelta, modified from\n",
    "    http://stackoverflow.com/a/8907269/1469195\"\"\"\n",
    "    d = {\"days\": tdelta.astype('timedelta64[D]').astype(np.int32)}\n",
    "    # only those seconds not absorbed by day\n",
    "    seconds = tdelta.astype('timedelta64[s]').astype(np.int32) % (3600 * 24)\n",
    "   \n",
    "    d[\"hours\"], rem = divmod(seconds, 3600)\n",
    "    d[\"minutes\"], d[\"seconds\"] = divmod(rem, 60)\n",
    "    return fmt.format(**d)"
   ]
  },
  {
   "cell_type": "code",
   "execution_count": null,
   "metadata": {
    "collapsed": false
   },
   "outputs": [],
   "source": [
    "time_lens = np.array(avgd['time', 'len'])\n",
    "time_means = np.array(avgd['time', 'tmean'])\n",
    "\n",
    "n_open_exps_per_variant = 20 - time_lens\n",
    "n_open_exps = np.sum(n_open_exps_per_variant)\n",
    "remaining_time_per_variant = n_open_exps_per_variant * time_means\n",
    "\n",
    "avg_time_per_exp = np.sum(time_means * time_lens) / float(np.sum(time_lens))\n",
    "total_time = n_open_exps * avg_time_per_exp\n",
    "print strfdelta(np.sum(remaining_time_per_variant) / 14.0, \"{days} days {hours}:{minutes}:{seconds}\")"
   ]
  },
  {
   "cell_type": "code",
   "execution_count": null,
   "metadata": {
    "collapsed": false
   },
   "outputs": [],
   "source": [
    "dataset_averaged_frame(remove_columns_with_same_value(load_data_frame('data/models/paper/ours/epo/shallow//')))"
   ]
  },
  {
   "cell_type": "code",
   "execution_count": null,
   "metadata": {
    "collapsed": false
   },
   "outputs": [],
   "source": [
    "dataset_averaged_frame(remove_columns_with_same_value(load_data_frame('data/models/paper/ours/epo/deep4/')))"
   ]
  },
  {
   "cell_type": "code",
   "execution_count": null,
   "metadata": {
    "collapsed": false
   },
   "outputs": [],
   "source": [
    "dataset_averaged_frame(remove_columns_with_same_value(df_csp_ours))"
   ]
  },
  {
   "cell_type": "code",
   "execution_count": null,
   "metadata": {
    "collapsed": false
   },
   "outputs": [],
   "source": [
    "df_shallow_wanted = tied_loss(square_shallow(shallow_cnt_default(yes_drop(yes_bnorm(above_4(df_clean))))))"
   ]
  },
  {
   "cell_type": "code",
   "execution_count": null,
   "metadata": {
    "collapsed": true
   },
   "outputs": [],
   "source": [
    "df_shallow_wanted = remove_columns_with_same_value(df_shallow_wanted)"
   ]
  },
  {
   "cell_type": "code",
   "execution_count": null,
   "metadata": {
    "collapsed": false
   },
   "outputs": [],
   "source": [
    "dataset_averaged_frame(remove_columns_with_same_value(df_shallow_wanted))"
   ]
  },
  {
   "cell_type": "code",
   "execution_count": null,
   "metadata": {
    "collapsed": true
   },
   "outputs": [],
   "source": [
    "df_csp_wanted = remove_columns_with_same_value(csp_above_4(df_csp_ours_clean))"
   ]
  },
  {
   "cell_type": "code",
   "execution_count": null,
   "metadata": {
    "collapsed": false
   },
   "outputs": [],
   "source": [
    "dataset_averaged_frame(df_csp_wanted)"
   ]
  },
  {
   "cell_type": "code",
   "execution_count": null,
   "metadata": {
    "collapsed": false
   },
   "outputs": [],
   "source": [
    "compare_csp_net(df_shallow_wanted, df_csp_wanted,'shallow', '4', 'ours',with_csp_acc=True,with_std=True,\n",
    "               with_std_error=True)"
   ]
  },
  {
   "cell_type": "code",
   "execution_count": null,
   "metadata": {
    "collapsed": false
   },
   "outputs": [],
   "source": [
    "dataset_averaged_frame(remove_columns_with_same_value(df_csp_ours_clean))"
   ]
  },
  {
   "cell_type": "code",
   "execution_count": null,
   "metadata": {
    "collapsed": false
   },
   "outputs": [],
   "source": [
    "df_clean = df_shallow_ours_new.copy()\n",
    "df_csp_ours_clean = df_csp_ours.copy\n",
    "for name in unclean_sets:\n",
    "    df_clean = df_clean[np.logical_not(df_clean.dataset_filename.str.contains(name))]\n",
    "    df_csp_ours_clean = df_csp_ours_clean[np.logical_not(df_csp_ours_clean.dataset_filename.str.contains(name))]\n",
    "dataset_averaged_frame(remove_columns_with_same_value(df_clean))\n",
    "    "
   ]
  },
  {
   "cell_type": "code",
   "execution_count": null,
   "metadata": {
    "collapsed": true
   },
   "outputs": [],
   "source": [
    "\n",
    "df_csp_ours = load_data_frame('data/models/paper/ours/csp/', shorten_headers=False)"
   ]
  },
  {
   "cell_type": "code",
   "execution_count": null,
   "metadata": {
    "collapsed": false
   },
   "outputs": [],
   "source": [
    "dataset_averaged_frame(remove_columns_with_same_value(df_csp_ours))"
   ]
  },
  {
   "cell_type": "code",
   "execution_count": null,
   "metadata": {
    "collapsed": true
   },
   "outputs": [],
   "source": [
    "df_clean_csp = df_csp_ours.copy()\n",
    "for name in unclean_sets:\n",
    "    df_clean_csp = df_clean_csp[np.logical_not(df_clean_csp.dataset_filename.str.contains(name))]\n",
    "dataset_averaged_frame(remove_columns_with_same_value(df_clean_csp))\n",
    "    "
   ]
  },
  {
   "cell_type": "markdown",
   "metadata": {},
   "source": [
    "### Compare with more epochs"
   ]
  },
  {
   "cell_type": "code",
   "execution_count": null,
   "metadata": {
    "collapsed": false
   },
   "outputs": [],
   "source": [
    "param_keys"
   ]
  },
  {
   "cell_type": "code",
   "execution_count": null,
   "metadata": {
    "collapsed": false
   },
   "outputs": [],
   "source": [
    "df_ours = df_shallow_cnt_ours\n",
    "\n",
    "param_keys = df_ours.columns\n",
    "\n",
    "param_keys = set(param_keys) - set(['test', 'train', 'time', 'max_epochs', 'max_increasing_epochs'])\n",
    "\n",
    "df_long = df_ours[df_ours.max_increasing_epochs == 160]\n",
    "df_quick = df_ours[df_ours.max_increasing_epochs == 80]\n",
    "\n",
    "df_merged = df_long.merge(df_quick, on=list(param_keys), suffixes=('_long', '_quick'))\n",
    "\n",
    "plt.plot(df_merged.test_long - df_merged.test_quick)\n",
    "plt.axhline(y=0, color='k')\n",
    "print np.mean(df_merged.test_long - df_merged.test_quick)"
   ]
  },
  {
   "cell_type": "code",
   "execution_count": null,
   "metadata": {
    "collapsed": false
   },
   "outputs": [],
   "source": [
    "df_ours = df_deep_cnt_ours\n",
    "\n",
    "param_keys = df_ours.columns\n",
    "\n",
    "param_keys = set(param_keys) - set(['test', 'train', 'time', 'max_epochs', 'max_increasing_epochs'])\n",
    "\n",
    "df_long = df_ours[df_ours.max_increasing_epochs == 160]\n",
    "df_quick = df_ours[df_ours.max_increasing_epochs == 80]\n",
    "\n",
    "df_merged = df_long.merge(df_quick, on=list(param_keys), suffixes=('_long', '_quick'))\n",
    "\n",
    "plt.plot(df_merged.test_long - df_merged.test_quick)\n",
    "plt.axhline(y=0, color='k')\n",
    "print np.mean(df_merged.test_long - df_merged.test_quick)"
   ]
  },
  {
   "cell_type": "markdown",
   "metadata": {},
   "source": [
    "### Vs different trials"
   ]
  },
  {
   "cell_type": "code",
   "execution_count": null,
   "metadata": {
    "collapsed": false
   },
   "outputs": [],
   "source": [
    "df_ours = df_shallow_cnt_ours\n",
    "\n",
    "param_keys = df_ours.columns\n",
    "\n",
    "param_keys = set(param_keys) - set(['test', 'train', 'time', 'max_epochs', 'max_increasing_epochs', 'trial_start'])\n",
    "\n",
    "df_long = df_ours[df_ours.trial_start == 2000]\n",
    "df_quick = df_ours[df_ours.max_increasing_epochs == 80]\n",
    "\n",
    "df_merged = df_long.merge(df_quick, on=list(param_keys), suffixes=('_long', '_quick'))\n",
    "\n",
    "plt.plot(df_merged.test_long - df_merged.test_quick)\n",
    "plt.axhline(y=0, color='k')\n",
    "print np.mean(df_merged.test_long - df_merged.test_quick)"
   ]
  },
  {
   "cell_type": "code",
   "execution_count": null,
   "metadata": {
    "collapsed": false
   },
   "outputs": [],
   "source": [
    "df_ours = df_deep_cnt_ours\n",
    "\n",
    "param_keys = df_ours.columns\n",
    "\n",
    "param_keys = set(param_keys) - set(['test', 'train', 'time', 'max_epochs', 'max_increasing_epochs', 'trial_start'])\n",
    "\n",
    "df_long = df_ours[df_ours.trial_start == 2000]\n",
    "df_quick = df_ours[df_ours.max_increasing_epochs == 80]\n",
    "\n",
    "df_merged = df_long.merge(df_quick, on=list(param_keys), suffixes=('_long', '_quick'))\n",
    "\n",
    "plt.plot(df_merged.test_long - df_merged.test_quick)\n",
    "plt.axhline(y=0, color='k')\n",
    "print np.mean(df_merged.test_long - df_merged.test_quick)"
   ]
  }
 ],
 "metadata": {
  "kernelspec": {
   "display_name": "Python 2",
   "language": "python",
   "name": "python2"
  },
  "language_info": {
   "codemirror_mode": {
    "name": "ipython",
    "version": 2
   },
   "file_extension": ".py",
   "mimetype": "text/x-python",
   "name": "python",
   "nbconvert_exporter": "python",
   "pygments_lexer": "ipython2",
   "version": "2.7.6"
  }
 },
 "nbformat": 4,
 "nbformat_minor": 0
}
