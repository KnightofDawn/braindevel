{
 "cells": [
  {
   "cell_type": "markdown",
   "metadata": {},
   "source": [
    "## BCI Competition 4 Dataset 2a Results"
   ]
  },
  {
   "cell_type": "markdown",
   "metadata": {},
   "source": [
    "All results are test accuracy from 5-fold cross validation (in percent, mean over all 9 subjects). I show both blockwise cross validation, i.e., the test fold is one \"timeblock\" with all trials of a certain timeperiod, as well as shuffled cross validation, where the test fold can consist of any randomly selected trials from the data (but still has no trials in common with the train fold). We predict trialwise, so we do not do any continous samplewise prediction (I assume they did the same in their paper).\n",
    "\n",
    "\n",
    "The train folds have sizes $\\frac{4}{5} \\cdot 576 \\approx 461$, test folds $\\frac{1}{5} \\cdot 576 \\approx 115$.\n",
    "\n",
    "I report for three different forward/causal highpass filters, explanation below.\n",
    "\n",
    "|Method|Highpass (Hz)|Sampling Rate (Hz)|Blockwise (%)|Shuffled (%)|\n",
    "|-|-|-|\n",
    "|CSP+CNN =>SFM (theirs)|x|250|69.27(?)|69.27(?)|\n",
    "| FBCSP (theirs)|x|250|67.01(?)|67.01(?)|\n",
    "|Raw Net |0.5 |150|76.19|77.78|\n",
    "|Raw Net |2.0 |150|71.78|72.68|\n",
    "|Raw Net |4.0 |150|69.89|71.18|\n",
    "|Raw Net |0.5 |250|76.75|77.66|\n",
    "|Raw Net |2.0 |250|71.07|72.45|\n",
    "|Raw Net |4.0 |250|70.28|70.77|\n",
    "|FB Net  |0.5 |150|74.04|~76%|\n",
    "|FB Net  |2.0 |150|73.90|~75%|\n",
    "|FB Net  |4.0 |150|72.30|~74%|\n",
    "|FB Net  |0.5 |250|~71%|~72%|\n",
    "|FB Net  |2.0 |250|~72%|~72%|\n",
    "|FB Net  |4.0 |250|~72%|~71%|"
   ]
  },
  {
   "cell_type": "markdown",
   "metadata": {},
   "source": [
    "###Notes:\n",
    "\n",
    "* Results with *~* are estimations based on finished datasets. FB Net with 150 Hz shuffled should be finished by tuesday, with 250 Hz finished until end of week.\n",
    "* They use 500-2500ms, we use 0-4000ms. There was no constraint from the original dataset description. In the competition you originally had to predict samplewise, not trialwise, e.g. by shifting a window over all samples. Only constraint was to only use data from the past up to the current sample to predict the current sample. I could rerun with their timewindow if wanted. I originally ran with >0.5 Hz and their timewindow and 150 Hz and had 74.08% for raw net and 73.86% for fb net.\n",
    "* FB Net with higher highpass, also has less frequency bands, removing band from 0.5-1Hz and from 1-3Hz respectively.\n",
    "* EOG artifacts need to be filtered out, maybe we use them? Quote from dataset description for competition:\n",
    "> Since three EOG channels are provided, it is required to remove EOG artifacts before the subsequent data processing using artifact removal techniques such as highpass filtering or linear regression.  In order to enable the application of other correction methods, we have opted for a maximum transparency approach and provided the EOG channels; at the same time we request that artifacts do not influence the classication result.\n",
    "\n",
    "     * At the moment I do not reject any trials or channels. This is the easiest setup as I do not have to change anything for running it on the unclean test set. I also assume they do not do any cleaning and that they believe their frequency bands (between 4 and 40 Hz) are relatively artifact free. So probably only our results above 4 Hz are comparable.\n",
    "* We do not know if they shuffled or didn't shuffle for their cross validation.\n",
    "* I do the highpass before even for the fb net, where it does not make much sense (since there is a bandpass after). This is just a legacy from the master thesis idea that every net should have as identical an input as possible. I can rerun fb net without highpass before, although that should not make a big difference (I think?), only that maybe minimally less relevant samples are shifted out of the time window by only doing forward filtering once.\n",
    "* Nets are identical to master thesis except for weight initialization"
   ]
  },
  {
   "cell_type": "markdown",
   "metadata": {},
   "source": [
    "## Details"
   ]
  },
  {
   "cell_type": "markdown",
   "metadata": {},
   "source": [
    "All subjects for fb net/raw net 150 Hz unshuffled compared to their (best net and fbcsp) methods."
   ]
  },
  {
   "cell_type": "markdown",
   "metadata": {},
   "source": [
    "|Subject | SFM | FBCSP|Raw|FB|\n",
    "|-|-|-|-|-|\n",
    "| S1 | 77.14 | 79.16 |75.20|80.04|\n",
    "| S2 | 49.82 | 52.08 |46.70|54.85|\n",
    "| S2 | 80.41 | 83.33 |86.45|81.25|\n",
    "| S4 | 53.88 | 62.15 |65.45|63.03|\n",
    "| S5 | 65.47 | 54.51 |45.83|73.44|\n",
    "| S6 | 48.70 | 39.24 |58.17|54.18|\n",
    "| S7 | 81.37 | 83.33 |86.46|90.10|\n",
    "| S8 | 84.39 | 82.64 |82.46|80.02|\n",
    "| S9 | 82.29 | 66.67 |82.30|73.78|\n",
    "|Avg | 69.27 | 67.01 |69.89|72.30|"
   ]
  }
 ],
 "metadata": {
  "kernelspec": {
   "display_name": "Python 2",
   "language": "python",
   "name": "python2"
  },
  "language_info": {
   "codemirror_mode": {
    "name": "ipython",
    "version": 2
   },
   "file_extension": ".py",
   "mimetype": "text/x-python",
   "name": "python",
   "nbconvert_exporter": "python",
   "pygments_lexer": "ipython2",
   "version": "2.7.6"
  }
 },
 "nbformat": 4,
 "nbformat_minor": 0
}
