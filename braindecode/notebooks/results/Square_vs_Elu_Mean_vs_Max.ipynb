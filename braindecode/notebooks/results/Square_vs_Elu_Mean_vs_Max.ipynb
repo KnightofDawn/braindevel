{
 "cells": [
  {
   "cell_type": "markdown",
   "metadata": {},
   "source": [
    "# Square vs Elu, Mean vs Max Pool"
   ]
  },
  {
   "cell_type": "markdown",
   "metadata": {},
   "source": [
    "I have tested following variants for our shallownet:\n",
    "\n",
    "* square or elu nonlinearity\n",
    "* mean or max pooling\n",
    "\n",
    "After squaring, the model takes the logarithm of the pooled output, i.e. square+log in tables below either means square+max+log or square+mean+log.\n",
    "\n",
    "I tested for:\n",
    "* 0-4 Hz: 4 Hz lowpass\n",
    "* $>$0 Hz: No low/high/bandpass at all\n",
    "* $>$4 Hz: 4 Hz highpass\n",
    "\n",
    "\n",
    "Bolded are the results from our current model (i.e. square+mean+log).\n",
    "\n",
    "Be aware:\n",
    "* Samplewise trained models have an input window of ~2 seconds to predict a sample\n",
    "* Trialwise trained models use the entire 4 second trial to make a single prediction for the trial\n",
    "\n",
    "\n",
    "Overall results are still open to interpretation I think:\n",
    "* square+mean+log better for higher frequencies, elu+max better for lower frequencies (exception: bci competition trialwise for higher frequencies, somewhat bci competition samplewise for lower frequencies)\n"
   ]
  },
  {
   "cell_type": "markdown",
   "metadata": {},
   "source": [
    "## BCI Competition"
   ]
  },
  {
   "cell_type": "markdown",
   "metadata": {},
   "source": [
    "### Trialwise Training"
   ]
  },
  {
   "cell_type": "markdown",
   "metadata": {},
   "source": [
    "|band|pool|square+log|elu|\n",
    "|-|\n",
    "|0-4|mean|**58.9**|60.6|\n",
    "|0-4|max|56.9|64.6|\n",
    "|>0|mean|**69.8**|63.9|\n",
    "|>0|max|65.8|73.0|\n",
    "|>4|mean|**68.5**|73.0|\n",
    "|>4|max|65.1|63.4|"
   ]
  },
  {
   "cell_type": "markdown",
   "metadata": {},
   "source": [
    "### Samplewise Training"
   ]
  },
  {
   "cell_type": "markdown",
   "metadata": {},
   "source": [
    "|band|pool|square+log|elu|\n",
    "|-|\n",
    "|0-4|mean|**61.4**|48.1|\n",
    "|0-4|max|61.7|59.7|\n",
    "|>0|mean|**74.4**|64.8|\n",
    "|>0|max|71.2|67.9|\n",
    "|>4|mean|**67.8**|66.0|\n",
    "|>4|max|69.1|64.0|"
   ]
  },
  {
   "cell_type": "markdown",
   "metadata": {},
   "source": [
    "## Ours"
   ]
  },
  {
   "cell_type": "markdown",
   "metadata": {},
   "source": [
    "### Trialwise training"
   ]
  },
  {
   "cell_type": "markdown",
   "metadata": {},
   "source": [
    "|band|pool|square+log|elu|\n",
    "|-|\n",
    "|0-4|mean|**76.3**|78.0|\n",
    "|0-4|max|82.1|83.3|\n",
    "|>0|mean|**89.3**|83.9|\n",
    "|>0|max|89.8|90.9|\n",
    "|>4|mean|**91.4**|90.9|\n",
    "|>4|max|88.2|87.6|"
   ]
  },
  {
   "cell_type": "markdown",
   "metadata": {},
   "source": [
    "### Samplewise Training"
   ]
  },
  {
   "cell_type": "markdown",
   "metadata": {},
   "source": [
    "|band|pool|square+log|elu|\n",
    "|-|\n",
    "|0-4|mean|**75.7**|74.5|\n",
    "|0-4|max|78.3|82.8|\n",
    "|>0|mean|**87.8**|84.4|\n",
    "|>0|max|87.4|87.8|\n",
    "|>4|mean|**93.0**|88.2|\n",
    "|>4|max|89.9|88.6|"
   ]
  },
  {
   "cell_type": "markdown",
   "metadata": {},
   "source": [
    "# Appendix: Results including square without log"
   ]
  },
  {
   "cell_type": "markdown",
   "metadata": {},
   "source": [
    " I also tested without taking the logarithm but that was mostly either similar or much worse (even training not stable in some cases)."
   ]
  },
  {
   "cell_type": "markdown",
   "metadata": {},
   "source": [
    "## BCI Competition"
   ]
  },
  {
   "cell_type": "markdown",
   "metadata": {},
   "source": [
    "### Trialwise Training"
   ]
  },
  {
   "cell_type": "markdown",
   "metadata": {},
   "source": [
    "|band|pool|square+log|square|elu|\n",
    "|-|\n",
    "|0-4|mean|**58.9**|53.2|60.6|\n",
    "|0-4|max|56.9|50.5|64.6|\n",
    "|>0|mean|**69.8**|67.9|63.9|\n",
    "|>0|max|65.8|48.0|73.0|\n",
    "|>4|mean|**68.5**|65.4|73.0|\n",
    "|>4|max|65.1|43.4|63.4|"
   ]
  },
  {
   "cell_type": "markdown",
   "metadata": {},
   "source": [
    "### Samplewise Training"
   ]
  },
  {
   "cell_type": "markdown",
   "metadata": {},
   "source": [
    "|band|pool|square+log|square|elu|\n",
    "|-|\n",
    "|0-4|mean|61.4|58.9|48.1|\n",
    "|0-4|max|61.7|60.7|59.7|\n",
    "|>0|mean|74.4|72.7|64.8|\n",
    "|>0|max|71.2|64.1|67.9|\n",
    "|>4|mean|67.8|69.8|66.0|\n",
    "|>4|max|69.1|61.9|64.0|"
   ]
  },
  {
   "cell_type": "markdown",
   "metadata": {},
   "source": [
    "## Ours"
   ]
  },
  {
   "cell_type": "markdown",
   "metadata": {},
   "source": [
    "### Trialwise training"
   ]
  },
  {
   "cell_type": "markdown",
   "metadata": {},
   "source": [
    "|band|pool|square+log|square|elu|\n",
    "|-|\n",
    "|0-4|mean|**76.3**|76.8|78.0|\n",
    "|0-4|max|82.1|78.1|83.3|\n",
    "|>0|mean|**89.3**|88.7|83.9|\n",
    "|>0|max|89.8|88.3|90.9|\n",
    "|>4|mean|91.4|90.2|90.9|\n",
    "|>4|max|88.2|81.7|87.6|"
   ]
  },
  {
   "cell_type": "markdown",
   "metadata": {},
   "source": [
    "### Samplewise Training"
   ]
  },
  {
   "cell_type": "markdown",
   "metadata": {},
   "source": [
    "|band|pool|square+log|square|elu|\n",
    "|-|\n",
    "|0-4|mean|**75.7**|77.3|74.5|\n",
    "|0-4|max|78.3|78.5|82.8|\n",
    "|>0|mean|**87.8**|88.2|84.4|\n",
    "|>0|max|87.4|87.6|87.8|\n",
    "|>4|mean|**93.0**|92.9|88.2|\n",
    "|>4|max|89.9|88.3|88.6|"
   ]
  },
  {
   "cell_type": "code",
   "execution_count": 3,
   "metadata": {
    "collapsed": false
   },
   "outputs": [],
   "source": [
    "%%capture\n",
    "import os\n",
    "import site\n",
    "site.addsitedir('/home/schirrmr/.local/lib/python2.7/site-packages/')\n",
    "site.addsitedir('/usr/lib/pymodules/python2.7/')\n",
    "os.sys.path.insert(0, '/home/schirrmr/braindecode/code/')\n",
    "%cd /home/schirrmr/braindecode/code/braindecode/\n",
    "assert 'THEANO_FLAGS' in os.environ\n",
    "# switch to cpu\n",
    "os.environ['THEANO_FLAGS'] = 'floatX=float32,device=cpu,nvcc.fastmath=True'\n",
    "%load_ext autoreload\n",
    "%autoreload 2\n",
    "import numpy as np\n",
    "\n",
    "import matplotlib\n",
    "from matplotlib import pyplot as plt\n",
    "from matplotlib import cm\n",
    "%matplotlib inline\n",
    "%config InlineBackend.figure_format = 'png' \n",
    "\n",
    "import matplotlib.lines as mlines\n",
    "import seaborn\n",
    "matplotlib.rcParams['figure.figsize'] = (12.0, 3.0)\n",
    "matplotlib.rcParams['font.size'] = 7\n",
    "seaborn.set_style('darkgrid')\n",
    "\n",
    "from braindecode.scripts.print_results import ResultPrinter\n",
    "from braindecode.csp.print_results import CSPResultPrinter\n",
    "import logging\n",
    "log = logging.getLogger()\n",
    "log.setLevel(\"DEBUG\")"
   ]
  }
 ],
 "metadata": {
  "kernelspec": {
   "display_name": "Python 2",
   "language": "python",
   "name": "python2"
  },
  "language_info": {
   "codemirror_mode": {
    "name": "ipython",
    "version": 2
   },
   "file_extension": ".py",
   "mimetype": "text/x-python",
   "name": "python",
   "nbconvert_exporter": "python",
   "pygments_lexer": "ipython2",
   "version": "2.7.6"
  }
 },
 "nbformat": 4,
 "nbformat_minor": 0
}
