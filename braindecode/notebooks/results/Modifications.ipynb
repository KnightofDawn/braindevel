{
 "cells": [
  {
   "cell_type": "markdown",
   "metadata": {},
   "source": [
    "# Modifications"
   ]
  },
  {
   "cell_type": "markdown",
   "metadata": {},
   "source": [
    "I show different modifications, always compared to current baseline for shallow/deep5, bci competition/our data.\n",
    "\n",
    "Std is standard deviations of differences (std over the 9/20 datasets). Perm is p-value of one-sided permutation/randomization test. I bolded those below 0.01."
   ]
  },
  {
   "cell_type": "markdown",
   "metadata": {},
   "source": [
    "## BCI Competition"
   ]
  },
  {
   "cell_type": "markdown",
   "metadata": {},
   "source": [
    "Be aware that variance of results on BCI competition is quite high. Even reruns of exact same configuration can vary up to 2% (this is most extreme I have seen... normally it is below 1% atleast, difference can only be due to a bug on my side or due to cudnn's inherent randomness))."
   ]
  },
  {
   "cell_type": "markdown",
   "metadata": {},
   "source": [
    "### Shallow"
   ]
  },
  {
   "cell_type": "markdown",
   "metadata": {},
   "source": [
    "Baseline is log(mean(square)) with  split first convolution, tied loss, dropout and batch norm.\n",
    "\n",
    "\n",
    "|Variant|Acc|Diff|Std|Perm|\n",
    "|-|\n",
    "|Baseline|74.4|-|-|-|\n",
    "|sqrt(mean(square))|69.4|-4.9|4.4|**0.0098**|\n",
    "|log(mean(square(elu)))|72.2|-2.2|2.8|0.043|\n",
    "|max(elu)|67.9|-6.5|2.8|**0.002**|\n",
    "|mean(elu)|64.8|-9.6|5.5|**0.004**|\n",
    "|No Dropout|73.3|-1.1|2.7|0.15|\n",
    "|No BatchNorm|68.8|-5.6|5.5|**0.002**|\n",
    "|No BatchNorm No Dropout|68.8|-5.6|5.5|**0.002**|\n",
    "|Single Convolution|70.0|-4.4|2.8|**0.002**|\n",
    "|Only Crossentropy|72.5|-1.9|4.7|0.19|\n",
    "\n",
    "(0.002 is the lowest possible result of this randomization/permutation test for 9 datasets) \n",
    "\n",
    "[Details](Modifications_Shallow_BCI_Competition.ipynb)"
   ]
  },
  {
   "cell_type": "markdown",
   "metadata": {},
   "source": [
    "### Deep 5"
   ]
  },
  {
   "cell_type": "markdown",
   "metadata": {},
   "source": [
    "Baseline is max(elu) with split first convolution, 10x1 filters, tied loss, dropout and batch norm.\n",
    "\n",
    "|Variant|Acc|Diff|Std|Perm|\n",
    "|-|\n",
    "|Baseline (max(elu))|70.3|-|-|-|\n",
    "|log(mean(square))|61.8|-8.5|6.1|**0.002**|\n",
    "|log(mean(square))|33.5|-36.8|20.2|**0.002**|\n",
    "|log(max(square)) first|61.6|-8.7|5.3|**0.004**|\n",
    "|log(max(square)) all|29.2|-41.1|15.6|**0.002**|\n",
    "|No Dropout|63.0|-7.3|3.8|**0.002**|\n",
    "|No Batch Norm|65.6|-4.7|10.0|0.11|\n",
    "|No Batch Norm No Dropout|62.1|-8.2|11.2|0.04|\n",
    "|Only Crossentropy|70.1|-0.3|4.6|0.43|\n",
    "|Single first conv|71.3|1.0|1.4|0.05|\n",
    "|6x6 filters|69.6|-0.7|8.9|0.42|\n",
    "\n",
    "\n",
    "(0.002 is the lowest possible result of this randomization/permutation test for 9 datasets) \n",
    "\n",
    "[Details](./Modifications_Deep_BCI_Competition.ipynb)"
   ]
  },
  {
   "cell_type": "markdown",
   "metadata": {},
   "source": [
    "## Our Data"
   ]
  },
  {
   "cell_type": "markdown",
   "metadata": {},
   "source": [
    "### Shallow"
   ]
  },
  {
   "cell_type": "markdown",
   "metadata": {},
   "source": [
    "Baseline is log(mean(square)) with  split first convolution, tied loss, dropout and batch norm.\n"
   ]
  },
  {
   "cell_type": "markdown",
   "metadata": {},
   "source": [
    "|Variant|Acc|Diff|Std|Perm|\n",
    "|-|\n",
    "|Baseline|87.9|-|-|-|\n",
    "|sqrt(mean(square))|84.8|-3.1|4.3|**3e-4**|\n",
    "|log(mean(square(elu)))|88.4|0.5|2.9|0.24|\n",
    "|max(elu)|87.8|-0.1|3.5|0.47|\n",
    "|mean(elu)|84.4|-3.5|5.9|**0.0053**|\n",
    "|No Dropout|87.2|-0.7|2.2|0.12|\n",
    "|No BatchNorm|85.2|-2.7|5.2|**0.0095**|\n",
    "|No BatchNorm No Dropout|83.7|-4.2|5.5|**2e-4**|\n",
    "|Single Convolution|84.1|-3.8|3.2|**1e-5**|\n",
    "|Only Crossentropy|88.1|0.2|2.2|0.3|\n",
    "\n",
    "\n",
    "[Details](./Modifications_Shallow_Our_Data.ipynb)"
   ]
  },
  {
   "cell_type": "markdown",
   "metadata": {},
   "source": [
    "### Deep 5"
   ]
  },
  {
   "cell_type": "markdown",
   "metadata": {},
   "source": [
    "Baseline is max(elu) with split first convolution, 10x1 filters, tied loss, dropout and batch norm.\n",
    "\n",
    "\n",
    "|Variant|Acc|Diff|Std|Perm|\n",
    "|-|\n",
    "|Baseline (max(elu))|90.1|-|-|-|\n",
    "|log(mean(square)) first|86.9|-3.1|4.6|**0.003**|\n",
    "|log(mean(square)) all|84.3|-5.8|6.8|**3e-4**|\n",
    "|log(max(square)) first|87.3|-2.8|5.2|0.014|\n",
    "|log(max(square)) all|84.5|-5.6|7.7|**8e-4**|\n",
    "|No Dropout|90.8|0.8|4.3|0.23|\n",
    "|No Batch Norm|90.6|0.6|3.4|0.25|\n",
    "|No Batch Norm No Dropout|88.7|-1.4|5.0|0.12|\n",
    "|Only Crossentropy|89.7|-0.4|2.2|0.2|\n",
    "|Single first conv|87.1|-3.0|4.1|**9e-4**|\n",
    "|6x6 filters|89.9|-0.1|2.1|0.38|\n",
    "\n",
    "[Details](./Modifications_Deep_Our_Data.ipynb)"
   ]
  },
  {
   "cell_type": "markdown",
   "metadata": {},
   "source": [
    "## BCI Competition FFT"
   ]
  },
  {
   "cell_type": "markdown",
   "metadata": {},
   "source": [
    "My baseline is 0-124 Hz convnet, see Details.\n",
    "\n",
    "|Variant|Acc|Diff|Std|Perm|\n",
    "|-|\n",
    "|Baseline (0-124Hz, convnet)|47.5|-|-|-|\n",
    "|0-40Hz, convnet|56.4|8.9|8.5|0.004|\n",
    "|0-124 Hz, Linear model|44.1|-3.4|8.1|0.14|\n",
    "|0-40 Hz, convnet, amplitude^2|58.9|11.5|6.6|0.002|"
   ]
  }
 ],
 "metadata": {
  "kernelspec": {
   "display_name": "Python 2",
   "language": "python",
   "name": "python2"
  },
  "language_info": {
   "codemirror_mode": {
    "name": "ipython",
    "version": 2
   },
   "file_extension": ".py",
   "mimetype": "text/x-python",
   "name": "python",
   "nbconvert_exporter": "python",
   "pygments_lexer": "ipython2",
   "version": "2.7.6"
  }
 },
 "nbformat": 4,
 "nbformat_minor": 0
}
